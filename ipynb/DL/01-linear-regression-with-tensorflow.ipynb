{
 "cells": [
  {
   "cell_type": "code",
   "execution_count": null,
   "metadata": {},
   "outputs": [],
   "source": [
    "import tensorflow as tf"
   ]
  },
  {
   "cell_type": "code",
   "execution_count": 6,
   "metadata": {},
   "outputs": [
    {
     "data": {
      "text/plain": [
       "(<tf.Tensor: shape=(), dtype=float32, numpy=30.0>, 30.0)"
      ]
     },
     "execution_count": 6,
     "metadata": {},
     "output_type": "execute_result"
    }
   ],
   "source": [
    "a = tf.constant(5.0)\n",
    "b = tf.constant(6.0)\n",
    "\n",
    "c = a * b\n",
    "\n",
    "c, c.numpy()"
   ]
  },
  {
   "cell_type": "code",
   "execution_count": 8,
   "metadata": {},
   "outputs": [
    {
     "data": {
      "text/plain": [
       "array([10., 24.], dtype=float32)"
      ]
     },
     "execution_count": 8,
     "metadata": {},
     "output_type": "execute_result"
    }
   ],
   "source": [
    "a = tf.Variable([0, 0], dtype = tf.float32)\n",
    "b = tf.Variable([0, 0], dtype = tf.float32)\n",
    "\n",
    "a.assign([2, 4])\n",
    "b.assign([5, 6])\n",
    "\n",
    "c = a * b\n",
    "\n",
    "c.numpy()"
   ]
  },
  {
   "cell_type": "code",
   "execution_count": 38,
   "metadata": {},
   "outputs": [
    {
     "name": "stdout",
     "output_type": "stream",
     "text": [
      "y: [2. 4. 6. 8.]\n",
      "model: [0.        0.4       0.8000001 1.2      ]\n",
      "error: [-2.  -3.6 -5.2 -6.8]\n",
      "squared: [ 4.       12.959999 27.039997 46.24    ]\n",
      "loss: 22.56\n"
     ]
    }
   ],
   "source": [
    "x = tf.constant([1, 2, 3, 4], dtype = tf.float32)\n",
    "y = tf.constant([2, 4, 6, 8], dtype = tf.float32)\n",
    "\n",
    "b = tf.Variable([-0.4], dtype = tf.float32)\n",
    "w = tf.Variable([0.4], dtype = tf.float32)\n",
    "\n",
    "print(\"y:\", y.numpy())\n",
    "\n",
    "linear_model = b + (w * x)\n",
    "print(\"model:\", linear_model.numpy())\n",
    "\n",
    "errors = linear_model - y\n",
    "print(\"error:\", errors.numpy())\n",
    "\n",
    "squared_error = tf.square(errors)\n",
    "print(\"squared:\", squared_error.numpy())\n",
    "\n",
    "loss = tf.reduce_mean(squared_error)\n",
    "print(\"loss:\", loss.numpy())"
   ]
  },
  {
   "cell_type": "code",
   "execution_count": 39,
   "metadata": {},
   "outputs": [
    {
     "name": "stdout",
     "output_type": "stream",
     "text": [
      "0 loss: 22.559999465942383\n",
      "1 loss: 15.654745101928711\n",
      "2 loss: 10.863327026367188\n",
      "3 loss: 7.538661003112793\n",
      "4 loss: 5.231740474700928\n",
      "5 loss: 3.6310112476348877\n",
      "6 loss: 2.5202951431274414\n",
      "7 loss: 1.7495872974395752\n",
      "8 loss: 1.2148046493530273\n",
      "9 loss: 0.8437250852584839\n",
      "10 loss: 0.5862365365028381\n",
      "11 loss: 0.40756577253341675\n",
      "12 loss: 0.2835851013660431\n",
      "13 loss: 0.19755294919013977\n",
      "14 loss: 0.13785222172737122\n",
      "15 loss: 0.09642250090837479\n",
      "16 loss: 0.06767091155052185\n",
      "17 loss: 0.047716084867715836\n",
      "18 loss: 0.0338653102517128\n",
      "19 loss: 0.024250157177448273\n",
      "20 loss: 0.017573771998286247\n",
      "21 loss: 0.012936776503920555\n",
      "22 loss: 0.0097147636115551\n",
      "23 loss: 0.007474713958799839\n",
      "24 loss: 0.005915997549891472\n",
      "25 loss: 0.004830065183341503\n",
      "26 loss: 0.004072248470038176\n",
      "27 loss: 0.0035420903004705906\n",
      "28 loss: 0.003169930074363947\n",
      "29 loss: 0.002907466609030962\n",
      "30 loss: 0.002721083350479603\n",
      "31 loss: 0.0025875666178762913\n",
      "32 loss: 0.002490743063390255\n",
      "33 loss: 0.002419397933408618\n",
      "34 loss: 0.002365758642554283\n",
      "35 loss: 0.002324428642168641\n",
      "36 loss: 0.0022916756570339203\n",
      "37 loss: 0.0022648784797638655\n",
      "38 loss: 0.0022422675974667072\n",
      "39 loss: 0.0022225480061024427\n",
      "40 loss: 0.002204886870458722\n",
      "41 loss: 0.0021886855829507113\n",
      "42 loss: 0.0021734810434281826\n",
      "43 loss: 0.0021590327378362417\n",
      "44 loss: 0.0021451027132570744\n",
      "45 loss: 0.002131582936272025\n",
      "46 loss: 0.0021183553617447615\n",
      "47 loss: 0.0021053419914096594\n",
      "48 loss: 0.0020925255957990885\n",
      "49 loss: 0.0020798516925424337\n",
      "50 loss: 0.002067296067252755\n",
      "51 loss: 0.0020548678003251553\n",
      "52 loss: 0.002042524516582489\n",
      "53 loss: 0.0020302720367908478\n",
      "54 loss: 0.0020181124564260244\n",
      "55 loss: 0.0020060199312865734\n",
      "56 loss: 0.001994015648961067\n",
      "57 loss: 0.0019820916932076216\n",
      "58 loss: 0.001970225013792515\n",
      "59 loss: 0.0019584479741752148\n",
      "60 loss: 0.0019467368256300688\n",
      "61 loss: 0.001935088774189353\n",
      "62 loss: 0.0019235218642279506\n",
      "63 loss: 0.0019120126962661743\n",
      "64 loss: 0.0019005793146789074\n",
      "65 loss: 0.001889219507575035\n",
      "66 loss: 0.001877924078144133\n",
      "67 loss: 0.001866698614321649\n",
      "68 loss: 0.0018555375281721354\n",
      "69 loss: 0.0018444443121552467\n",
      "70 loss: 0.0018334207125008106\n",
      "71 loss: 0.0018224562518298626\n",
      "72 loss: 0.001811557449400425\n",
      "73 loss: 0.0018007280305027962\n",
      "74 loss: 0.0017899635713547468\n",
      "75 loss: 0.0017792569706216455\n",
      "76 loss: 0.0017686252249404788\n",
      "77 loss: 0.001758042024448514\n",
      "78 loss: 0.0017475319327786565\n",
      "79 loss: 0.0017370858695358038\n",
      "80 loss: 0.0017267054645344615\n",
      "81 loss: 0.0017163777956739068\n",
      "82 loss: 0.0017061139224097133\n",
      "83 loss: 0.001695922459475696\n",
      "84 loss: 0.001685778028331697\n",
      "85 loss: 0.0016756942495703697\n",
      "86 loss: 0.0016656736843287945\n",
      "87 loss: 0.0016557229682803154\n",
      "88 loss: 0.0016458176542073488\n",
      "89 loss: 0.0016359828878194094\n",
      "90 loss: 0.0016262064455077052\n",
      "91 loss: 0.0016164761036634445\n",
      "92 loss: 0.0016068154945969582\n",
      "93 loss: 0.0015972064575180411\n",
      "94 loss: 0.0015876558609306812\n",
      "95 loss: 0.001578158582560718\n",
      "96 loss: 0.0015687290579080582\n",
      "97 loss: 0.0015593417920172215\n",
      "98 loss: 0.0015500301960855722\n",
      "99 loss: 0.0015407605096697807\n",
      "bias: [0.09576148], weight: [1.9674294]\n"
     ]
    }
   ],
   "source": [
    "learning_rate = 0.01\n",
    "optimizer = tf.optimizers.SGD(learning_rate = learning_rate)\n",
    "\n",
    "epochs = 100\n",
    "\n",
    "for i in range(epochs):\n",
    "  with tf.GradientTape() as tape:\n",
    "    linear_model = b + (w * x)\n",
    "    errors = linear_model - y\n",
    "    squared_error = tf.square(errors)\n",
    "    loss = tf.reduce_mean(squared_error)\n",
    "    print(f\"{i} loss: {loss}\")\n",
    "\n",
    "  gradients = tape.gradient(loss, [b, w])\n",
    "\n",
    "  optimizer.apply_gradients(zip(gradients, [b, w]))\n",
    "\n",
    "print(f\"bias: {b.numpy()}, weight: {w.numpy()}\")"
   ]
  }
 ],
 "metadata": {
  "kernelspec": {
   "display_name": ".venv",
   "language": "python",
   "name": "python3"
  },
  "language_info": {
   "codemirror_mode": {
    "name": "ipython",
    "version": 3
   },
   "file_extension": ".py",
   "mimetype": "text/x-python",
   "name": "python",
   "nbconvert_exporter": "python",
   "pygments_lexer": "ipython3",
   "version": "3.10.11"
  }
 },
 "nbformat": 4,
 "nbformat_minor": 2
}
