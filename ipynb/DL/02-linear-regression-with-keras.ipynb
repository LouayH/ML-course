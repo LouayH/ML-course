{
 "cells": [
  {
   "cell_type": "code",
   "execution_count": 33,
   "metadata": {},
   "outputs": [],
   "source": [
    "from keras.models import Sequential\n",
    "from keras.layers import Input, Dense\n",
    "from keras.optimizers import SGD"
   ]
  },
  {
   "cell_type": "code",
   "execution_count": 29,
   "metadata": {},
   "outputs": [],
   "source": [
    "model = Sequential()\n",
    "\n",
    "# 1 feature per every example\n",
    "# model.add(Input(shape = 1))\n",
    "\n",
    "# 1 output node\n",
    "# model.add(Dense(units = 1, activation = \"linear\"))\n",
    "\n",
    "# implicitly declaring input layer in Dense\n",
    "model.add(Dense(input_shape = (1,), units = 1, activation = \"linear\"))\n",
    "\n",
    "model.compile(optimizer = \"sgd\", loss = \"mean_squared_error\", metrics = [\"mse\", \"mape\"])"
   ]
  },
  {
   "cell_type": "code",
   "execution_count": 30,
   "metadata": {},
   "outputs": [
    {
     "name": "stdout",
     "output_type": "stream",
     "text": [
      "Epoch 1/100\n",
      "2/2 [==============================] - 0s 5ms/step - loss: 8.6493 - mse: 8.6493 - mape: 54.7691\n",
      "Epoch 2/100\n",
      "2/2 [==============================] - 0s 5ms/step - loss: 3.8681 - mse: 3.8681 - mape: 32.8638\n",
      "Epoch 3/100\n",
      "2/2 [==============================] - 0s 8ms/step - loss: 1.8434 - mse: 1.8434 - mape: 23.5196\n",
      "Epoch 4/100\n",
      "2/2 [==============================] - 0s 7ms/step - loss: 0.9595 - mse: 0.9595 - mape: 13.4463\n",
      "Epoch 5/100\n",
      "2/2 [==============================] - 0s 5ms/step - loss: 0.4638 - mse: 0.4638 - mape: 8.3258\n",
      "Epoch 6/100\n",
      "2/2 [==============================] - 0s 6ms/step - loss: 0.2067 - mse: 0.2067 - mape: 6.4594\n",
      "Epoch 7/100\n",
      "2/2 [==============================] - 0s 5ms/step - loss: 0.1083 - mse: 0.1083 - mape: 5.2120\n",
      "Epoch 8/100\n",
      "2/2 [==============================] - 0s 5ms/step - loss: 0.0684 - mse: 0.0684 - mape: 4.3120\n",
      "Epoch 9/100\n",
      "2/2 [==============================] - 0s 8ms/step - loss: 0.0417 - mse: 0.0417 - mape: 3.7173\n",
      "Epoch 10/100\n",
      "2/2 [==============================] - 0s 5ms/step - loss: 0.0295 - mse: 0.0295 - mape: 3.9994\n",
      "Epoch 11/100\n",
      "2/2 [==============================] - 0s 6ms/step - loss: 0.0239 - mse: 0.0239 - mape: 3.6896\n",
      "Epoch 12/100\n",
      "2/2 [==============================] - 0s 7ms/step - loss: 0.0190 - mse: 0.0190 - mape: 3.6111\n",
      "Epoch 13/100\n",
      "2/2 [==============================] - 0s 6ms/step - loss: 0.0180 - mse: 0.0180 - mape: 3.6040\n",
      "Epoch 14/100\n",
      "2/2 [==============================] - 0s 9ms/step - loss: 0.0173 - mse: 0.0173 - mape: 3.5886\n",
      "Epoch 15/100\n",
      "2/2 [==============================] - 0s 8ms/step - loss: 0.0182 - mse: 0.0182 - mape: 3.6981\n",
      "Epoch 16/100\n",
      "2/2 [==============================] - 0s 7ms/step - loss: 0.0166 - mse: 0.0166 - mape: 3.5641\n",
      "Epoch 17/100\n",
      "2/2 [==============================] - 0s 6ms/step - loss: 0.0164 - mse: 0.0164 - mape: 3.5543\n",
      "Epoch 18/100\n",
      "2/2 [==============================] - 0s 7ms/step - loss: 0.0171 - mse: 0.0171 - mape: 3.6764\n",
      "Epoch 19/100\n",
      "2/2 [==============================] - 0s 6ms/step - loss: 0.0170 - mse: 0.0170 - mape: 3.6293\n",
      "Epoch 20/100\n",
      "2/2 [==============================] - 0s 9ms/step - loss: 0.0157 - mse: 0.0157 - mape: 3.5049\n",
      "Epoch 21/100\n",
      "2/2 [==============================] - 0s 5ms/step - loss: 0.0164 - mse: 0.0164 - mape: 3.6048\n",
      "Epoch 22/100\n",
      "2/2 [==============================] - 0s 5ms/step - loss: 0.0153 - mse: 0.0153 - mape: 3.4394\n",
      "Epoch 23/100\n",
      "2/2 [==============================] - 0s 6ms/step - loss: 0.0152 - mse: 0.0152 - mape: 3.4225\n",
      "Epoch 24/100\n",
      "2/2 [==============================] - 0s 11ms/step - loss: 0.0149 - mse: 0.0149 - mape: 3.4216\n",
      "Epoch 25/100\n",
      "2/2 [==============================] - 0s 6ms/step - loss: 0.0157 - mse: 0.0157 - mape: 3.5046\n",
      "Epoch 26/100\n",
      "2/2 [==============================] - 0s 7ms/step - loss: 0.0147 - mse: 0.0147 - mape: 3.3644\n",
      "Epoch 27/100\n",
      "2/2 [==============================] - 0s 5ms/step - loss: 0.0145 - mse: 0.0145 - mape: 3.3895\n",
      "Epoch 28/100\n",
      "2/2 [==============================] - 0s 6ms/step - loss: 0.0143 - mse: 0.0143 - mape: 3.3218\n",
      "Epoch 29/100\n",
      "2/2 [==============================] - 0s 8ms/step - loss: 0.0141 - mse: 0.0141 - mape: 3.3000\n",
      "Epoch 30/100\n",
      "2/2 [==============================] - 0s 5ms/step - loss: 0.0148 - mse: 0.0148 - mape: 3.4042\n",
      "Epoch 31/100\n",
      "2/2 [==============================] - 0s 6ms/step - loss: 0.0137 - mse: 0.0137 - mape: 3.3099\n",
      "Epoch 32/100\n",
      "2/2 [==============================] - 0s 10ms/step - loss: 0.0136 - mse: 0.0136 - mape: 3.2404\n",
      "Epoch 33/100\n",
      "2/2 [==============================] - 0s 6ms/step - loss: 0.0134 - mse: 0.0134 - mape: 3.2503\n",
      "Epoch 34/100\n",
      "2/2 [==============================] - 0s 8ms/step - loss: 0.0132 - mse: 0.0132 - mape: 3.1998\n",
      "Epoch 35/100\n",
      "2/2 [==============================] - 0s 9ms/step - loss: 0.0131 - mse: 0.0131 - mape: 3.1836\n",
      "Epoch 36/100\n",
      "2/2 [==============================] - 0s 11ms/step - loss: 0.0129 - mse: 0.0129 - mape: 3.1890\n",
      "Epoch 37/100\n",
      "2/2 [==============================] - 0s 7ms/step - loss: 0.0128 - mse: 0.0128 - mape: 3.1444\n",
      "Epoch 38/100\n",
      "2/2 [==============================] - 0s 8ms/step - loss: 0.0126 - mse: 0.0126 - mape: 3.1242\n",
      "Epoch 39/100\n",
      "2/2 [==============================] - 0s 8ms/step - loss: 0.0125 - mse: 0.0125 - mape: 3.1057\n",
      "Epoch 40/100\n",
      "2/2 [==============================] - 0s 6ms/step - loss: 0.0124 - mse: 0.0124 - mape: 3.1233\n",
      "Epoch 41/100\n",
      "2/2 [==============================] - 0s 7ms/step - loss: 0.0122 - mse: 0.0122 - mape: 3.0693\n",
      "Epoch 42/100\n",
      "2/2 [==============================] - 0s 5ms/step - loss: 0.0121 - mse: 0.0121 - mape: 3.0520\n",
      "Epoch 43/100\n",
      "2/2 [==============================] - 0s 5ms/step - loss: 0.0119 - mse: 0.0119 - mape: 3.0582\n",
      "Epoch 44/100\n",
      "2/2 [==============================] - 0s 5ms/step - loss: 0.0125 - mse: 0.0125 - mape: 3.1246\n",
      "Epoch 45/100\n",
      "2/2 [==============================] - 0s 8ms/step - loss: 0.0122 - mse: 0.0122 - mape: 3.1109\n",
      "Epoch 46/100\n",
      "2/2 [==============================] - 0s 8ms/step - loss: 0.0115 - mse: 0.0115 - mape: 3.0064\n",
      "Epoch 47/100\n",
      "2/2 [==============================] - 0s 9ms/step - loss: 0.0113 - mse: 0.0113 - mape: 2.9672\n",
      "Epoch 48/100\n",
      "2/2 [==============================] - 0s 6ms/step - loss: 0.0112 - mse: 0.0112 - mape: 2.9396\n",
      "Epoch 49/100\n",
      "2/2 [==============================] - 0s 9ms/step - loss: 0.0110 - mse: 0.0110 - mape: 2.9213\n",
      "Epoch 50/100\n",
      "2/2 [==============================] - 0s 8ms/step - loss: 0.0115 - mse: 0.0115 - mape: 3.0209\n",
      "Epoch 51/100\n",
      "2/2 [==============================] - 0s 8ms/step - loss: 0.0114 - mse: 0.0114 - mape: 3.0040\n",
      "Epoch 52/100\n",
      "2/2 [==============================] - 0s 5ms/step - loss: 0.0107 - mse: 0.0107 - mape: 2.8682\n",
      "Epoch 53/100\n",
      "2/2 [==============================] - 0s 5ms/step - loss: 0.0111 - mse: 0.0111 - mape: 2.9666\n",
      "Epoch 54/100\n",
      "2/2 [==============================] - 0s 5ms/step - loss: 0.0104 - mse: 0.0104 - mape: 2.8316\n",
      "Epoch 55/100\n",
      "2/2 [==============================] - 0s 6ms/step - loss: 0.0108 - mse: 0.0108 - mape: 2.9306\n",
      "Epoch 56/100\n",
      "2/2 [==============================] - 0s 6ms/step - loss: 0.0107 - mse: 0.0107 - mape: 2.9138\n",
      "Epoch 57/100\n",
      "2/2 [==============================] - 0s 11ms/step - loss: 0.0100 - mse: 0.0100 - mape: 2.7892\n",
      "Epoch 58/100\n",
      "2/2 [==============================] - 0s 5ms/step - loss: 0.0099 - mse: 0.0099 - mape: 2.7670\n",
      "Epoch 59/100\n",
      "2/2 [==============================] - 0s 5ms/step - loss: 0.0098 - mse: 0.0098 - mape: 2.7500\n",
      "Epoch 60/100\n",
      "2/2 [==============================] - 0s 7ms/step - loss: 0.0102 - mse: 0.0102 - mape: 2.8459\n",
      "Epoch 61/100\n",
      "2/2 [==============================] - 0s 10ms/step - loss: 0.0101 - mse: 0.0101 - mape: 2.8285\n",
      "Epoch 62/100\n",
      "2/2 [==============================] - 0s 7ms/step - loss: 0.0095 - mse: 0.0095 - mape: 2.7015\n",
      "Epoch 63/100\n",
      "2/2 [==============================] - 0s 8ms/step - loss: 0.0099 - mse: 0.0099 - mape: 2.7758\n",
      "Epoch 64/100\n",
      "2/2 [==============================] - 0s 7ms/step - loss: 0.0098 - mse: 0.0098 - mape: 2.7649\n",
      "Epoch 65/100\n",
      "2/2 [==============================] - 0s 7ms/step - loss: 0.0096 - mse: 0.0096 - mape: 2.7520\n",
      "Epoch 66/100\n",
      "2/2 [==============================] - 0s 9ms/step - loss: 0.0094 - mse: 0.0094 - mape: 2.7413\n",
      "Epoch 67/100\n",
      "2/2 [==============================] - 0s 8ms/step - loss: 0.0088 - mse: 0.0088 - mape: 2.6175\n",
      "Epoch 68/100\n",
      "2/2 [==============================] - 0s 6ms/step - loss: 0.0088 - mse: 0.0088 - mape: 2.6038\n",
      "Epoch 69/100\n",
      "2/2 [==============================] - 0s 8ms/step - loss: 0.0087 - mse: 0.0087 - mape: 2.6227\n",
      "Epoch 70/100\n",
      "2/2 [==============================] - 0s 6ms/step - loss: 0.0091 - mse: 0.0091 - mape: 2.6653\n",
      "Epoch 71/100\n",
      "2/2 [==============================] - 0s 9ms/step - loss: 0.0084 - mse: 0.0084 - mape: 2.5884\n",
      "Epoch 72/100\n",
      "2/2 [==============================] - 0s 8ms/step - loss: 0.0089 - mse: 0.0089 - mape: 2.6337\n",
      "Epoch 73/100\n",
      "2/2 [==============================] - 0s 5ms/step - loss: 0.0083 - mse: 0.0083 - mape: 2.5269\n",
      "Epoch 74/100\n",
      "2/2 [==============================] - 0s 7ms/step - loss: 0.0086 - mse: 0.0086 - mape: 2.6050\n",
      "Epoch 75/100\n",
      "2/2 [==============================] - 0s 7ms/step - loss: 0.0085 - mse: 0.0085 - mape: 2.5915\n",
      "Epoch 76/100\n",
      "2/2 [==============================] - 0s 11ms/step - loss: 0.0080 - mse: 0.0080 - mape: 2.5022\n",
      "Epoch 77/100\n",
      "2/2 [==============================] - 0s 9ms/step - loss: 0.0083 - mse: 0.0083 - mape: 2.5601\n",
      "Epoch 78/100\n",
      "2/2 [==============================] - 0s 5ms/step - loss: 0.0078 - mse: 0.0078 - mape: 2.5083\n",
      "Epoch 79/100\n",
      "2/2 [==============================] - 0s 5ms/step - loss: 0.0081 - mse: 0.0081 - mape: 2.5248\n",
      "Epoch 80/100\n",
      "2/2 [==============================] - 0s 8ms/step - loss: 0.0080 - mse: 0.0080 - mape: 2.5073\n",
      "Epoch 81/100\n",
      "2/2 [==============================] - 0s 5ms/step - loss: 0.0075 - mse: 0.0075 - mape: 2.4055\n",
      "Epoch 82/100\n",
      "2/2 [==============================] - 0s 9ms/step - loss: 0.0078 - mse: 0.0078 - mape: 2.4786\n",
      "Epoch 83/100\n",
      "2/2 [==============================] - 0s 10ms/step - loss: 0.0077 - mse: 0.0077 - mape: 2.4614\n",
      "Epoch 84/100\n",
      "2/2 [==============================] - 0s 6ms/step - loss: 0.0072 - mse: 0.0072 - mape: 2.3594\n",
      "Epoch 85/100\n",
      "2/2 [==============================] - 0s 11ms/step - loss: 0.0075 - mse: 0.0075 - mape: 2.4341\n",
      "Epoch 86/100\n",
      "2/2 [==============================] - 0s 10ms/step - loss: 0.0074 - mse: 0.0074 - mape: 2.4246\n",
      "Epoch 87/100\n",
      "2/2 [==============================] - 0s 10ms/step - loss: 0.0070 - mse: 0.0070 - mape: 2.3170\n",
      "Epoch 88/100\n",
      "2/2 [==============================] - 0s 10ms/step - loss: 0.0073 - mse: 0.0073 - mape: 2.3887\n",
      "Epoch 89/100\n",
      "2/2 [==============================] - 0s 6ms/step - loss: 0.0072 - mse: 0.0072 - mape: 2.3767\n",
      "Epoch 90/100\n",
      "2/2 [==============================] - 0s 10ms/step - loss: 0.0067 - mse: 0.0067 - mape: 2.3262\n",
      "Epoch 91/100\n",
      "2/2 [==============================] - 0s 14ms/step - loss: 0.0066 - mse: 0.0066 - mape: 2.2949\n",
      "Epoch 92/100\n",
      "2/2 [==============================] - 0s 8ms/step - loss: 0.0069 - mse: 0.0069 - mape: 2.3289\n",
      "Epoch 93/100\n",
      "2/2 [==============================] - 0s 12ms/step - loss: 0.0064 - mse: 0.0064 - mape: 2.2630\n",
      "Epoch 94/100\n",
      "2/2 [==============================] - 0s 9ms/step - loss: 0.0068 - mse: 0.0068 - mape: 2.3010\n",
      "Epoch 95/100\n",
      "2/2 [==============================] - 0s 9ms/step - loss: 0.0067 - mse: 0.0067 - mape: 2.2899\n",
      "Epoch 96/100\n",
      "2/2 [==============================] - 0s 11ms/step - loss: 0.0062 - mse: 0.0062 - mape: 2.2035\n",
      "Epoch 97/100\n",
      "2/2 [==============================] - 0s 7ms/step - loss: 0.0065 - mse: 0.0065 - mape: 2.2627\n",
      "Epoch 98/100\n",
      "2/2 [==============================] - 0s 10ms/step - loss: 0.0064 - mse: 0.0064 - mape: 2.2506\n",
      "Epoch 99/100\n",
      "2/2 [==============================] - 0s 10ms/step - loss: 0.0060 - mse: 0.0060 - mape: 2.1731\n",
      "Epoch 100/100\n",
      "2/2 [==============================] - 0s 5ms/step - loss: 0.0059 - mse: 0.0059 - mape: 2.1783\n"
     ]
    },
    {
     "data": {
      "text/plain": [
       "<keras.src.callbacks.History at 0x289a63aa740>"
      ]
     },
     "execution_count": 30,
     "metadata": {},
     "output_type": "execute_result"
    }
   ],
   "source": [
    "x = [1, 2, 3, 4]\n",
    "y = [2, 4, 6, 8]\n",
    "\n",
    "batch_size = 2\n",
    "epochs = 100\n",
    "\n",
    "model.fit(x, y, batch_size, epochs)"
   ]
  },
  {
   "cell_type": "code",
   "execution_count": 31,
   "metadata": {},
   "outputs": [
    {
     "data": {
      "text/plain": [
       "(1.9377205, 0.18594147)"
      ]
     },
     "execution_count": 31,
     "metadata": {},
     "output_type": "execute_result"
    }
   ],
   "source": [
    "weights, bias = model.get_weights()\n",
    "\n",
    "weights[0][0], bias[0]"
   ]
  },
  {
   "cell_type": "code",
   "execution_count": 32,
   "metadata": {},
   "outputs": [
    {
     "name": "stdout",
     "output_type": "stream",
     "text": [
      "1/1 [==============================] - 0s 91ms/step\n"
     ]
    },
    {
     "data": {
      "text/plain": [
       "array([[10.],\n",
       "       [12.],\n",
       "       [14.],\n",
       "       [16.]], dtype=float32)"
      ]
     },
     "execution_count": 32,
     "metadata": {},
     "output_type": "execute_result"
    }
   ],
   "source": [
    "predict = model.predict([5, 6, 7, 8])\n",
    "\n",
    "predict.round()"
   ]
  },
  {
   "cell_type": "code",
   "execution_count": 38,
   "metadata": {},
   "outputs": [],
   "source": [
    "import numpy as np\n",
    "import matplotlib.pyplot as plt"
   ]
  },
  {
   "cell_type": "code",
   "execution_count": 58,
   "metadata": {},
   "outputs": [],
   "source": [
    "learning_rate = 0.001\n",
    "\n",
    "model = Sequential()\n",
    "\n",
    "model.add(Dense(input_shape = (1,), units = 1, activation = \"linear\"))\n",
    "\n",
    "optimizer = SGD(learning_rate = learning_rate)\n",
    "\n",
    "model.compile(optimizer = optimizer, loss = \"mean_squared_error\")"
   ]
  },
  {
   "cell_type": "code",
   "execution_count": 59,
   "metadata": {},
   "outputs": [],
   "source": [
    "x = np.array([1, 2, 3, 4])\n",
    "y = np.array([2, 4, 6, 8])\n",
    "\n",
    "batch_size = 2\n",
    "epochs = 1000\n",
    "\n",
    "history = model.fit(x, y, batch_size, epochs, verbose = 0)\n",
    "loss_history = history.history[\"loss\"]"
   ]
  },
  {
   "cell_type": "markdown",
   "metadata": {},
   "source": [
    "Model converged by epoch ≃ 100"
   ]
  },
  {
   "cell_type": "code",
   "execution_count": 60,
   "metadata": {},
   "outputs": [
    {
     "data": {
      "text/plain": [
       "Text(0, 0.5, 'Loss')"
      ]
     },
     "execution_count": 60,
     "metadata": {},
     "output_type": "execute_result"
    },
    {
     "data": {
      "image/png": "[encoded data removed]",
      "text/plain": [
       "<Figure size 640x480 with 1 Axes>"
      ]
     },
     "metadata": {},
     "output_type": "display_data"
    }
   ],
   "source": [
    "plt.plot(range(epochs), loss_history)\n",
    "plt.xlabel(\"Epochs\")\n",
    "plt.ylabel(\"Loss\")"
   ]
  }
 ],
 "metadata": {
  "kernelspec": {
   "display_name": ".venv",
   "language": "python",
   "name": "python3"
  },
  "language_info": {
   "codemirror_mode": {
    "name": "ipython",
    "version": 3
   },
   "file_extension": ".py",
   "mimetype": "text/x-python",
   "name": "python",
   "nbconvert_exporter": "python",
   "pygments_lexer": "ipython3",
   "version": "3.10.11"
  }
 },
 "nbformat": 4,
 "nbformat_minor": 2
}
