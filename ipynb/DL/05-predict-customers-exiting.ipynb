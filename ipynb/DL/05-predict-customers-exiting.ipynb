{
 "cells": [
  {
   "cell_type": "code",
   "execution_count": 1,
   "metadata": {},
   "outputs": [],
   "source": [
    "import pandas as pd"
   ]
  },
  {
   "cell_type": "code",
   "execution_count": 2,
   "metadata": {},
   "outputs": [
    {
     "data": {
      "text/html": [
       "<div>\n",
       "<style scoped>\n",
       "    .dataframe tbody tr th:only-of-type {\n",
       "        vertical-align: middle;\n",
       "    }\n",
       "\n",
       "    .dataframe tbody tr th {\n",
       "        vertical-align: top;\n",
       "    }\n",
       "\n",
       "    .dataframe thead th {\n",
       "        text-align: right;\n",
       "    }\n",
       "</style>\n",
       "<table border=\"1\" class=\"dataframe\">\n",
       "  <thead>\n",
       "    <tr style=\"text-align: right;\">\n",
       "      <th></th>\n",
       "      <th>RowNumber</th>\n",
       "      <th>CustomerId</th>\n",
       "      <th>Surname</th>\n",
       "      <th>CreditScore</th>\n",
       "      <th>Geography</th>\n",
       "      <th>Gender</th>\n",
       "      <th>Age</th>\n",
       "      <th>Tenure</th>\n",
       "      <th>Balance</th>\n",
       "      <th>NumOfProducts</th>\n",
       "      <th>HasCrCard</th>\n",
       "      <th>IsActiveMember</th>\n",
       "      <th>EstimatedSalary</th>\n",
       "      <th>Exited</th>\n",
       "    </tr>\n",
       "  </thead>\n",
       "  <tbody>\n",
       "    <tr>\n",
       "      <th>0</th>\n",
       "      <td>1</td>\n",
       "      <td>15634602</td>\n",
       "      <td>Hargrave</td>\n",
       "      <td>619</td>\n",
       "      <td>France</td>\n",
       "      <td>Female</td>\n",
       "      <td>42</td>\n",
       "      <td>2</td>\n",
       "      <td>0.00</td>\n",
       "      <td>1</td>\n",
       "      <td>1</td>\n",
       "      <td>1</td>\n",
       "      <td>101348.88</td>\n",
       "      <td>1</td>\n",
       "    </tr>\n",
       "    <tr>\n",
       "      <th>1</th>\n",
       "      <td>2</td>\n",
       "      <td>15647311</td>\n",
       "      <td>Hill</td>\n",
       "      <td>608</td>\n",
       "      <td>Spain</td>\n",
       "      <td>Female</td>\n",
       "      <td>41</td>\n",
       "      <td>1</td>\n",
       "      <td>83807.86</td>\n",
       "      <td>1</td>\n",
       "      <td>0</td>\n",
       "      <td>1</td>\n",
       "      <td>112542.58</td>\n",
       "      <td>0</td>\n",
       "    </tr>\n",
       "    <tr>\n",
       "      <th>2</th>\n",
       "      <td>3</td>\n",
       "      <td>15619304</td>\n",
       "      <td>Onio</td>\n",
       "      <td>502</td>\n",
       "      <td>France</td>\n",
       "      <td>Female</td>\n",
       "      <td>42</td>\n",
       "      <td>8</td>\n",
       "      <td>159660.80</td>\n",
       "      <td>3</td>\n",
       "      <td>1</td>\n",
       "      <td>0</td>\n",
       "      <td>113931.57</td>\n",
       "      <td>1</td>\n",
       "    </tr>\n",
       "    <tr>\n",
       "      <th>3</th>\n",
       "      <td>4</td>\n",
       "      <td>15701354</td>\n",
       "      <td>Boni</td>\n",
       "      <td>699</td>\n",
       "      <td>France</td>\n",
       "      <td>Female</td>\n",
       "      <td>39</td>\n",
       "      <td>1</td>\n",
       "      <td>0.00</td>\n",
       "      <td>2</td>\n",
       "      <td>0</td>\n",
       "      <td>0</td>\n",
       "      <td>93826.63</td>\n",
       "      <td>0</td>\n",
       "    </tr>\n",
       "    <tr>\n",
       "      <th>4</th>\n",
       "      <td>5</td>\n",
       "      <td>15737888</td>\n",
       "      <td>Mitchell</td>\n",
       "      <td>850</td>\n",
       "      <td>Spain</td>\n",
       "      <td>Female</td>\n",
       "      <td>43</td>\n",
       "      <td>2</td>\n",
       "      <td>125510.82</td>\n",
       "      <td>1</td>\n",
       "      <td>1</td>\n",
       "      <td>1</td>\n",
       "      <td>79084.10</td>\n",
       "      <td>0</td>\n",
       "    </tr>\n",
       "  </tbody>\n",
       "</table>\n",
       "</div>"
      ],
      "text/plain": [
       "   RowNumber  CustomerId   Surname  CreditScore Geography  Gender  Age  \\\n",
       "0          1    15634602  Hargrave          619    France  Female   42   \n",
       "1          2    15647311      Hill          608     Spain  Female   41   \n",
       "2          3    15619304      Onio          502    France  Female   42   \n",
       "3          4    15701354      Boni          699    France  Female   39   \n",
       "4          5    15737888  Mitchell          850     Spain  Female   43   \n",
       "\n",
       "   Tenure    Balance  NumOfProducts  HasCrCard  IsActiveMember  \\\n",
       "0       2       0.00              1          1               1   \n",
       "1       1   83807.86              1          0               1   \n",
       "2       8  159660.80              3          1               0   \n",
       "3       1       0.00              2          0               0   \n",
       "4       2  125510.82              1          1               1   \n",
       "\n",
       "   EstimatedSalary  Exited  \n",
       "0        101348.88       1  \n",
       "1        112542.58       0  \n",
       "2        113931.57       1  \n",
       "3         93826.63       0  \n",
       "4         79084.10       0  "
      ]
     },
     "execution_count": 2,
     "metadata": {},
     "output_type": "execute_result"
    }
   ],
   "source": [
    "data = pd.read_csv(\"datasets/churn-modelling.csv\")\n",
    "\n",
    "data.head()"
   ]
  },
  {
   "cell_type": "markdown",
   "metadata": {},
   "source": [
    "Resample imbalanced label"
   ]
  },
  {
   "cell_type": "code",
   "execution_count": 3,
   "metadata": {},
   "outputs": [
    {
     "data": {
      "text/plain": [
       "Exited\n",
       "0    7963\n",
       "1    2037\n",
       "Name: count, dtype: int64"
      ]
     },
     "execution_count": 3,
     "metadata": {},
     "output_type": "execute_result"
    }
   ],
   "source": [
    "data[\"Exited\"].value_counts()"
   ]
  },
  {
   "cell_type": "code",
   "execution_count": 4,
   "metadata": {},
   "outputs": [
    {
     "data": {
      "text/plain": [
       "Exited\n",
       "1    7963\n",
       "0    7963\n",
       "Name: count, dtype: int64"
      ]
     },
     "execution_count": 4,
     "metadata": {},
     "output_type": "execute_result"
    }
   ],
   "source": [
    "from imblearn.over_sampling import RandomOverSampler\n",
    "\n",
    "features = data.drop(columns = \"Exited\")\n",
    "label = data[\"Exited\"]\n",
    "\n",
    "resampler = RandomOverSampler(random_state = 0)\n",
    "\n",
    "resampled_features, resampled_label = resampler.fit_resample(features, label)\n",
    "\n",
    "data = pd.concat([resampled_features, resampled_label], axis=1)\n",
    "\n",
    "data[\"Exited\"].value_counts()"
   ]
  },
  {
   "cell_type": "code",
   "execution_count": 5,
   "metadata": {},
   "outputs": [],
   "source": [
    "# exclude RowNumber, CustomerId, Surname & Exited from features\n",
    "x = data.iloc[:, 3: 13]\n",
    "y = data.iloc[:, 13]"
   ]
  },
  {
   "cell_type": "markdown",
   "metadata": {},
   "source": [
    "Encode categorical features"
   ]
  },
  {
   "cell_type": "code",
   "execution_count": 6,
   "metadata": {},
   "outputs": [],
   "source": [
    "from sklearn.preprocessing import LabelEncoder\n",
    "\n",
    "gender_encoder = LabelEncoder()\n",
    "x[\"Gender\"] = gender_encoder.fit_transform(x[\"Gender\"])"
   ]
  },
  {
   "cell_type": "markdown",
   "metadata": {},
   "source": [
    "Encode Multi-class features with label encoder can influence model training, special treat for high encode class"
   ]
  },
  {
   "cell_type": "code",
   "execution_count": 7,
   "metadata": {},
   "outputs": [
    {
     "data": {
      "text/plain": [
       "array(['France', 'Spain', 'Germany'], dtype=object)"
      ]
     },
     "execution_count": 7,
     "metadata": {},
     "output_type": "execute_result"
    }
   ],
   "source": [
    "x[\"Geography\"].unique()"
   ]
  },
  {
   "cell_type": "code",
   "execution_count": 8,
   "metadata": {},
   "outputs": [
    {
     "data": {
      "text/plain": [
       "array([1.0000000e+00, 0.0000000e+00, 0.0000000e+00, 6.1900000e+02,\n",
       "       0.0000000e+00, 4.2000000e+01, 2.0000000e+00, 0.0000000e+00,\n",
       "       1.0000000e+00, 1.0000000e+00, 1.0000000e+00, 1.0134888e+05])"
      ]
     },
     "execution_count": 8,
     "metadata": {},
     "output_type": "execute_result"
    }
   ],
   "source": [
    "from sklearn.compose import ColumnTransformer\n",
    "from sklearn.preprocessing import OneHotEncoder\n",
    "\n",
    "# 1 is the index of the feature to encode\n",
    "column_transformer = ColumnTransformer(\n",
    "  transformers = [(\"encoder\", OneHotEncoder(), [1])],\n",
    "  remainder = \"passthrough\"\n",
    ")\n",
    "\n",
    "# this will remove feature's column and replace it with n columns inserted at index 0\n",
    "# n = 3 possible classes in this issue\n",
    "x = column_transformer.fit_transform(x)\n",
    "\n",
    "x[0]"
   ]
  },
  {
   "cell_type": "code",
   "execution_count": 9,
   "metadata": {},
   "outputs": [],
   "source": [
    "from sklearn.model_selection import train_test_split\n",
    "\n",
    "x_train, x_test, y_train, y_test = train_test_split(x, y, random_state = 0)"
   ]
  },
  {
   "cell_type": "markdown",
   "metadata": {},
   "source": [
    "Scale after splitting, apply the same calculated mean from x_train on x_test"
   ]
  },
  {
   "cell_type": "code",
   "execution_count": 10,
   "metadata": {},
   "outputs": [],
   "source": [
    "from sklearn.preprocessing import StandardScaler\n",
    "\n",
    "scaler = StandardScaler()\n",
    "\n",
    "x_train = scaler.fit_transform(x_train)\n",
    "x_test = scaler.transform(x_test)"
   ]
  },
  {
   "cell_type": "markdown",
   "metadata": {},
   "source": [
    "Ensure results are reproducible"
   ]
  },
  {
   "cell_type": "code",
   "execution_count": null,
   "metadata": {},
   "outputs": [],
   "source": [
    "import numpy as np\n",
    "import tensorflow as tf\n",
    "\n",
    "import logging\n",
    "tf.get_logger().setLevel(logging.ERROR)\n",
    "\n",
    "# 42 is common for this usage, many different stories about it\n",
    "np.random.seed(42)\n",
    "tf.random.set_seed(42)"
   ]
  },
  {
   "cell_type": "code",
   "execution_count": 12,
   "metadata": {},
   "outputs": [],
   "source": [
    "from keras.models import Sequential\n",
    "from keras.layers import Dense"
   ]
  },
  {
   "cell_type": "code",
   "execution_count": 13,
   "metadata": {},
   "outputs": [
    {
     "name": "stdout",
     "output_type": "stream",
     "text": [
      "Model: \"sequential\"\n",
      "_________________________________________________________________\n",
      " Layer (type)                Output Shape              Param #   \n",
      "=================================================================\n",
      " dense (Dense)               (None, 6)                 78        \n",
      "                                                                 \n",
      " dense_1 (Dense)             (None, 6)                 42        \n",
      "                                                                 \n",
      " dense_2 (Dense)             (None, 1)                 7         \n",
      "                                                                 \n",
      "=================================================================\n",
      "Total params: 127 (508.00 Byte)\n",
      "Trainable params: 127 (508.00 Byte)\n",
      "Non-trainable params: 0 (0.00 Byte)\n",
      "_________________________________________________________________\n"
     ]
    }
   ],
   "source": [
    "model = Sequential()\n",
    "\n",
    "model.add(Dense(6, activation = \"relu\", input_dim = len(x_train[0])))\n",
    "model.add(Dense(6, activation = \"relu\"))\n",
    "model.add(Dense(1, activation = \"sigmoid\"))\n",
    "\n",
    "model.compile(optimizer = \"adam\", loss = \"binary_crossentropy\", metrics = [\"accuracy\"])\n",
    "\n",
    "model.summary()"
   ]
  },
  {
   "cell_type": "code",
   "execution_count": 14,
   "metadata": {},
   "outputs": [
    {
     "name": "stdout",
     "output_type": "stream",
     "text": [
      "Epoch 1/10\n",
      "1195/1195 [==============================] - 6s 3ms/step - loss: 0.6177 - accuracy: 0.6464\n",
      "Epoch 2/10\n",
      "1195/1195 [==============================] - 3s 3ms/step - loss: 0.5638 - accuracy: 0.7120\n",
      "Epoch 3/10\n",
      "1195/1195 [==============================] - 3s 3ms/step - loss: 0.5274 - accuracy: 0.7377\n",
      "Epoch 4/10\n",
      "1195/1195 [==============================] - 3s 3ms/step - loss: 0.4937 - accuracy: 0.7569\n",
      "Epoch 5/10\n",
      "1195/1195 [==============================] - 4s 3ms/step - loss: 0.4797 - accuracy: 0.7640\n",
      "Epoch 6/10\n",
      "1195/1195 [==============================] - 3s 3ms/step - loss: 0.4738 - accuracy: 0.7682\n",
      "Epoch 7/10\n",
      "1195/1195 [==============================] - 3s 3ms/step - loss: 0.4702 - accuracy: 0.7700\n",
      "Epoch 8/10\n",
      "1195/1195 [==============================] - 3s 3ms/step - loss: 0.4675 - accuracy: 0.7694\n",
      "Epoch 9/10\n",
      "1195/1195 [==============================] - 3s 3ms/step - loss: 0.4646 - accuracy: 0.7714\n",
      "Epoch 10/10\n",
      "1195/1195 [==============================] - 3s 3ms/step - loss: 0.4628 - accuracy: 0.7739\n"
     ]
    },
    {
     "data": {
      "text/plain": [
       "<keras.src.callbacks.History at 0x202f567bb80>"
      ]
     },
     "execution_count": 14,
     "metadata": {},
     "output_type": "execute_result"
    }
   ],
   "source": [
    "model.fit(x_train, y_train, batch_size = 10, epochs = 10)"
   ]
  },
  {
   "cell_type": "code",
   "execution_count": 15,
   "metadata": {},
   "outputs": [
    {
     "name": "stdout",
     "output_type": "stream",
     "text": [
      "125/125 [==============================] - 1s 2ms/step - loss: 0.4796 - accuracy: 0.7544\n"
     ]
    },
    {
     "data": {
      "text/plain": [
       "(0.4796296954154968, 0.7543947696685791)"
      ]
     },
     "execution_count": 15,
     "metadata": {},
     "output_type": "execute_result"
    }
   ],
   "source": [
    "loss, accuracy = model.evaluate(x_test, y_test)\n",
    "\n",
    "loss, accuracy"
   ]
  },
  {
   "cell_type": "code",
   "execution_count": 16,
   "metadata": {},
   "outputs": [
    {
     "name": "stdout",
     "output_type": "stream",
     "text": [
      "125/125 [==============================] - 0s 2ms/step\n"
     ]
    },
    {
     "data": {
      "text/plain": [
       "array([[False],\n",
       "       [False],\n",
       "       [ True],\n",
       "       ...,\n",
       "       [False],\n",
       "       [False],\n",
       "       [ True]])"
      ]
     },
     "execution_count": 16,
     "metadata": {},
     "output_type": "execute_result"
    }
   ],
   "source": [
    "y_predict = model.predict(x_test)\n",
    "\n",
    "y_predict = (y_predict > 0.5)\n",
    "\n",
    "y_predict"
   ]
  },
  {
   "cell_type": "markdown",
   "metadata": {},
   "source": [
    "Low score"
   ]
  },
  {
   "cell_type": "code",
   "execution_count": 17,
   "metadata": {},
   "outputs": [
    {
     "name": "stdout",
     "output_type": "stream",
     "text": [
      "Accuracy: 0.754394776494224\n",
      "Precision: 0.7574232511323603\n",
      "Recall: 0.7521239380309845\n",
      "F1: 0.7547642928786359\n"
     ]
    }
   ],
   "source": [
    "from sklearn.metrics import accuracy_score, precision_score, recall_score, f1_score\n",
    "\n",
    "accuracy = accuracy_score(y_test, y_predict)\n",
    "print(f\"Accuracy: {accuracy}\")\n",
    "\n",
    "accuracy = precision_score(y_test, y_predict)\n",
    "print(f\"Precision: {accuracy}\")\n",
    "\n",
    "accuracy = recall_score(y_test, y_predict)\n",
    "print(f\"Recall: {accuracy}\")\n",
    "\n",
    "accuracy = f1_score(y_test, y_predict)\n",
    "print(f\"F1: {accuracy}\")"
   ]
  },
  {
   "cell_type": "markdown",
   "metadata": {},
   "source": [
    "Restructure DNN model"
   ]
  },
  {
   "cell_type": "code",
   "execution_count": 18,
   "metadata": {},
   "outputs": [
    {
     "name": "stdout",
     "output_type": "stream",
     "text": [
      "Epoch 1/20\n",
      "1195/1195 [==============================] - 7s 4ms/step - loss: 0.4975 - accuracy: 0.7559\n",
      "Epoch 2/20\n",
      "1195/1195 [==============================] - 5s 4ms/step - loss: 0.4478 - accuracy: 0.7892\n",
      "Epoch 3/20\n",
      "1195/1195 [==============================] - 4s 4ms/step - loss: 0.4330 - accuracy: 0.7964\n",
      "Epoch 4/20\n",
      "1195/1195 [==============================] - 4s 4ms/step - loss: 0.4200 - accuracy: 0.8054\n",
      "Epoch 5/20\n",
      "1195/1195 [==============================] - 4s 4ms/step - loss: 0.4061 - accuracy: 0.8074\n",
      "Epoch 6/20\n",
      "1195/1195 [==============================] - 4s 4ms/step - loss: 0.3941 - accuracy: 0.8176\n",
      "Epoch 7/20\n",
      "1195/1195 [==============================] - 4s 4ms/step - loss: 0.3811 - accuracy: 0.8278\n",
      "Epoch 8/20\n",
      "1195/1195 [==============================] - 4s 4ms/step - loss: 0.3678 - accuracy: 0.8326\n",
      "Epoch 9/20\n",
      "1195/1195 [==============================] - 5s 4ms/step - loss: 0.3533 - accuracy: 0.8397\n",
      "Epoch 10/20\n",
      "1195/1195 [==============================] - 4s 4ms/step - loss: 0.3379 - accuracy: 0.8471\n",
      "Epoch 11/20\n",
      "1195/1195 [==============================] - 4s 4ms/step - loss: 0.3251 - accuracy: 0.8565\n",
      "Epoch 12/20\n",
      "1195/1195 [==============================] - 4s 4ms/step - loss: 0.3134 - accuracy: 0.8609\n",
      "Epoch 13/20\n",
      "1195/1195 [==============================] - 4s 4ms/step - loss: 0.3004 - accuracy: 0.8685\n",
      "Epoch 14/20\n",
      "1195/1195 [==============================] - 4s 4ms/step - loss: 0.2917 - accuracy: 0.8734\n",
      "Epoch 15/20\n",
      "1195/1195 [==============================] - 4s 4ms/step - loss: 0.2779 - accuracy: 0.8798\n",
      "Epoch 16/20\n",
      "1195/1195 [==============================] - 5s 4ms/step - loss: 0.2734 - accuracy: 0.8821\n",
      "Epoch 17/20\n",
      "1195/1195 [==============================] - 5s 4ms/step - loss: 0.2606 - accuracy: 0.8897\n",
      "Epoch 18/20\n",
      "1195/1195 [==============================] - 4s 4ms/step - loss: 0.2493 - accuracy: 0.8948\n",
      "Epoch 19/20\n",
      "1195/1195 [==============================] - 5s 4ms/step - loss: 0.2410 - accuracy: 0.8980\n",
      "Epoch 20/20\n",
      "1195/1195 [==============================] - 5s 4ms/step - loss: 0.2364 - accuracy: 0.8999\n"
     ]
    },
    {
     "data": {
      "text/plain": [
       "<keras.src.callbacks.History at 0x202f6d3d1b0>"
      ]
     },
     "execution_count": 18,
     "metadata": {},
     "output_type": "execute_result"
    }
   ],
   "source": [
    "model = Sequential()\n",
    "\n",
    "model.add(Dense(128, activation = \"relu\", input_dim = len(x_train[0])))\n",
    "model.add(Dense(64, activation = \"relu\"))\n",
    "model.add(Dense(32, activation = \"relu\"))\n",
    "model.add(Dense(16, activation = \"relu\"))\n",
    "model.add(Dense(8, activation = \"relu\"))\n",
    "model.add(Dense(1, activation = \"sigmoid\"))\n",
    "\n",
    "model.compile(optimizer = \"adam\", loss = \"binary_crossentropy\", metrics = [\"accuracy\"])\n",
    "\n",
    "model.fit(x_train, y_train, batch_size = 10, epochs = 20)"
   ]
  },
  {
   "cell_type": "markdown",
   "metadata": {},
   "source": [
    "Much better score"
   ]
  },
  {
   "cell_type": "code",
   "execution_count": 19,
   "metadata": {},
   "outputs": [
    {
     "name": "stdout",
     "output_type": "stream",
     "text": [
      "125/125 [==============================] - 1s 5ms/step\n",
      "Accuracy: 0.8515821195379206\n",
      "Precision: 0.8133333333333334\n",
      "Recall: 0.9145427286356822\n",
      "F1: 0.8609738884968243\n"
     ]
    }
   ],
   "source": [
    "y_predict = model.predict(x_test)\n",
    "\n",
    "y_predict = (y_predict > 0.5)\n",
    "\n",
    "accuracy = accuracy_score(y_test, y_predict)\n",
    "print(f\"Accuracy: {accuracy}\")\n",
    "\n",
    "accuracy = precision_score(y_test, y_predict)\n",
    "print(f\"Precision: {accuracy}\")\n",
    "\n",
    "accuracy = recall_score(y_test, y_predict)\n",
    "print(f\"Recall: {accuracy}\")\n",
    "\n",
    "accuracy = f1_score(y_test, y_predict)\n",
    "print(f\"F1: {accuracy}\")"
   ]
  },
  {
   "cell_type": "markdown",
   "metadata": {},
   "source": [
    "Save the model to reuse"
   ]
  },
  {
   "cell_type": "code",
   "execution_count": 25,
   "metadata": {},
   "outputs": [],
   "source": [
    "model.save(\"05-dumps/model.keras\")"
   ]
  },
  {
   "cell_type": "code",
   "execution_count": null,
   "metadata": {},
   "outputs": [],
   "source": [
    "from joblib import dump\n",
    "\n",
    "dump(gender_encoder, \"05-dumps/gender-encoder.pkl\")\n",
    "dump(column_transformer, \"05-dumps/column-transformer.pkl\")\n",
    "dump(scaler, \"05-dumps/scaler.pkl\")"
   ]
  },
  {
   "cell_type": "code",
   "execution_count": 27,
   "metadata": {},
   "outputs": [],
   "source": [
    "sample_data = np.array([\n",
    "  [600, \"France\", \"Male\", 40, 3, 60000, 2, 1, 1, 50000]\n",
    "])"
   ]
  },
  {
   "cell_type": "code",
   "execution_count": 28,
   "metadata": {},
   "outputs": [],
   "source": [
    "from joblib import load\n",
    "\n",
    "gender_encoder = load(\"05-dumps/gender-encoder.pkl\")\n",
    "\n",
    "sample_data[:, 2] = gender_encoder.transform(sample_data[:, 2])"
   ]
  },
  {
   "cell_type": "code",
   "execution_count": null,
   "metadata": {},
   "outputs": [],
   "source": [
    "column_transformer = load(\"05-dumps/column-transformer.pkl\")\n",
    "\n",
    "sample_data = column_transformer.transform(sample_data)"
   ]
  },
  {
   "cell_type": "code",
   "execution_count": 30,
   "metadata": {},
   "outputs": [],
   "source": [
    "scaler = load(\"05-dumps/scaler.pkl\")\n",
    "\n",
    "sample_data = scaler.transform(sample_data)"
   ]
  },
  {
   "cell_type": "code",
   "execution_count": 31,
   "metadata": {},
   "outputs": [
    {
     "data": {
      "text/plain": [
       "array([[ 1.07479237, -0.6660016 , -0.54458213, -0.49084051,  0.98454672,\n",
       "        -0.10120986, -0.67592971, -0.35207194,  0.73346722,  0.64407345,\n",
       "         1.08132784, -0.88180893]])"
      ]
     },
     "execution_count": 31,
     "metadata": {},
     "output_type": "execute_result"
    }
   ],
   "source": [
    "sample_data"
   ]
  },
  {
   "cell_type": "code",
   "execution_count": 33,
   "metadata": {},
   "outputs": [
    {
     "name": "stdout",
     "output_type": "stream",
     "text": [
      "1/1 [==============================] - 0s 263ms/step\n"
     ]
    },
    {
     "data": {
      "text/plain": [
       "array([[False]])"
      ]
     },
     "execution_count": 33,
     "metadata": {},
     "output_type": "execute_result"
    }
   ],
   "source": [
    "from keras.models import load_model\n",
    "\n",
    "model = load_model(\"05-dumps/model.keras\")\n",
    "\n",
    "y_predict = model.predict(sample_data)\n",
    "\n",
    "y_predict = (y_predict > 0.5)\n",
    "\n",
    "y_predict"
   ]
  }
 ],
 "metadata": {
  "kernelspec": {
   "display_name": ".venv",
   "language": "python",
   "name": "python3"
  },
  "language_info": {
   "codemirror_mode": {
    "name": "ipython",
    "version": 3
   },
   "file_extension": ".py",
   "mimetype": "text/x-python",
   "name": "python",
   "nbconvert_exporter": "python",
   "pygments_lexer": "ipython3",
   "version": "3.10.11"
  }
 },
 "nbformat": 4,
 "nbformat_minor": 2
}
