{
 "cells": [
  {
   "cell_type": "markdown",
   "metadata": {},
   "source": [
    "#### Count Vectorization"
   ]
  },
  {
   "cell_type": "code",
   "execution_count": 1,
   "metadata": {},
   "outputs": [],
   "source": [
    "from sklearn.feature_extraction.text import CountVectorizer"
   ]
  },
  {
   "cell_type": "code",
   "execution_count": 28,
   "metadata": {},
   "outputs": [
    {
     "name": "stdout",
     "output_type": "stream",
     "text": [
      "['cat' 'dog' 'mat' 'mouse' 'my' 'the']\n",
      "[[1 1 1 0 1 1]\n",
      " [1 0 1 0 0 1]\n",
      " [1 0 1 1 0 2]\n",
      " [1 1 0 1 1 0]]\n"
     ]
    }
   ],
   "source": [
    "documents = [\n",
    "  \"My cat and dog sat on the mat\",\n",
    "  \"strange cat jumped over the mat\",\n",
    "  \"His cat ate the mouse ran across the mat\",\n",
    "  \"Her dog run after my cat and mouse\",\n",
    "]\n",
    "\n",
    "max_features = 6\n",
    "\n",
    "vectorizer = CountVectorizer(max_features = max_features)\n",
    "\n",
    "vectors = vectorizer.fit_transform(documents)\n",
    "\n",
    "vectors_array = vectors.toarray()\n",
    "\n",
    "feature_names = vectorizer.get_feature_names_out()\n",
    "\n",
    "print(feature_names)\n",
    "\n",
    "print(vectors_array)"
   ]
  },
  {
   "cell_type": "markdown",
   "metadata": {},
   "source": [
    "For every word in the array of the (max_features) 6 most repeated words\n",
    "\n",
    "How many times it occurred in the sentence?\n",
    "\n",
    "For the third sentence: words \"cat\", \"mat\" and \"mouse\" occurred once, while word \"the\" occurred twice"
   ]
  },
  {
   "cell_type": "code",
   "execution_count": 29,
   "metadata": {},
   "outputs": [
    {
     "data": {
      "text/html": [
       "<div>\n",
       "<style scoped>\n",
       "    .dataframe tbody tr th:only-of-type {\n",
       "        vertical-align: middle;\n",
       "    }\n",
       "\n",
       "    .dataframe tbody tr th {\n",
       "        vertical-align: top;\n",
       "    }\n",
       "\n",
       "    .dataframe thead th {\n",
       "        text-align: right;\n",
       "    }\n",
       "</style>\n",
       "<table border=\"1\" class=\"dataframe\">\n",
       "  <thead>\n",
       "    <tr style=\"text-align: right;\">\n",
       "      <th></th>\n",
       "      <th>cat</th>\n",
       "      <th>dog</th>\n",
       "      <th>mat</th>\n",
       "      <th>mouse</th>\n",
       "      <th>my</th>\n",
       "      <th>the</th>\n",
       "    </tr>\n",
       "  </thead>\n",
       "  <tbody>\n",
       "    <tr>\n",
       "      <th>0</th>\n",
       "      <td>1</td>\n",
       "      <td>1</td>\n",
       "      <td>1</td>\n",
       "      <td>0</td>\n",
       "      <td>1</td>\n",
       "      <td>1</td>\n",
       "    </tr>\n",
       "    <tr>\n",
       "      <th>1</th>\n",
       "      <td>1</td>\n",
       "      <td>0</td>\n",
       "      <td>1</td>\n",
       "      <td>0</td>\n",
       "      <td>0</td>\n",
       "      <td>1</td>\n",
       "    </tr>\n",
       "    <tr>\n",
       "      <th>2</th>\n",
       "      <td>1</td>\n",
       "      <td>0</td>\n",
       "      <td>1</td>\n",
       "      <td>1</td>\n",
       "      <td>0</td>\n",
       "      <td>2</td>\n",
       "    </tr>\n",
       "    <tr>\n",
       "      <th>3</th>\n",
       "      <td>1</td>\n",
       "      <td>1</td>\n",
       "      <td>0</td>\n",
       "      <td>1</td>\n",
       "      <td>1</td>\n",
       "      <td>0</td>\n",
       "    </tr>\n",
       "  </tbody>\n",
       "</table>\n",
       "</div>"
      ],
      "text/plain": [
       "   cat  dog  mat  mouse  my  the\n",
       "0    1    1    1      0   1    1\n",
       "1    1    0    1      0   0    1\n",
       "2    1    0    1      1   0    2\n",
       "3    1    1    0      1   1    0"
      ]
     },
     "execution_count": 29,
     "metadata": {},
     "output_type": "execute_result"
    }
   ],
   "source": [
    "import pandas as pd\n",
    "\n",
    "vactors_data = pd.DataFrame(data = vectors_array, columns = feature_names)\n",
    "\n",
    "vactors_data"
   ]
  },
  {
   "cell_type": "code",
   "execution_count": 32,
   "metadata": {},
   "outputs": [
    {
     "name": "stdout",
     "output_type": "stream",
     "text": [
      "['cat' 'dog' 'mat' 'mouse' 'my' 'the']\n",
      "[4 2 3 2 2 4]\n"
     ]
    }
   ],
   "source": [
    "frequencies = vectors_array.sum(axis = 0)\n",
    "\n",
    "print(feature_names)\n",
    "print(frequencies)"
   ]
  },
  {
   "cell_type": "markdown",
   "metadata": {},
   "source": [
    "Order most frequent words descending"
   ]
  },
  {
   "cell_type": "code",
   "execution_count": 40,
   "metadata": {},
   "outputs": [
    {
     "name": "stdout",
     "output_type": "stream",
     "text": [
      "['the', 'cat', 'mat', 'my', 'mouse', 'dog']\n",
      "[4 4 3 2 2 2]\n"
     ]
    }
   ],
   "source": [
    "# argsort returns ascending sorted array of indices of the frequencies, then we reverse the array\n",
    "\n",
    "sorted_indices = frequencies.argsort()[::-1]\n",
    "\n",
    "# get sorted array by the sorted indices\n",
    "\n",
    "sorted_frequencies = frequencies[sorted_indices]\n",
    "\n",
    "# the most frequent words ordered descending\n",
    "\n",
    "sorted_words = [feature_names[idx] for idx in sorted_indices]\n",
    "\n",
    "print(sorted_words)\n",
    "print(sorted_frequencies)"
   ]
  },
  {
   "cell_type": "markdown",
   "metadata": {},
   "source": [
    "#### TF-IDF Vectorization"
   ]
  },
  {
   "cell_type": "code",
   "execution_count": 41,
   "metadata": {},
   "outputs": [],
   "source": [
    "from sklearn.feature_extraction.text import TfidfVectorizer"
   ]
  },
  {
   "cell_type": "code",
   "execution_count": 42,
   "metadata": {},
   "outputs": [
    {
     "name": "stdout",
     "output_type": "stream",
     "text": [
      "['cat' 'dog' 'mat' 'mouse' 'my' 'the']\n",
      "[[0.34184591 0.51646957 0.41812662 0.         0.51646957 0.41812662]\n",
      " [0.5004907  0.         0.61217198 0.         0.         0.61217198]\n",
      " [0.30481296 0.         0.37283001 0.46051924 0.         0.74566002]\n",
      " [0.35696573 0.53931298 0.         0.53931298 0.53931298 0.        ]]\n"
     ]
    }
   ],
   "source": [
    "vectorizer = TfidfVectorizer(max_features = max_features)\n",
    "\n",
    "vectors = vectorizer.fit_transform(documents)\n",
    "\n",
    "vectors_array = vectors.toarray()\n",
    "\n",
    "feature_names = vectorizer.get_feature_names_out()\n",
    "\n",
    "print(feature_names)\n",
    "\n",
    "print(vectors_array)"
   ]
  },
  {
   "cell_type": "code",
   "execution_count": 43,
   "metadata": {},
   "outputs": [
    {
     "data": {
      "text/html": [
       "<div>\n",
       "<style scoped>\n",
       "    .dataframe tbody tr th:only-of-type {\n",
       "        vertical-align: middle;\n",
       "    }\n",
       "\n",
       "    .dataframe tbody tr th {\n",
       "        vertical-align: top;\n",
       "    }\n",
       "\n",
       "    .dataframe thead th {\n",
       "        text-align: right;\n",
       "    }\n",
       "</style>\n",
       "<table border=\"1\" class=\"dataframe\">\n",
       "  <thead>\n",
       "    <tr style=\"text-align: right;\">\n",
       "      <th></th>\n",
       "      <th>cat</th>\n",
       "      <th>dog</th>\n",
       "      <th>mat</th>\n",
       "      <th>mouse</th>\n",
       "      <th>my</th>\n",
       "      <th>the</th>\n",
       "    </tr>\n",
       "  </thead>\n",
       "  <tbody>\n",
       "    <tr>\n",
       "      <th>0</th>\n",
       "      <td>0.341846</td>\n",
       "      <td>0.516470</td>\n",
       "      <td>0.418127</td>\n",
       "      <td>0.000000</td>\n",
       "      <td>0.516470</td>\n",
       "      <td>0.418127</td>\n",
       "    </tr>\n",
       "    <tr>\n",
       "      <th>1</th>\n",
       "      <td>0.500491</td>\n",
       "      <td>0.000000</td>\n",
       "      <td>0.612172</td>\n",
       "      <td>0.000000</td>\n",
       "      <td>0.000000</td>\n",
       "      <td>0.612172</td>\n",
       "    </tr>\n",
       "    <tr>\n",
       "      <th>2</th>\n",
       "      <td>0.304813</td>\n",
       "      <td>0.000000</td>\n",
       "      <td>0.372830</td>\n",
       "      <td>0.460519</td>\n",
       "      <td>0.000000</td>\n",
       "      <td>0.745660</td>\n",
       "    </tr>\n",
       "    <tr>\n",
       "      <th>3</th>\n",
       "      <td>0.356966</td>\n",
       "      <td>0.539313</td>\n",
       "      <td>0.000000</td>\n",
       "      <td>0.539313</td>\n",
       "      <td>0.539313</td>\n",
       "      <td>0.000000</td>\n",
       "    </tr>\n",
       "  </tbody>\n",
       "</table>\n",
       "</div>"
      ],
      "text/plain": [
       "        cat       dog       mat     mouse        my       the\n",
       "0  0.341846  0.516470  0.418127  0.000000  0.516470  0.418127\n",
       "1  0.500491  0.000000  0.612172  0.000000  0.000000  0.612172\n",
       "2  0.304813  0.000000  0.372830  0.460519  0.000000  0.745660\n",
       "3  0.356966  0.539313  0.000000  0.539313  0.539313  0.000000"
      ]
     },
     "execution_count": 43,
     "metadata": {},
     "output_type": "execute_result"
    }
   ],
   "source": [
    "vactors_data = pd.DataFrame(data = vectors_array, columns = feature_names)\n",
    "\n",
    "vactors_data"
   ]
  }
 ],
 "metadata": {
  "kernelspec": {
   "display_name": ".venv",
   "language": "python",
   "name": "python3"
  },
  "language_info": {
   "codemirror_mode": {
    "name": "ipython",
    "version": 3
   },
   "file_extension": ".py",
   "mimetype": "text/x-python",
   "name": "python",
   "nbconvert_exporter": "python",
   "pygments_lexer": "ipython3",
   "version": "3.10.11"
  }
 },
 "nbformat": 4,
 "nbformat_minor": 2
}
