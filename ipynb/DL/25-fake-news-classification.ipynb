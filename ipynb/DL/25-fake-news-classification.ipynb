{
 "cells": [
  {
   "cell_type": "code",
   "execution_count": 1,
   "metadata": {},
   "outputs": [
    {
     "data": {
      "text/html": [
       "<div>\n",
       "<style scoped>\n",
       "    .dataframe tbody tr th:only-of-type {\n",
       "        vertical-align: middle;\n",
       "    }\n",
       "\n",
       "    .dataframe tbody tr th {\n",
       "        vertical-align: top;\n",
       "    }\n",
       "\n",
       "    .dataframe thead th {\n",
       "        text-align: right;\n",
       "    }\n",
       "</style>\n",
       "<table border=\"1\" class=\"dataframe\">\n",
       "  <thead>\n",
       "    <tr style=\"text-align: right;\">\n",
       "      <th></th>\n",
       "      <th>id</th>\n",
       "      <th>title</th>\n",
       "      <th>author</th>\n",
       "      <th>text</th>\n",
       "      <th>label</th>\n",
       "    </tr>\n",
       "  </thead>\n",
       "  <tbody>\n",
       "    <tr>\n",
       "      <th>0</th>\n",
       "      <td>0</td>\n",
       "      <td>House Dem Aide: We Didn’t Even See Comey’s Let...</td>\n",
       "      <td>Darrell Lucus</td>\n",
       "      <td>House Dem Aide: We Didn’t Even See Comey’s Let...</td>\n",
       "      <td>1</td>\n",
       "    </tr>\n",
       "    <tr>\n",
       "      <th>1</th>\n",
       "      <td>1</td>\n",
       "      <td>FLYNN: Hillary Clinton, Big Woman on Campus - ...</td>\n",
       "      <td>Daniel J. Flynn</td>\n",
       "      <td>Ever get the feeling your life circles the rou...</td>\n",
       "      <td>0</td>\n",
       "    </tr>\n",
       "    <tr>\n",
       "      <th>2</th>\n",
       "      <td>2</td>\n",
       "      <td>Why the Truth Might Get You Fired</td>\n",
       "      <td>Consortiumnews.com</td>\n",
       "      <td>Why the Truth Might Get You Fired October 29, ...</td>\n",
       "      <td>1</td>\n",
       "    </tr>\n",
       "    <tr>\n",
       "      <th>3</th>\n",
       "      <td>3</td>\n",
       "      <td>15 Civilians Killed In Single US Airstrike Hav...</td>\n",
       "      <td>Jessica Purkiss</td>\n",
       "      <td>Videos 15 Civilians Killed In Single US Airstr...</td>\n",
       "      <td>1</td>\n",
       "    </tr>\n",
       "    <tr>\n",
       "      <th>4</th>\n",
       "      <td>4</td>\n",
       "      <td>Iranian woman jailed for fictional unpublished...</td>\n",
       "      <td>Howard Portnoy</td>\n",
       "      <td>Print \\nAn Iranian woman has been sentenced to...</td>\n",
       "      <td>1</td>\n",
       "    </tr>\n",
       "  </tbody>\n",
       "</table>\n",
       "</div>"
      ],
      "text/plain": [
       "   id                                              title              author  \\\n",
       "0   0  House Dem Aide: We Didn’t Even See Comey’s Let...       Darrell Lucus   \n",
       "1   1  FLYNN: Hillary Clinton, Big Woman on Campus - ...     Daniel J. Flynn   \n",
       "2   2                  Why the Truth Might Get You Fired  Consortiumnews.com   \n",
       "3   3  15 Civilians Killed In Single US Airstrike Hav...     Jessica Purkiss   \n",
       "4   4  Iranian woman jailed for fictional unpublished...      Howard Portnoy   \n",
       "\n",
       "                                                text  label  \n",
       "0  House Dem Aide: We Didn’t Even See Comey’s Let...      1  \n",
       "1  Ever get the feeling your life circles the rou...      0  \n",
       "2  Why the Truth Might Get You Fired October 29, ...      1  \n",
       "3  Videos 15 Civilians Killed In Single US Airstr...      1  \n",
       "4  Print \\nAn Iranian woman has been sentenced to...      1  "
      ]
     },
     "execution_count": 1,
     "metadata": {},
     "output_type": "execute_result"
    }
   ],
   "source": [
    "import pandas as pd\n",
    "\n",
    "data = pd.read_csv(\"datasets/news.csv\")\n",
    "\n",
    "data.head()"
   ]
  },
  {
   "cell_type": "code",
   "execution_count": 2,
   "metadata": {},
   "outputs": [
    {
     "name": "stdout",
     "output_type": "stream",
     "text": [
      "<class 'pandas.core.frame.DataFrame'>\n",
      "RangeIndex: 20800 entries, 0 to 20799\n",
      "Data columns (total 5 columns):\n",
      " #   Column  Non-Null Count  Dtype \n",
      "---  ------  --------------  ----- \n",
      " 0   id      20800 non-null  int64 \n",
      " 1   title   20242 non-null  object\n",
      " 2   author  18843 non-null  object\n",
      " 3   text    20761 non-null  object\n",
      " 4   label   20800 non-null  int64 \n",
      "dtypes: int64(2), object(3)\n",
      "memory usage: 812.6+ KB\n"
     ]
    }
   ],
   "source": [
    "data.info()"
   ]
  },
  {
   "cell_type": "code",
   "execution_count": 3,
   "metadata": {},
   "outputs": [],
   "source": [
    "data.fillna(\"unavailable\", inplace = True)"
   ]
  },
  {
   "cell_type": "code",
   "execution_count": 4,
   "metadata": {},
   "outputs": [],
   "source": [
    "data[\"news\"] = data['author'] + \" \" + data['title'] + \" \" + data['text']"
   ]
  },
  {
   "cell_type": "code",
   "execution_count": null,
   "metadata": {},
   "outputs": [],
   "source": [
    "import nltk\n",
    "\n",
    "nltk.download(\"stopwords\")"
   ]
  },
  {
   "cell_type": "code",
   "execution_count": 5,
   "metadata": {},
   "outputs": [],
   "source": [
    "from nltk.corpus import stopwords\n",
    "from nltk.stem.porter import PorterStemmer\n",
    "\n",
    "stop_words = stopwords.words(\"english\")\n",
    "stemmer = PorterStemmer()"
   ]
  },
  {
   "cell_type": "code",
   "execution_count": 17,
   "metadata": {},
   "outputs": [],
   "source": [
    "import re\n",
    "\n",
    "def process_text(text):\n",
    "  text = \"\".join([re.sub(\"[^a-zA-Z]\", \" \", char) for char in text])\n",
    "  text = text.lower()\n",
    "  text = text.split()\n",
    "  text = [stemmer.stem(word) for word in text if word not in set(stop_words)]\n",
    "  text = \" \".join(text)\n",
    "\n",
    "  return text"
   ]
  },
  {
   "cell_type": "code",
   "execution_count": 18,
   "metadata": {},
   "outputs": [],
   "source": [
    "data[\"news\"] = data[\"news\"].apply(process_text)"
   ]
  },
  {
   "cell_type": "code",
   "execution_count": 21,
   "metadata": {},
   "outputs": [
    {
     "name": "stdout",
     "output_type": "stream",
     "text": [
      "This is an example sentence => [18, 37, 6, 12, 23]\n",
      "Anthor sentence for demonstration purpose => [4, 23, 1, 29, 23]\n",
      "Yet another sentence to encode => [25, 28, 23, 20, 5]\n"
     ]
    }
   ],
   "source": [
    "from tensorflow.keras.preprocessing.text import one_hot\n",
    "\n",
    "vocabularies_size = 40\n",
    "\n",
    "sample_data = [\n",
    "  \"This is an example sentence\",\n",
    "  \"Anthor sentence for demonstration purpose\",\n",
    "  \"Yet another sentence to encode\"\n",
    "]\n",
    "\n",
    "encoded_data = [one_hot(text, vocabularies_size) for text in sample_data]\n",
    "\n",
    "for text, encoded_text in zip(sample_data, encoded_data):\n",
    "  print(f\"{text} => {encoded_text}\")"
   ]
  },
  {
   "cell_type": "code",
   "execution_count": 26,
   "metadata": {},
   "outputs": [
    {
     "name": "stdout",
     "output_type": "stream",
     "text": [
      "[29406, 33180, 2128, 22852, 40955, 30187, 38270, 15114, 36158, 16282, 5664, 14407, 2128, 22852, 40955, 30187, 38270, 15114, 36158, 16282, 5664, 14407, 29406, 33180, 9517, 12686, 16282, 5664, 17661, 38832, 244, 28969, 41237, 3441, 13039, 43632, 35259, 10179, 20302, 15928, 25662, 12561, 18908, 32887, 31637, 7641, 2699, 22456, 9528, 33218, 36764, 15114, 45201, 2128, 21638, 40955, 28533, 2903, 21470, 20908, 43613, 31637, 7641, 26894, 8158, 15114, 22534, 18781, 36158, 46584, 9528, 28533, 45078, 35937, 1165, 45176, 1994, 45078, 38386, 47794, 21638, 11654, 8547, 37416, 15114, 35105, 14740, 14407, 49188, 11517, 8547, 9678, 20908, 15114, 39665, 11517, 9678, 21638, 47794, 11162, 2128, 14203, 45839, 3777, 8547, 12402, 27610, 45078, 41127, 46609, 2115, 38270, 47486, 35748, 15935, 8655, 36158, 1152, 3777, 8547, 46509, 16282, 5664, 15486, 16512, 2699, 20829, 14407, 9528, 7922, 15935, 9528, 49688, 33411, 45078, 24353, 30066, 47918, 26749, 34784, 16282, 5664, 38104, 9517, 41857, 20908, 26749, 15114, 15786, 46637, 27610, 45078, 41737, 42073, 26749, 20908, 40047, 24552, 3822, 32283, 42257, 31032, 20268, 10915, 5242, 5664, 28969, 11517, 38819, 25880, 21128, 9987, 47918, 45176, 41299, 47062, 21247, 18923, 32093, 44805, 6186, 40293, 32093, 42257, 5664, 9702, 9528, 38819, 27401, 34423, 14407, 20071, 34933, 14760, 20631, 36400, 21865, 16489, 45201, 37382, 2128, 21638, 40955, 48344, 36158, 35937, 47062, 5664, 23768, 40955, 30400, 1120, 36760, 21638, 30187, 20908, 15114, 36158, 38068, 35105, 46174, 32338, 21638, 47794, 11162, 11654, 8547, 28497, 15114, 36158, 11517, 9678, 10915, 21638, 47794, 11162, 28497, 46509, 3777, 10473, 10398, 8547, 16282, 5664, 14407, 43185, 49965, 38350, 38270, 8679, 1119, 9528, 33218, 4578, 5664, 44506, 8547, 9678, 33093, 39739, 5362, 16512, 27273, 47918, 18165, 5664, 21285, 3441, 38350, 21638, 15849, 20908, 3430, 45201, 40955, 43185, 39229, 32338, 38819, 42696, 46058, 44957, 15114, 23450, 38287, 5032, 36158, 5664, 11517, 7004, 38068, 8158, 23203, 5383, 35937, 27149, 3179, 47389, 40790, 34287, 30187, 5126, 26749, 40790, 34287, 5126, 15114, 38823, 24736, 47942, 23291, 36492, 5126, 30325, 5664, 15731, 34529, 27149, 13301, 18949, 29406, 10223, 28533, 2903, 42397, 7245, 20069, 30187, 2642, 39665, 47794, 11162, 34839, 12157, 1872, 27273, 15864, 13330, 25256, 10592, 20908, 7403, 2903, 5664, 36269, 18504, 27691, 11517, 48244, 21781, 6664, 47923, 19295, 25756, 49106, 28906, 22484, 1973, 22940, 45947, 6761, 487, 49106, 19617, 11517, 2128, 19791, 49061, 36721, 10072, 5664, 33256, 36010, 20578, 30938, 8158, 5552, 41737, 25155, 9554, 2128, 17191, 11517, 47111, 21470, 43613, 31637, 7641, 2699, 29406, 33180, 29406, 1872, 15471, 35893, 41778, 48784, 18619, 19317, 37969, 29628, 28955, 8158, 11162, 22135, 1119, 5463, 49097, 8158, 22135, 1119, 31637, 2657, 6894, 34537, 6047, 41221, 41591, 972, 29462, 12930, 32663, 45512, 4315, 11061, 18923, 49809, 35937, 20908, 46058, 44957, 34537, 22852, 26298, 37194, 32338, 9879, 40866, 39203, 9778, 45224, 29406, 38623, 12380, 40866]\n"
     ]
    }
   ],
   "source": [
    "vocabularies_size = 50000\n",
    "\n",
    "news_list = data[\"news\"]\n",
    "\n",
    "news_list = [one_hot(news, vocabularies_size) for news in news_list]\n",
    "\n",
    "print(news_list[0])"
   ]
  },
  {
   "cell_type": "code",
   "execution_count": 28,
   "metadata": {},
   "outputs": [
    {
     "name": "stdout",
     "output_type": "stream",
     "text": [
      "[29406 33180  2128 22852 40955 30187 38270 15114 36158 16282  5664 14407\n",
      "  2128 22852 40955 30187 38270 15114 36158 16282  5664 14407 29406 33180\n",
      "  9517 12686 16282  5664 17661 38832   244 28969 41237  3441 13039 43632\n",
      " 35259 10179 20302 15928 25662 12561 18908 32887 31637  7641  2699 22456\n",
      "  9528 33218 36764 15114 45201  2128 21638 40955 28533  2903 21470 20908\n",
      " 43613 31637  7641 26894  8158 15114 22534 18781 36158 46584  9528 28533\n",
      " 45078 35937  1165 45176  1994 45078 38386 47794 21638 11654  8547 37416\n",
      " 15114 35105 14740 14407 49188 11517  8547  9678 20908 15114 39665 11517\n",
      "  9678 21638 47794 11162  2128 14203 45839  3777  8547 12402 27610 45078\n",
      " 41127 46609  2115 38270 47486 35748 15935  8655 36158  1152  3777  8547\n",
      " 46509 16282  5664 15486 16512  2699 20829 14407  9528  7922 15935  9528\n",
      " 49688 33411 45078 24353 30066 47918 26749 34784 16282  5664 38104  9517\n",
      " 41857 20908 26749 15114 15786 46637 27610 45078 41737 42073 26749 20908\n",
      " 40047 24552  3822 32283 42257 31032 20268 10915  5242  5664 28969 11517\n",
      " 38819 25880 21128  9987 47918 45176 41299 47062 21247 18923 32093 44805\n",
      "  6186 40293 32093 42257  5664  9702  9528 38819 27401 34423 14407 20071\n",
      " 34933 14760 20631 36400 21865 16489 45201 37382  2128 21638 40955 48344\n",
      " 36158 35937 47062  5664 23768 40955 30400  1120 36760 21638 30187 20908\n",
      " 15114 36158 38068 35105 46174 32338 21638 47794 11162 11654  8547 28497\n",
      " 15114 36158 11517  9678 10915 21638 47794 11162 28497 46509  3777 10473\n",
      " 10398  8547 16282  5664 14407 43185 49965 38350 38270  8679  1119  9528\n",
      " 33218  4578  5664 44506  8547  9678 33093 39739  5362 16512 27273 47918\n",
      " 18165  5664 21285  3441 38350 21638 15849 20908  3430 45201 40955 43185\n",
      " 39229 32338 38819 42696 46058 44957 15114 23450 38287  5032 36158  5664\n",
      " 11517  7004 38068  8158 23203  5383 35937 27149  3179 47389 40790 34287\n",
      " 30187  5126 26749 40790 34287  5126 15114 38823 24736 47942 23291 36492\n",
      "  5126 30325  5664 15731 34529 27149 13301 18949 29406 10223 28533  2903\n",
      " 42397  7245 20069 30187  2642 39665 47794 11162 34839 12157  1872 27273\n",
      " 15864 13330 25256 10592 20908  7403  2903  5664 36269 18504 27691 11517\n",
      " 48244 21781  6664 47923 19295 25756 49106 28906 22484  1973 22940 45947\n",
      "  6761   487 49106 19617 11517  2128 19791 49061 36721 10072  5664 33256\n",
      " 36010 20578 30938  8158  5552 41737 25155  9554  2128 17191 11517 47111\n",
      " 21470 43613 31637  7641  2699 29406 33180 29406  1872 15471 35893 41778\n",
      " 48784 18619 19317 37969 29628 28955  8158 11162 22135  1119  5463 49097\n",
      "  8158 22135  1119 31637  2657  6894 34537  6047 41221 41591   972 29462\n",
      " 12930 32663 45512  4315 11061 18923 49809 35937 20908 46058 44957 34537\n",
      " 22852 26298 37194 32338  9879 40866 39203  9778 45224 29406 38623 12380\n",
      " 40866     0     0     0     0     0     0     0     0     0     0     0\n",
      "     0     0     0     0     0     0     0     0     0     0     0     0\n",
      "     0     0     0     0     0     0     0     0     0     0     0     0\n",
      "     0     0     0     0     0     0     0     0     0     0     0     0\n",
      "     0     0     0     0     0     0     0     0]\n"
     ]
    }
   ],
   "source": [
    "from tensorflow.keras.preprocessing.sequence import pad_sequences\n",
    "\n",
    "maxlen = 500\n",
    "\n",
    "x = pad_sequences(news_list, padding = \"post\", maxlen = maxlen)\n",
    "y = data[\"label\"].values\n",
    "\n",
    "print(x[0])"
   ]
  },
  {
   "cell_type": "code",
   "execution_count": 33,
   "metadata": {},
   "outputs": [],
   "source": [
    "from sklearn.model_selection import train_test_split\n",
    "\n",
    "x_train, x_valid, y_train, y_valid = train_test_split(x, y, random_state = 42)"
   ]
  },
  {
   "cell_type": "code",
   "execution_count": 34,
   "metadata": {},
   "outputs": [],
   "source": [
    "from keras import Sequential\n",
    "from keras.layers import Input, Embedding, Bidirectional, LSTM, Dense, Dropout\n",
    "\n",
    "model = Sequential([\n",
    "  Input(shape = (maxlen,)),\n",
    "  Embedding(input_dim = vocabularies_size, output_dim = 50),\n",
    "  Bidirectional(LSTM(100)),\n",
    "  Dropout(0.1),\n",
    "  Dense(1, activation = \"sigmoid\")\n",
    "])\n",
    "\n",
    "model.compile(optimizer = \"adam\", loss = \"binary_crossentropy\", metrics = [\"accuracy\"])"
   ]
  },
  {
   "cell_type": "code",
   "execution_count": 36,
   "metadata": {},
   "outputs": [
    {
     "name": "stdout",
     "output_type": "stream",
     "text": [
      "Epoch 1/20\n"
     ]
    },
    {
     "name": "stdout",
     "output_type": "stream",
     "text": [
      "\u001b[1m126/126\u001b[0m \u001b[32m━━━━━━━━━━━━━━━━━━━━\u001b[0m\u001b[37m\u001b[0m \u001b[1m513s\u001b[0m 4s/step - accuracy: 0.9277 - loss: 0.1943 - val_accuracy: 0.9544 - val_loss: 0.1358\n",
      "Epoch 2/20\n",
      "\u001b[1m126/126\u001b[0m \u001b[32m━━━━━━━━━━━━━━━━━━━━\u001b[0m\u001b[37m\u001b[0m \u001b[1m479s\u001b[0m 3s/step - accuracy: 0.9810 - loss: 0.0660 - val_accuracy: 0.9594 - val_loss: 0.1149\n",
      "Epoch 3/20\n",
      "\u001b[1m126/126\u001b[0m \u001b[32m━━━━━━━━━━━━━━━━━━━━\u001b[0m\u001b[37m\u001b[0m \u001b[1m430s\u001b[0m 3s/step - accuracy: 0.9903 - loss: 0.0354 - val_accuracy: 0.9544 - val_loss: 0.1222\n",
      "Epoch 4/20\n",
      "\u001b[1m126/126\u001b[0m \u001b[32m━━━━━━━━━━━━━━━━━━━━\u001b[0m\u001b[37m\u001b[0m \u001b[1m420s\u001b[0m 3s/step - accuracy: 0.9906 - loss: 0.0342 - val_accuracy: 0.9488 - val_loss: 0.1554\n",
      "Epoch 5/20\n",
      "\u001b[1m126/126\u001b[0m \u001b[32m━━━━━━━━━━━━━━━━━━━━\u001b[0m\u001b[37m\u001b[0m \u001b[1m426s\u001b[0m 3s/step - accuracy: 0.9956 - loss: 0.0183 - val_accuracy: 0.9567 - val_loss: 0.1376\n",
      "Epoch 6/20\n",
      "\u001b[1m126/126\u001b[0m \u001b[32m━━━━━━━━━━━━━━━━━━━━\u001b[0m\u001b[37m\u001b[0m \u001b[1m423s\u001b[0m 3s/step - accuracy: 0.9944 - loss: 0.0174 - val_accuracy: 0.9544 - val_loss: 0.1760\n",
      "Epoch 7/20\n",
      "\u001b[1m126/126\u001b[0m \u001b[32m━━━━━━━━━━━━━━━━━━━━\u001b[0m\u001b[37m\u001b[0m \u001b[1m428s\u001b[0m 3s/step - accuracy: 0.9990 - loss: 0.0053 - val_accuracy: 0.9542 - val_loss: 0.1743\n",
      "Epoch 8/20\n",
      "\u001b[1m126/126\u001b[0m \u001b[32m━━━━━━━━━━━━━━━━━━━━\u001b[0m\u001b[37m\u001b[0m \u001b[1m424s\u001b[0m 3s/step - accuracy: 0.9993 - loss: 0.0024 - val_accuracy: 0.9533 - val_loss: 0.2300\n",
      "Epoch 9/20\n",
      "\u001b[1m126/126\u001b[0m \u001b[32m━━━━━━━━━━━━━━━━━━━━\u001b[0m\u001b[37m\u001b[0m \u001b[1m424s\u001b[0m 3s/step - accuracy: 0.9995 - loss: 0.0026 - val_accuracy: 0.9538 - val_loss: 0.2245\n",
      "Epoch 10/20\n",
      "\u001b[1m126/126\u001b[0m \u001b[32m━━━━━━━━━━━━━━━━━━━━\u001b[0m\u001b[37m\u001b[0m \u001b[1m668s\u001b[0m 5s/step - accuracy: 1.0000 - loss: 7.2537e-04 - val_accuracy: 0.9540 - val_loss: 0.2290\n",
      "Epoch 11/20\n",
      "\u001b[1m126/126\u001b[0m \u001b[32m━━━━━━━━━━━━━━━━━━━━\u001b[0m\u001b[37m\u001b[0m \u001b[1m606s\u001b[0m 5s/step - accuracy: 0.9984 - loss: 0.0071 - val_accuracy: 0.9446 - val_loss: 0.1952\n",
      "Epoch 12/20\n",
      "\u001b[1m126/126\u001b[0m \u001b[32m━━━━━━━━━━━━━━━━━━━━\u001b[0m\u001b[37m\u001b[0m \u001b[1m474s\u001b[0m 4s/step - accuracy: 0.9956 - loss: 0.0127 - val_accuracy: 0.9477 - val_loss: 0.2105\n",
      "Epoch 13/20\n",
      "\u001b[1m126/126\u001b[0m \u001b[32m━━━━━━━━━━━━━━━━━━━━\u001b[0m\u001b[37m\u001b[0m \u001b[1m493s\u001b[0m 4s/step - accuracy: 0.9890 - loss: 0.0337 - val_accuracy: 0.9510 - val_loss: 0.1855\n",
      "Epoch 14/20\n",
      "\u001b[1m126/126\u001b[0m \u001b[32m━━━━━━━━━━━━━━━━━━━━\u001b[0m\u001b[37m\u001b[0m \u001b[1m507s\u001b[0m 4s/step - accuracy: 0.9978 - loss: 0.0075 - val_accuracy: 0.9535 - val_loss: 0.1908\n",
      "Epoch 15/20\n",
      "\u001b[1m126/126\u001b[0m \u001b[32m━━━━━━━━━━━━━━━━━━━━\u001b[0m\u001b[37m\u001b[0m \u001b[1m522s\u001b[0m 4s/step - accuracy: 0.9998 - loss: 0.0015 - val_accuracy: 0.9535 - val_loss: 0.1985\n",
      "Epoch 16/20\n",
      "\u001b[1m126/126\u001b[0m \u001b[32m━━━━━━━━━━━━━━━━━━━━\u001b[0m\u001b[37m\u001b[0m \u001b[1m589s\u001b[0m 5s/step - accuracy: 1.0000 - loss: 4.6241e-04 - val_accuracy: 0.9538 - val_loss: 0.2167\n",
      "Epoch 17/20\n",
      "\u001b[1m126/126\u001b[0m \u001b[32m━━━━━━━━━━━━━━━━━━━━\u001b[0m\u001b[37m\u001b[0m \u001b[1m585s\u001b[0m 4s/step - accuracy: 1.0000 - loss: 2.7580e-04 - val_accuracy: 0.9535 - val_loss: 0.2302\n",
      "Epoch 18/20\n",
      "\u001b[1m126/126\u001b[0m \u001b[32m━━━━━━━━━━━━━━━━━━━━\u001b[0m\u001b[37m\u001b[0m \u001b[1m525s\u001b[0m 4s/step - accuracy: 1.0000 - loss: 2.2626e-04 - val_accuracy: 0.9519 - val_loss: 0.2292\n",
      "Epoch 19/20\n",
      "\u001b[1m126/126\u001b[0m \u001b[32m━━━━━━━━━━━━━━━━━━━━\u001b[0m\u001b[37m\u001b[0m \u001b[1m556s\u001b[0m 4s/step - accuracy: 1.0000 - loss: 1.2982e-04 - val_accuracy: 0.9533 - val_loss: 0.2440\n",
      "Epoch 20/20\n",
      "\u001b[1m126/126\u001b[0m \u001b[32m━━━━━━━━━━━━━━━━━━━━\u001b[0m\u001b[37m\u001b[0m \u001b[1m538s\u001b[0m 4s/step - accuracy: 1.0000 - loss: 1.1328e-04 - val_accuracy: 0.9529 - val_loss: 0.2465\n"
     ]
    }
   ],
   "source": [
    "model_output = model.fit(x_train, y_train, batch_size = 124, epochs = 20, validation_data = (x_valid, y_valid))"
   ]
  },
  {
   "cell_type": "code",
   "execution_count": 37,
   "metadata": {},
   "outputs": [
    {
     "data": {
      "image/png": "[encoded data removed]",
      "text/plain": [
       "<Figure size 640x480 with 1 Axes>"
      ]
     },
     "metadata": {},
     "output_type": "display_data"
    }
   ],
   "source": [
    "import matplotlib.pyplot as plt\n",
    "\n",
    "plt.plot(model_output.history[\"accuracy\"], label = \"Train\")\n",
    "plt.plot(model_output.history[\"val_accuracy\"], label = \"Validation\")\n",
    "\n",
    "plt.xlabel(\"Epochs\")\n",
    "plt.ylabel(\"Accuracy\")\n",
    "plt.legend()\n",
    "plt.show()"
   ]
  },
  {
   "cell_type": "code",
   "execution_count": 38,
   "metadata": {},
   "outputs": [],
   "source": [
    "model.save(\"25-dumps/model.keras\")"
   ]
  },
  {
   "cell_type": "code",
   "execution_count": 39,
   "metadata": {},
   "outputs": [],
   "source": [
    "title = \"House Dem Aide: We Didn't Even See Comey's Letter Until Jason Chaffetz Tweeted It\"\n",
    "author = \"Darrell Lucus\"\n",
    "text='''\n",
    "House Dem Aide: We Didn't Even See Comey's Letter Until Jason Chaffetz Tweeted It By Darrell Lucus on October 30, 2016 Subscribe Jason Chaffetz on the stump in American Fork, Utah ( image courtesy Michael Jolley, available under a Creative Commons-BY license) \n",
    "With apologies to Keith Olbermann, there is no doubt who the Worst Person in The World is this week–FBI Director James Comey. But according to a House Democratic aide, it looks like we also know who the second-worst person is as well. It turns out that when Comey sent his now-infamous letter announcing that the FBI was looking into emails that may be related to Hillary Clinton's email server, the ranking Democrats on the relevant committees didn't hear about it from Comey. They found out via a tweet from one of the Republican committee chairmen. \n",
    "As we now know, Comey notified the Republican chairmen and Democratic ranking members of the House Intelligence, Judiciary, and Oversight committees that his agency was reviewing emails it had recently discovered in order to see if they contained classified information. Not long after this letter went out, Oversight Committee Chairman Jason Chaffetz set the political world ablaze with this tweet. FBI Dir just informed me, \"\"The FBI has learned of the existence of emails that appear to be pertinent to the investigation.\n",
    "'''"
   ]
  },
  {
   "cell_type": "code",
   "execution_count": 40,
   "metadata": {},
   "outputs": [],
   "source": [
    "news = author + \" \" + title + \" \" + text\n",
    "news = process_text(news)\n",
    "news = one_hot(news, vocabularies_size)\n",
    "news = pad_sequences([news], padding = \"post\", maxlen = maxlen)"
   ]
  },
  {
   "cell_type": "code",
   "execution_count": 41,
   "metadata": {},
   "outputs": [
    {
     "name": "stdout",
     "output_type": "stream",
     "text": [
      "\u001b[1m1/1\u001b[0m \u001b[32m━━━━━━━━━━━━━━━━━━━━\u001b[0m\u001b[37m\u001b[0m \u001b[1m1s\u001b[0m 564ms/step\n",
      "Fake!\n"
     ]
    }
   ],
   "source": [
    "predictions = model.predict([news])\n",
    "  \n",
    "print(\"Fake!\" if predictions[0] > 0.5 else \"True!\")"
   ]
  }
 ],
 "metadata": {
  "kernelspec": {
   "display_name": ".venv",
   "language": "python",
   "name": "python3"
  },
  "language_info": {
   "codemirror_mode": {
    "name": "ipython",
    "version": 3
   },
   "file_extension": ".py",
   "mimetype": "text/x-python",
   "name": "python",
   "nbconvert_exporter": "python",
   "pygments_lexer": "ipython3",
   "version": "3.10.11"
  }
 },
 "nbformat": 4,
 "nbformat_minor": 2
}
