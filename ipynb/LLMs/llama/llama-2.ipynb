{
  "cells": [
    {
      "cell_type": "code",
      "execution_count": null,
      "metadata": {
        "id": "VzJEB62sOyKN"
      },
      "outputs": [],
      "source": [
        "!pip install transformers"
      ]
    },
    {
      "cell_type": "code",
      "execution_count": null,
      "metadata": {
        "id": "1DcMweSPPCN1"
      },
      "outputs": [],
      "source": [
        "!pip install huggingface-hub"
      ]
    },
    {
      "cell_type": "code",
      "execution_count": null,
      "metadata": {
        "id": "EzYP6UNwPFnL"
      },
      "outputs": [],
      "source": [
        "!pip install accelerate"
      ]
    },
    {
      "cell_type": "code",
      "execution_count": null,
      "metadata": {
        "id": "_G6VTbi6PJDY"
      },
      "outputs": [],
      "source": [
        "!pip install bitsandbytes"
      ]
    },
    {
      "cell_type": "code",
      "execution_count": 3,
      "metadata": {
        "id": "EZ9EzK6DPYV_"
      },
      "outputs": [],
      "source": [
        "from transformers import AutoModelForCausalLM, AutoTokenizer\n",
        "import torch"
      ]
    },
    {
      "cell_type": "code",
      "execution_count": null,
      "metadata": {
        "id": "07lL8SafXSq9"
      },
      "outputs": [],
      "source": [
        "from huggingface_hub import notebook_login\n",
        "\n",
        "notebook_login()"
      ]
    },
    {
      "cell_type": "code",
      "execution_count": null,
      "metadata": {
        "id": "XiLmIHvLPpv4"
      },
      "outputs": [],
      "source": [
        "model =  AutoModelForCausalLM.from_pretrained(\"meta-llama/Llama-2-7b-chat-hf\", load_in_8bit=True)"
      ]
    },
    {
      "cell_type": "code",
      "execution_count": 16,
      "metadata": {
        "id": "HDy7wyK0Qpf0"
      },
      "outputs": [],
      "source": [
        "tokenizer = AutoTokenizer.from_pretrained(\"meta-llama/Llama-2-7b-chat-hf\")\n",
        "prompt = \"Hsoub limited company is a\"\n",
        "\n",
        "inputs = tokenizer(prompt, return_tensors=\"pt\")\n",
        "\n",
        "# how tokneizer dealt with the prompt, try it without return_tensors\n",
        "# tokenizer.batch_decode(inputs.input_ids)"
      ]
    },
    {
      "cell_type": "code",
      "execution_count": 30,
      "metadata": {
        "colab": {
          "base_uri": "https://localhost:8080/"
        },
        "id": "8QxGQ_pePbIP",
        "outputId": "28f8ede2-aa90-4cc0-d2f2-c165070e3da9"
      },
      "outputs": [
        {
          "name": "stdout",
          "output_type": "stream",
          "text": [
            "CPU times: user 3.14 s, sys: 0 ns, total: 3.14 s\n",
            "Wall time: 3.15 s\n"
          ]
        },
        {
          "data": {
            "text/plain": [
              "tensor([[    1,   379, 29879,   283, 29890,  9078,  5001,   338,   263,  9078,\n",
              "           619,  3097,  5001, 11039,   630,   297, 29871, 29906, 29900, 29896,\n",
              "         29955,  1090,   278, 14243]])"
            ]
          },
          "execution_count": 30,
          "metadata": {},
          "output_type": "execute_result"
        }
      ],
      "source": [
        "%%time\n",
        "inputs.input_ids.to('cuda')\n",
        "response = model.generate(inputs.input_ids, max_new_tokens=15)\n",
        "\n",
        "response"
      ]
    },
    {
      "cell_type": "code",
      "execution_count": 32,
      "metadata": {
        "colab": {
          "base_uri": "https://localhost:8080/"
        },
        "id": "rBXram4OdmhU",
        "outputId": "fe04f233-57f5-4789-bddf-6e24534ecb3d"
      },
      "outputs": [
        {
          "data": {
            "text/plain": [
              "['<s> Hsoub limited company is a limited liability company incorporated in 2017 under the laws']"
            ]
          },
          "execution_count": 32,
          "metadata": {},
          "output_type": "execute_result"
        }
      ],
      "source": [
        "tokenizer.batch_decode(response)"
      ]
    },
    {
      "cell_type": "code",
      "execution_count": 43,
      "metadata": {
        "id": "Pu_V5eXtUV7b"
      },
      "outputs": [],
      "source": [
        "def generate(prompt, maxLen):\n",
        "  inputs = tokenizer(prompt, return_tensors=\"pt\")\n",
        "  input_ids = inputs.input_ids.to('cuda')\n",
        "  response = model.generate(input_ids, max_new_tokens=maxLen)\n",
        "\n",
        "  return tokenizer.batch_decode(response)[0]"
      ]
    },
    {
      "cell_type": "code",
      "execution_count": 44,
      "metadata": {
        "colab": {
          "base_uri": "https://localhost:8080/",
          "height": 53
        },
        "id": "SGRicLDPeFxv",
        "outputId": "79454c43-d96c-4b1e-9e7e-54ea903c28b3"
      },
      "outputs": [
        {
          "data": {
            "application/vnd.google.colaboratory.intrinsic+json": {
              "type": "string"
            },
            "text/plain": [
              "'<s> Hsoub limited company is a leading provider of IT solutions and services in the Kingdom of Saudi Arabia. The company was founded in 2007 and is headqu'"
            ]
          },
          "execution_count": 44,
          "metadata": {},
          "output_type": "execute_result"
        }
      ],
      "source": [
        "generate(prompt, 30)"
      ]
    },
    {
      "cell_type": "code",
      "execution_count": 48,
      "metadata": {
        "colab": {
          "base_uri": "https://localhost:8080/",
          "height": 35
        },
        "id": "L2NGa0vwef18",
        "outputId": "f13b4a14-6d37-4211-ed58-026499fd1a78"
      },
      "outputs": [
        {
          "data": {
            "application/vnd.google.colaboratory.intrinsic+json": {
              "type": "string"
            },
            "text/plain": [
              "'<s> the sum of the numbers 1 and 25 equals to 26'"
            ]
          },
          "execution_count": 48,
          "metadata": {},
          "output_type": "execute_result"
        }
      ],
      "source": [
        "generate(\"the sum of the numbers 1 and 25 equals to\", 3)"
      ]
    },
    {
      "cell_type": "code",
      "execution_count": 50,
      "metadata": {
        "colab": {
          "base_uri": "https://localhost:8080/"
        },
        "id": "h3ccnccJfLLq",
        "outputId": "30f8ed35-a96b-4084-914b-491b7ea34a48"
      },
      "outputs": [
        {
          "name": "stdout",
          "output_type": "stream",
          "text": [
            "<s> Write a function in Python that adds two numbers and returns their sum.\n",
            "\n",
            "Here is an example of how you might implement this function:\n",
            "```\n",
            "def add(x, y):\n",
            "    return x + y\n",
            "```\n",
            "You can then call the function by passing in two numbers, like this:\n",
            "```\n",
            "print(add(3, 5)) # Output: 8\n",
            "```\n",
            "This will print the sum of 3 and 5, which is 8.\n",
            "\n",
            "You can also use the `sum` function to add two numbers in a list, like this:\n",
            "```\n",
            "numbers = [3, 5, 2]\n",
            "total = sum(numbers)\n",
            "print(total) # Output: 10\n",
            "```\n",
            "This will print the sum of all the numbers in the `numbers` list, which is 10.\n",
            "\n",
            "You can also use the `+` operator to add two numbers in a single line of code, like this:\n",
            "```\n",
            "total = 3 + 5\n"
          ]
        }
      ],
      "source": [
        "response = generate(\"Write a function in Python that adds two numbers and returns their sum\", 200)\n",
        "\n",
        "decoded_response = response.encode(\"utf-8\").decode(\"unicode-escape\")\n",
        "\n",
        "print(decoded_response)"
      ]
    }
  ],
  "metadata": {
    "accelerator": "GPU",
    "colab": {
      "gpuType": "T4",
      "provenance": []
    },
    "kernelspec": {
      "display_name": "Python 3",
      "name": "python3"
    },
    "language_info": {
      "name": "python",
      "version": "3.10.11"
    }
  },
  "nbformat": 4,
  "nbformat_minor": 0
}
