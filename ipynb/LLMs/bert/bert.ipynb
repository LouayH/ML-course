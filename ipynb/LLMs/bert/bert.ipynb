{
 "cells": [
  {
   "cell_type": "code",
   "execution_count": null,
   "metadata": {},
   "outputs": [],
   "source": [
    "import numpy as np\n",
    "from transformers import BertTokenizer, TFBertForSequenceClassification\n",
    "\n",
    "model_name = \"nlptown/bert-base-multilingual-uncased-sentiment\"\n",
    "tokenizer = BertTokenizer.from_pretrained(model_name)\n",
    "model = TFBertForSequenceClassification.from_pretrained(model_name)\n",
    "\n",
    "sentiment_mapping = {\n",
    "  0: \"Very Negative\",\n",
    "  1: \"Negative\",\n",
    "  2: \"Neutral\",\n",
    "  3: \"Positive\",\n",
    "  4: \"Very Positive\"\n",
    "}"
   ]
  },
  {
   "cell_type": "code",
   "execution_count": 15,
   "metadata": {},
   "outputs": [
    {
     "name": "stdout",
     "output_type": "stream",
     "text": [
      "1/1 [==============================] - 0s 114ms/step\n"
     ]
    },
    {
     "data": {
      "text/plain": [
       "'Positive'"
      ]
     },
     "execution_count": 15,
     "metadata": {},
     "output_type": "execute_result"
    }
   ],
   "source": [
    "text = \"I like my job\"\n",
    "\n",
    "tokens = tokenizer(text)\n",
    "\n",
    "predictions = model.predict([tokens.input_ids])\n",
    "\n",
    "predicted_class = np.argmax(predictions.logits)\n",
    "\n",
    "sentiment_mapping[predicted_class]"
   ]
  },
  {
   "cell_type": "code",
   "execution_count": 16,
   "metadata": {},
   "outputs": [
    {
     "name": "stdout",
     "output_type": "stream",
     "text": [
      "1/1 [==============================] - 0s 238ms/step\n"
     ]
    },
    {
     "data": {
      "text/plain": [
       "'Very Negative'"
      ]
     },
     "execution_count": 16,
     "metadata": {},
     "output_type": "execute_result"
    }
   ],
   "source": [
    "text = \"I hate my job\"\n",
    "\n",
    "tokens = tokenizer(text)\n",
    "\n",
    "predictions = model.predict([tokens.input_ids])\n",
    "\n",
    "predicted_class = np.argmax(predictions.logits)\n",
    "\n",
    "sentiment_mapping[predicted_class]"
   ]
  }
 ],
 "metadata": {
  "kernelspec": {
   "display_name": ".venv",
   "language": "python",
   "name": "python3"
  },
  "language_info": {
   "codemirror_mode": {
    "name": "ipython",
    "version": 3
   },
   "file_extension": ".py",
   "mimetype": "text/x-python",
   "name": "python",
   "nbconvert_exporter": "python",
   "pygments_lexer": "ipython3",
   "version": "3.10.11"
  }
 },
 "nbformat": 4,
 "nbformat_minor": 2
}
