{
 "cells": [
  {
   "cell_type": "code",
   "execution_count": 2,
   "metadata": {},
   "outputs": [],
   "source": [
    "import openai\n",
    "openai.api_key = \"\""
   ]
  },
  {
   "cell_type": "code",
   "execution_count": 5,
   "metadata": {},
   "outputs": [
    {
     "name": "stdout",
     "output_type": "stream",
     "text": [
      "And we're talking with Jenny. So what is your current occupation? I'm the Assistant Director of Financing at Lady Davidson Private Hospital, which basically caters for me. And so how long have you been in this particular position? In this particular position, it's been four years. Are you able to briefly describe your work or career history today? My career initially started with a lot of painful roles in varying different areas of specialisation within the nursing industry. From burns, plastics, theatres, to a whole different variety. Then I moved into rehab. I also did midwifery for many years. And then I basically moved into a management role when I was 26. And I have been working in a management role for the last 20-something years. Yeah, about 20 years I've been working in management. And I recently did a rehab, a civilian rehab counselling, which I completed a couple of years ago now. So, yeah, so looking at sort of veering away, in some respects, from the traditional clinical role of nursing. Yep. Sort of, I guess, the first thing more broadly speaking, why did you choose to go into nursing? Because I was paid and trained in an employer there at the same time. And in the 70s, things were very difficult in the way of jobs and employment.\n",
      "\n"
     ]
    }
   ],
   "source": [
    "with open(\"../noisey_audio.ogg\", \"rb\") as audio_file:\n",
    "  transcript = openai.Audio.transcribe(\n",
    "    file = audio_file,\n",
    "    model = \"whisper-1\",\n",
    "    response_format = \"text\",\n",
    "    language = \"en\"\n",
    "  )\n",
    "\n",
    "print(transcript)"
   ]
  },
  {
   "cell_type": "code",
   "execution_count": 6,
   "metadata": {},
   "outputs": [
    {
     "name": "stdout",
     "output_type": "stream",
     "text": [
      "1\n",
      "00:00:00,000 --> 00:00:06,000\n",
      "And we're talking with Jenny. So what is your current occupation?\n",
      "\n",
      "2\n",
      "00:00:06,000 --> 00:00:14,000\n",
      "I'm the Assistant Director of Financing at Lady Davidson Private Hospital, which basically caters for me.\n",
      "\n",
      "3\n",
      "00:00:14,000 --> 00:00:17,000\n",
      "And so how long have you been in this particular position?\n",
      "\n",
      "4\n",
      "00:00:17,000 --> 00:00:22,000\n",
      "In this particular position, it's been four years.\n",
      "\n",
      "5\n",
      "00:00:22,000 --> 00:00:28,000\n",
      "Are you able to briefly describe your work or career history today?\n",
      "\n",
      "6\n",
      "00:00:29,000 --> 00:00:40,000\n",
      "My career initially started with a lot of painful roles in varying different areas of specialisation within the nursing industry.\n",
      "\n",
      "7\n",
      "00:00:40,000 --> 00:00:48,000\n",
      "From burns, plastics, theatres, to a whole different variety.\n",
      "\n",
      "8\n",
      "00:00:48,000 --> 00:00:53,000\n",
      "Then I moved into rehab. I also did midwifery for many years.\n",
      "\n",
      "9\n",
      "00:00:53,000 --> 00:00:59,000\n",
      "And then I basically moved into a management role when I was 26.\n",
      "\n",
      "10\n",
      "00:00:59,000 --> 00:01:06,000\n",
      "And I have been working in a management role for the last 20-something years.\n",
      "\n",
      "11\n",
      "00:01:06,000 --> 00:01:10,000\n",
      "Yeah, about 20 years I've been working in management.\n",
      "\n",
      "12\n",
      "00:01:10,000 --> 00:01:20,000\n",
      "And I recently did a rehab, a civilian rehab counselling, which I completed a couple of years ago now.\n",
      "\n",
      "13\n",
      "00:01:21,000 --> 00:01:29,000\n",
      "So, yeah, so looking at sort of veering away, in some respects, from the traditional clinical role of nursing.\n",
      "\n",
      "14\n",
      "00:01:29,000 --> 00:01:35,000\n",
      "Yep. Sort of, I guess, the first thing more broadly speaking, why did you choose to go into nursing?\n",
      "\n",
      "15\n",
      "00:01:35,000 --> 00:01:39,000\n",
      "Because I was paid and trained in an employer there at the same time.\n",
      "\n",
      "16\n",
      "00:01:39,000 --> 00:01:45,000\n",
      "And in the 70s, things were very difficult in the way of jobs and employment.\n",
      "\n",
      "\n",
      "\n"
     ]
    }
   ],
   "source": [
    "with open(\"../noisey_audio.ogg\", \"rb\") as audio_file:\n",
    "  transcript = openai.Audio.transcribe(\n",
    "    file = audio_file,\n",
    "    model = \"whisper-1\",\n",
    "    response_format = \"srt\",\n",
    "    language = \"en\"\n",
    "  )\n",
    "\n",
    "print(transcript)"
   ]
  }
 ],
 "metadata": {
  "kernelspec": {
   "display_name": ".venv",
   "language": "python",
   "name": "python3"
  },
  "language_info": {
   "codemirror_mode": {
    "name": "ipython",
    "version": 3
   },
   "file_extension": ".py",
   "mimetype": "text/x-python",
   "name": "python",
   "nbconvert_exporter": "python",
   "pygments_lexer": "ipython3",
   "version": "3.10.11"
  }
 },
 "nbformat": 4,
 "nbformat_minor": 2
}
