{
 "cells": [
  {
   "cell_type": "code",
   "execution_count": 55,
   "metadata": {},
   "outputs": [],
   "source": [
    "import openai\n",
    "openai.api_key = \"\""
   ]
  },
  {
   "cell_type": "code",
   "execution_count": 56,
   "metadata": {},
   "outputs": [
    {
     "data": {
      "text/plain": [
       "<OpenAIObject chat.completion id=chatcmpl-8sIZjKiaYRmgoKONVlGmHPvFYEmAt at 0x27cb660be20> JSON: {\n",
       "  \"id\": \"chatcmpl-8sIZjKiaYRmgoKONVlGmHPvFYEmAt\",\n",
       "  \"object\": \"chat.completion\",\n",
       "  \"created\": 1707951807,\n",
       "  \"model\": \"gpt-3.5-turbo-0613\",\n",
       "  \"choices\": [\n",
       "    {\n",
       "      \"index\": 0,\n",
       "      \"message\": {\n",
       "        \"role\": \"assistant\",\n",
       "        \"content\": \"Q: Why do programmers always mix up Christmas and Halloween? \\nA: Because Oct 31 == Dec 25!\"\n",
       "      },\n",
       "      \"logprobs\": null,\n",
       "      \"finish_reason\": \"stop\"\n",
       "    }\n",
       "  ],\n",
       "  \"usage\": {\n",
       "    \"prompt_tokens\": 64,\n",
       "    \"completion_tokens\": 24,\n",
       "    \"total_tokens\": 88\n",
       "  },\n",
       "  \"system_fingerprint\": null\n",
       "}"
      ]
     },
     "execution_count": 56,
     "metadata": {},
     "output_type": "execute_result"
    }
   ],
   "source": [
    "response = openai.ChatCompletion.create(\n",
    "  model = \"gpt-3.5-turbo\",\n",
    "  temperature = 0.8,\n",
    "  max_tokens = 2000,\n",
    "  messages = [\n",
    "    { \"role\": \"system\", \"content\": \"You are a comedian who tells jokes\" },\n",
    "    { \"role\": \"user\", \"content\": \"Write a joke related to python\" },\n",
    "    { \"role\": \"assistant\", \"content\": \"Q: Why do Python programmers prefer snakes over people? A: Because snakes have proper, consistent and easy-to-understand scales!\" },\n",
    "    { \"role\": \"user\", \"content\": \"Write a joke related to programmers\" }\n",
    "  ]\n",
    ")\n",
    "\n",
    "response"
   ]
  },
  {
   "cell_type": "code",
   "execution_count": 57,
   "metadata": {},
   "outputs": [
    {
     "name": "stdout",
     "output_type": "stream",
     "text": [
      "Q: Why do programmers always mix up Christmas and Halloween? \n",
      "A: Because Oct 31 == Dec 25!\n"
     ]
    }
   ],
   "source": [
    "print(response.choices[0].message.content)"
   ]
  },
  {
   "cell_type": "code",
   "execution_count": 58,
   "metadata": {},
   "outputs": [
    {
     "data": {
      "text/plain": [
       "3.2e-05"
      ]
     },
     "execution_count": 58,
     "metadata": {},
     "output_type": "execute_result"
    }
   ],
   "source": [
    "input_tokens_price = \t0.0005 / 1000 * response.usage.prompt_tokens\n",
    "input_tokens_price"
   ]
  },
  {
   "cell_type": "code",
   "execution_count": 59,
   "metadata": {},
   "outputs": [
    {
     "data": {
      "text/plain": [
       "3.6e-05"
      ]
     },
     "execution_count": 59,
     "metadata": {},
     "output_type": "execute_result"
    }
   ],
   "source": [
    "output_tokens_price =\t0.0015 / 1000 * response.usage.completion_tokens\n",
    "output_tokens_price"
   ]
  },
  {
   "cell_type": "code",
   "execution_count": 60,
   "metadata": {},
   "outputs": [
    {
     "name": "stdout",
     "output_type": "stream",
     "text": [
      "0.00006800\n"
     ]
    }
   ],
   "source": [
    "tokens_price = input_tokens_price + output_tokens_price\n",
    "print(format(tokens_price, '.8f'))"
   ]
  },
  {
   "cell_type": "code",
   "execution_count": 61,
   "metadata": {},
   "outputs": [
    {
     "data": {
      "text/plain": [
       "<OpenAIObject chat.completion id=chatcmpl-8sIdO9ae8kmMZCkzftLP9lMBFxrJi at 0x27cb4e53e70> JSON: {\n",
       "  \"id\": \"chatcmpl-8sIdO9ae8kmMZCkzftLP9lMBFxrJi\",\n",
       "  \"object\": \"chat.completion\",\n",
       "  \"created\": 1707952034,\n",
       "  \"model\": \"gpt-3.5-turbo-0613\",\n",
       "  \"choices\": [\n",
       "    {\n",
       "      \"index\": 0,\n",
       "      \"message\": {\n",
       "        \"role\": \"assistant\",\n",
       "        \"content\": \"Love is a delicate dance between vulnerability and strength, where two hearts intertwine and create a symphony that echoes through eternity.\"\n",
       "      },\n",
       "      \"logprobs\": null,\n",
       "      \"finish_reason\": \"stop\"\n",
       "    }\n",
       "  ],\n",
       "  \"usage\": {\n",
       "    \"prompt_tokens\": 24,\n",
       "    \"completion_tokens\": 25,\n",
       "    \"total_tokens\": 49\n",
       "  },\n",
       "  \"system_fingerprint\": null\n",
       "}"
      ]
     },
     "execution_count": 61,
     "metadata": {},
     "output_type": "execute_result"
    }
   ],
   "source": [
    "response = openai.ChatCompletion.create(\n",
    "  model = \"gpt-3.5-turbo\",\n",
    "  temperature = 0.8,\n",
    "  max_tokens = 2000,\n",
    "  messages = [\n",
    "    { \"role\": \"system\", \"content\": \"You are a writer who writes short thoughts\" },\n",
    "    { \"role\": \"user\", \"content\": \"Write a thought about love\" }\n",
    "  ]\n",
    ")\n",
    "\n",
    "response"
   ]
  },
  {
   "cell_type": "code",
   "execution_count": 62,
   "metadata": {},
   "outputs": [
    {
     "name": "stdout",
     "output_type": "stream",
     "text": [
      "Love is a delicate dance between vulnerability and strength, where two hearts intertwine and create a symphony that echoes through eternity.\n"
     ]
    }
   ],
   "source": [
    "print(response.choices[0].message.content)"
   ]
  }
 ],
 "metadata": {
  "kernelspec": {
   "display_name": ".venv",
   "language": "python",
   "name": "python3"
  },
  "language_info": {
   "codemirror_mode": {
    "name": "ipython",
    "version": 3
   },
   "file_extension": ".py",
   "mimetype": "text/x-python",
   "name": "python",
   "nbconvert_exporter": "python",
   "pygments_lexer": "ipython3",
   "version": "3.10.11"
  }
 },
 "nbformat": 4,
 "nbformat_minor": 2
}
