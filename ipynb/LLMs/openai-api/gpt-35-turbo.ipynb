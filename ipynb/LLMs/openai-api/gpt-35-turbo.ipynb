{
 "cells": [
  {
   "cell_type": "code",
   "execution_count": 55,
   "metadata": {},
   "outputs": [],
   "source": [
    "import openai\n",
    "openai.api_key = \"\""
   ]
  },
  {
   "cell_type": "code",
   "execution_count": 56,
   "metadata": {},
   "outputs": [
    {
     "data": {
      "text/plain": [
       "<OpenAIObject chat.completion id=chatcmpl-8sIZjKiaYRmgoKONVlGmHPvFYEmAt at 0x27cb660be20> JSON: {\n",
       "  \"id\": \"chatcmpl-8sIZjKiaYRmgoKONVlGmHPvFYEmAt\",\n",
       "  \"object\": \"chat.completion\",\n",
       "  \"created\": 1707951807,\n",
       "  \"model\": \"gpt-3.5-turbo-0613\",\n",
       "  \"choices\": [\n",
       "    {\n",
       "      \"index\": 0,\n",
       "      \"message\": {\n",
       "        \"role\": \"assistant\",\n",
       "        \"content\": \"Q: Why do programmers always mix up Christmas and Halloween? \\nA: Because Oct 31 == Dec 25!\"\n",
       "      },\n",
       "      \"logprobs\": null,\n",
       "      \"finish_reason\": \"stop\"\n",
       "    }\n",
       "  ],\n",
       "  \"usage\": {\n",
       "    \"prompt_tokens\": 64,\n",
       "    \"completion_tokens\": 24,\n",
       "    \"total_tokens\": 88\n",
       "  },\n",
       "  \"system_fingerprint\": null\n",
       "}"
      ]
     },
     "execution_count": 56,
     "metadata": {},
     "output_type": "execute_result"
    }
   ],
   "source": [
    "response = openai.ChatCompletion.create(\n",
    "  model = \"gpt-3.5-turbo\",\n",
    "  temperature = 0.8,\n",
    "  max_tokens = 2000,\n",
    "  messages = [\n",
    "    { \"role\": \"system\", \"content\": \"You are a comedian who tells jokes\" },\n",
    "    { \"role\": \"user\", \"content\": \"Write a joke related to python\" },\n",
    "    { \"role\": \"assistant\", \"content\": \"Q: Why do Python programmers prefer snakes over people? A: Because snakes have proper, consistent and easy-to-understand scales!\" },\n",
    "    { \"role\": \"user\", \"content\": \"Write a joke related to programmers\" }\n",
    "  ]\n",
    ")\n",
    "\n",
    "response"
   ]
  },
  {
   "cell_type": "code",
   "execution_count": 57,
   "metadata": {},
   "outputs": [
    {
     "name": "stdout",
     "output_type": "stream",
     "text": [
      "Q: Why do programmers always mix up Christmas and Halloween? \n",
      "A: Because Oct 31 == Dec 25!\n"
     ]
    }
   ],
   "source": [
    "print(response.choices[0].message.content)"
   ]
  },
  {
   "cell_type": "code",
   "execution_count": 58,
   "metadata": {},
   "outputs": [
    {
     "data": {
      "text/plain": [
       "3.2e-05"
      ]
     },
     "execution_count": 58,
     "metadata": {},
     "output_type": "execute_result"
    }
   ],
   "source": [
    "input_tokens_price = \t0.0005 / 1000 * response.usage.prompt_tokens\n",
    "input_tokens_price"
   ]
  },
  {
   "cell_type": "code",
   "execution_count": 59,
   "metadata": {},
   "outputs": [
    {
     "data": {
      "text/plain": [
       "3.6e-05"
      ]
     },
     "execution_count": 59,
     "metadata": {},
     "output_type": "execute_result"
    }
   ],
   "source": [
    "output_tokens_price =\t0.0015 / 1000 * response.usage.completion_tokens\n",
    "output_tokens_price"
   ]
  },
  {
   "cell_type": "code",
   "execution_count": 60,
   "metadata": {},
   "outputs": [
    {
     "name": "stdout",
     "output_type": "stream",
     "text": [
      "0.00006800\n"
     ]
    }
   ],
   "source": [
    "tokens_price = input_tokens_price + output_tokens_price\n",
    "print(format(tokens_price, '.8f'))"
   ]
  },
  {
   "cell_type": "code",
   "execution_count": 61,
   "metadata": {},
   "outputs": [
    {
     "data": {
      "text/plain": [
       "<OpenAIObject chat.completion id=chatcmpl-8sIdO9ae8kmMZCkzftLP9lMBFxrJi at 0x27cb4e53e70> JSON: {\n",
       "  \"id\": \"chatcmpl-8sIdO9ae8kmMZCkzftLP9lMBFxrJi\",\n",
       "  \"object\": \"chat.completion\",\n",
       "  \"created\": 1707952034,\n",
       "  \"model\": \"gpt-3.5-turbo-0613\",\n",
       "  \"choices\": [\n",
       "    {\n",
       "      \"index\": 0,\n",
       "      \"message\": {\n",
       "        \"role\": \"assistant\",\n",
       "        \"content\": \"Love is a delicate dance between vulnerability and strength, where two hearts intertwine and create a symphony that echoes through eternity.\"\n",
       "      },\n",
       "      \"logprobs\": null,\n",
       "      \"finish_reason\": \"stop\"\n",
       "    }\n",
       "  ],\n",
       "  \"usage\": {\n",
       "    \"prompt_tokens\": 24,\n",
       "    \"completion_tokens\": 25,\n",
       "    \"total_tokens\": 49\n",
       "  },\n",
       "  \"system_fingerprint\": null\n",
       "}"
      ]
     },
     "execution_count": 61,
     "metadata": {},
     "output_type": "execute_result"
    }
   ],
   "source": [
    "response = openai.ChatCompletion.create(\n",
    "  model = \"gpt-3.5-turbo\",\n",
    "  temperature = 0.8,\n",
    "  max_tokens = 2000,\n",
    "  messages = [\n",
    "    { \"role\": \"system\", \"content\": \"You are a writer who writes short thoughts\" },\n",
    "    { \"role\": \"user\", \"content\": \"Write a thought about love\" }\n",
    "  ]\n",
    ")\n",
    "\n",
    "response"
   ]
  },
  {
   "cell_type": "code",
   "execution_count": 62,
   "metadata": {},
   "outputs": [
    {
     "name": "stdout",
     "output_type": "stream",
     "text": [
      "Love is a delicate dance between vulnerability and strength, where two hearts intertwine and create a symphony that echoes through eternity.\n"
     ]
    }
   ],
   "source": [
    "print(response.choices[0].message.content)"
   ]
  },
  {
   "cell_type": "markdown",
   "metadata": {},
   "source": [
    "#### Analyze customer reviews"
   ]
  },
  {
   "cell_type": "code",
   "execution_count": 63,
   "metadata": {},
   "outputs": [],
   "source": [
    "system_prompt = \"You are an assistant who reviews customer comments\"\n",
    "\n",
    "customer_review = \"مكان جميل أنصح الجميع بالذهاب إليه، يحتوي على جميع الخدمات اللازمة والإقامة فيه مريحة\"\n",
    "\n",
    "translate_prompt = \"Translate the following customer review separated by *** into English\"\n",
    "\n",
    "'''\n",
    "***\n",
    "{customer_review}\n",
    "***\n",
    "'''.format(customer_review = customer_review)\n",
    "\n",
    "translated_customer_review = \"A beautiful place that I advise everyone to go to, it has all the necessary services and the stay is comfortable\"\n",
    "\n",
    "user_prompt = \"Please define the main topics in this review\"\n",
    "\n",
    "messages = [\n",
    "  { \"role\": \"system\", \"content\": system_prompt },\n",
    "  { \"role\": \"user\", \"content\": translate_prompt },\n",
    "  { \"role\": \"assistant\", \"content\": translated_customer_review },\n",
    "  { \"role\": \"user\", \"content\": user_prompt }\n",
    "]"
   ]
  },
  {
   "cell_type": "code",
   "execution_count": 64,
   "metadata": {},
   "outputs": [
    {
     "data": {
      "text/plain": [
       "<OpenAIObject chat.completion id=chatcmpl-8sIf9mrGs2d9MDakFP4Sc4gaYqCkp at 0x27cc303cd60> JSON: {\n",
       "  \"id\": \"chatcmpl-8sIf9mrGs2d9MDakFP4Sc4gaYqCkp\",\n",
       "  \"object\": \"chat.completion\",\n",
       "  \"created\": 1707952143,\n",
       "  \"model\": \"gpt-3.5-turbo-0613\",\n",
       "  \"choices\": [\n",
       "    {\n",
       "      \"index\": 0,\n",
       "      \"message\": {\n",
       "        \"role\": \"assistant\",\n",
       "        \"content\": \"Main topics in this review:\\n1. The place is beautiful.\\n2. Recommendation for everyone to visit.\\n3. Availability of necessary services.\\n4. Comfortable stay.\"\n",
       "      },\n",
       "      \"logprobs\": null,\n",
       "      \"finish_reason\": \"stop\"\n",
       "    }\n",
       "  ],\n",
       "  \"usage\": {\n",
       "    \"prompt_tokens\": 67,\n",
       "    \"completion_tokens\": 34,\n",
       "    \"total_tokens\": 101\n",
       "  },\n",
       "  \"system_fingerprint\": null\n",
       "}"
      ]
     },
     "execution_count": 64,
     "metadata": {},
     "output_type": "execute_result"
    }
   ],
   "source": [
    "response = openai.ChatCompletion.create(\n",
    "  model = \"gpt-3.5-turbo\",\n",
    "  temperature = 0.8,\n",
    "  max_tokens = 2000,\n",
    "  messages = messages\n",
    ")\n",
    "\n",
    "response"
   ]
  },
  {
   "cell_type": "code",
   "execution_count": 65,
   "metadata": {},
   "outputs": [
    {
     "name": "stdout",
     "output_type": "stream",
     "text": [
      "Main topics in this review:\n",
      "1. The place is beautiful.\n",
      "2. Recommendation for everyone to visit.\n",
      "3. Availability of necessary services.\n",
      "4. Comfortable stay.\n"
     ]
    }
   ],
   "source": [
    "print(response.choices[0].message.content)"
   ]
  },
  {
   "cell_type": "markdown",
   "metadata": {},
   "source": [
    "#### Analyze customer reviews (Arabic)"
   ]
  },
  {
   "cell_type": "code",
   "execution_count": 66,
   "metadata": {},
   "outputs": [],
   "source": [
    "system_prompt = \"You are an assistant who reviews customer comments in Arabic\"\n",
    "\n",
    "customer_review = \"مكان جميل أنصح الجميع بالذهاب إليه، يحتوي على جميع الخدمات اللازمة والإقامة فيه مريحة\"\n",
    "\n",
    "reviewed_customer_review = \"تبدو هذه التعليقات إيجابية بشكل كبير بخصوص المكان الذي تمت مراجعته. يُشير المُعلق إلى أن المكان جميل وأنه ينصح بزيارته. كما يُشيد بتوفر جميع الخدمات اللازمة وبأن الإقامة فيه مريحة. ويبدو أن العميل راضٍ عن الخدمات التي تلقاها هناك.\"\n",
    "\n",
    "user_prompt = \"حدد لي المواضيع الرئيسية في هذه المراجعة\"\n",
    "\n",
    "messages = [\n",
    "  { \"role\": \"system\", \"content\": system_prompt },\n",
    "  { \"role\": \"user\", \"content\": customer_review },\n",
    "  { \"role\": \"assistant\", \"content\": reviewed_customer_review },\n",
    "  { \"role\": \"user\", \"content\": user_prompt }\n",
    "]"
   ]
  },
  {
   "cell_type": "code",
   "execution_count": 67,
   "metadata": {},
   "outputs": [
    {
     "data": {
      "text/plain": [
       "<OpenAIObject chat.completion id=chatcmpl-8sIfIBOBS93deDJpKpLpH7CyWtCQO at 0x27cb4e92660> JSON: {\n",
       "  \"id\": \"chatcmpl-8sIfIBOBS93deDJpKpLpH7CyWtCQO\",\n",
       "  \"object\": \"chat.completion\",\n",
       "  \"created\": 1707952152,\n",
       "  \"model\": \"gpt-3.5-turbo-0613\",\n",
       "  \"choices\": [\n",
       "    {\n",
       "      \"index\": 0,\n",
       "      \"message\": {\n",
       "        \"role\": \"assistant\",\n",
       "        \"content\": \"\\u0627\\u0644\\u0645\\u0648\\u0627\\u0636\\u064a\\u0639 \\u0627\\u0644\\u0631\\u0626\\u064a\\u0633\\u064a\\u0629 \\u0641\\u064a \\u0647\\u0630\\u0647 \\u0627\\u0644\\u0645\\u0631\\u0627\\u062c\\u0639\\u0629 \\u0647\\u064a:\\n\\n1. \\u062c\\u0645\\u0627\\u0644 \\u0627\\u0644\\u0645\\u0643\\u0627\\u0646: \\u064a\\u0634\\u064a\\u0631 \\u0627\\u0644\\u0645\\u0631\\u0627\\u062c\\u0639 \\u0625\\u0644\\u0649 \\u0623\\u0646 \\u0627\\u0644\\u0645\\u0643\\u0627\\u0646 \\u062c\\u0645\\u064a\\u0644 \\u0648\\u0630\\u0644\\u0643 \\u064a\\u0645\\u0643\\u0646 \\u0623\\u0646 \\u064a\\u0643\\u0648\\u0646 \\u0645\\u0624\\u0634\\u0631\\u064b\\u0627 \\u0625\\u064a\\u062c\\u0627\\u0628\\u064a\\u064b\\u0627 \\u0639\\u0644\\u0649 \\u0627\\u0644\\u062c\\u0648 \\u0627\\u0644\\u0645\\u062d\\u064a\\u0637 \\u0648\\u0627\\u0644\\u062a\\u0635\\u0645\\u064a\\u0645 \\u0627\\u0644\\u0639\\u0627\\u0645 \\u0644\\u0644\\u0645\\u0643\\u0627\\u0646.\\n\\n2. \\u062a\\u0648\\u0641\\u0631 \\u0627\\u0644\\u062e\\u062f\\u0645\\u0627\\u062a \\u0627\\u0644\\u0644\\u0627\\u0632\\u0645\\u0629: \\u064a\\u0634\\u062f\\u062f \\u0627\\u0644\\u0645\\u0631\\u0627\\u062c\\u0639 \\u0639\\u0644\\u0649 \\u0623\\u0646 \\u0627\\u0644\\u0645\\u0643\\u0627\\u0646 \\u064a\\u062d\\u062a\\u0648\\u064a \\u0639\\u0644\\u0649 \\u062c\\u0645\\u064a\\u0639 \\u0627\\u0644\\u062e\\u062f\\u0645\\u0627\\u062a \\u0627\\u0644\\u0644\\u0627\\u0632\\u0645\\u0629. \\u0647\\u0630\\u0627 \\u064a\\u0639\\u0646\\u064a \\u0623\\u0646 \\u0627\\u0644\\u0632\\u0648\\u0627\\u0631 \\u0644\\u0646 \\u064a\\u062d\\u062a\\u0627\\u062c\\u0648\\u0627 \\u0625\\u0644\\u0649 \\u0627\\u0644\\u0628\\u062d\\u062b \\u0639\\u0646 \\u062e\\u062f\\u0645\\u0627\\u062a \\u062e\\u0627\\u0631\\u062c \\u0627\\u0644\\u0645\\u0643\\u0627\\u0646.\\n\\n3. \\u0631\\u0627\\u062d\\u0629 \\u0627\\u0644\\u0625\\u0642\\u0627\\u0645\\u0629: \\u064a\\u0634\\u064a\\u062f \\u0627\\u0644\\u0645\\u0631\\u0627\\u062c\\u0639 \\u0628\\u0623\\u0646 \\u0627\\u0644\\u0625\\u0642\\u0627\\u0645\\u0629 \\u0641\\u064a \\u0627\\u0644\\u0645\\u0643\\u0627\\u0646 \\u0645\\u0631\\u064a\\u062d\\u0629\\u060c \\u0648\\u0647\\u0630\\u0627 \\u064a\\u0645\\u0643\\u0646 \\u0623\\u0646 \\u064a\\u0634\\u064a\\u0631 \\u0625\\u0644\\u0649 \\u0648\\u062c\\u0648\\u062f \\u0648\\u0633\\u0627\\u0626\\u0644 \\u0631\\u0627\\u062d\\u0629 \\u0645\\u062b\\u0644 \\u063a\\u0631\\u0641 \\u0646\\u0638\\u064a\\u0641\\u0629 \\u0648\\u0645\\u0631\\u064a\\u062d\\u0629 \\u0648\\u062e\\u062f\\u0645\\u0629 \\u0627\\u0644\\u063a\\u0631\\u0641 \\u0627\\u0644\\u062c\\u064a\\u062f\\u0629.\\n\\n4. \\u0627\\u0644\\u062a\\u0648\\u0635\\u064a\\u0629 \\u0644\\u0644\\u0622\\u062e\\u0631\\u064a\\u0646: \\u064a\\u0648\\u0635\\u064a \\u0627\\u0644\\u0645\\u0631\\u0627\\u062c\\u0639 \\u0627\\u0644\\u062c\\u0645\\u064a\\u0639 \\u0628\\u0632\\u064a\\u0627\\u0631\\u0629 \\u0627\\u0644\\u0645\\u0643\\u0627\\u0646\\u060c \\u0648\\u0647\\u0630\\u0627 \\u064a\\u0639\\u0646\\u064a \\u0623\\u0646\\u0647 \\u0642\\u062f \\u0627\\u0633\\u062a\\u0645\\u062a\\u0639 \\u0648\\u0627\\u0633\\u062a\\u0641\\u0627\\u062f \\u0645\\u0646 \\u062a\\u062c\\u0631\\u0628\\u062a\\u0647 \\u0647\\u0646\\u0627\\u0643 \\u0648\\u064a\\u0631\\u063a\\u0628 \\u0641\\u064a \\u0645\\u0634\\u0627\\u0631\\u0643\\u062a\\u0647\\u0627 \\u0645\\u0639 \\u0627\\u0644\\u0622\\u062e\\u0631\\u064a\\u0646.\"\n",
       "      },\n",
       "      \"logprobs\": null,\n",
       "      \"finish_reason\": \"stop\"\n",
       "    }\n",
       "  ],\n",
       "  \"usage\": {\n",
       "    \"prompt_tokens\": 277,\n",
       "    \"completion_tokens\": 397,\n",
       "    \"total_tokens\": 674\n",
       "  },\n",
       "  \"system_fingerprint\": null\n",
       "}"
      ]
     },
     "execution_count": 67,
     "metadata": {},
     "output_type": "execute_result"
    }
   ],
   "source": [
    "response = openai.ChatCompletion.create(\n",
    "  model = \"gpt-3.5-turbo\",\n",
    "  temperature = 0.8,\n",
    "  max_tokens = 2000,\n",
    "  messages = messages\n",
    ")\n",
    "\n",
    "response"
   ]
  },
  {
   "cell_type": "code",
   "execution_count": 68,
   "metadata": {},
   "outputs": [
    {
     "name": "stdout",
     "output_type": "stream",
     "text": [
      "المواضيع الرئيسية في هذه المراجعة هي:\n",
      "\n",
      "1. جمال المكان: يشير المراجع إلى أن المكان جميل وذلك يمكن أن يكون مؤشرًا إيجابيًا على الجو المحيط والتصميم العام للمكان.\n",
      "\n",
      "2. توفر الخدمات اللازمة: يشدد المراجع على أن المكان يحتوي على جميع الخدمات اللازمة. هذا يعني أن الزوار لن يحتاجوا إلى البحث عن خدمات خارج المكان.\n",
      "\n",
      "3. راحة الإقامة: يشيد المراجع بأن الإقامة في المكان مريحة، وهذا يمكن أن يشير إلى وجود وسائل راحة مثل غرف نظيفة ومريحة وخدمة الغرف الجيدة.\n",
      "\n",
      "4. التوصية للآخرين: يوصي المراجع الجميع بزيارة المكان، وهذا يعني أنه قد استمتع واستفاد من تجربته هناك ويرغب في مشاركتها مع الآخرين.\n"
     ]
    }
   ],
   "source": [
    "print(response.choices[0].message.content)"
   ]
  }
 ],
 "metadata": {
  "kernelspec": {
   "display_name": ".venv",
   "language": "python",
   "name": "python3"
  },
  "language_info": {
   "codemirror_mode": {
    "name": "ipython",
    "version": 3
   },
   "file_extension": ".py",
   "mimetype": "text/x-python",
   "name": "python",
   "nbconvert_exporter": "python",
   "pygments_lexer": "ipython3",
   "version": "3.10.11"
  }
 },
 "nbformat": 4,
 "nbformat_minor": 2
}
