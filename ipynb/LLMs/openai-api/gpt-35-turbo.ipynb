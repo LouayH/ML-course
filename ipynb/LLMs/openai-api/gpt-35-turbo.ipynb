{
 "cells": [
  {
   "cell_type": "code",
   "execution_count": 7,
   "metadata": {},
   "outputs": [],
   "source": [
    "import openai\n",
    "openai.api_key = \"\""
   ]
  },
  {
   "cell_type": "code",
   "execution_count": 56,
   "metadata": {},
   "outputs": [
    {
     "data": {
      "text/plain": [
       "<OpenAIObject chat.completion id=chatcmpl-8sIZjKiaYRmgoKONVlGmHPvFYEmAt at 0x27cb660be20> JSON: {\n",
       "  \"id\": \"chatcmpl-8sIZjKiaYRmgoKONVlGmHPvFYEmAt\",\n",
       "  \"object\": \"chat.completion\",\n",
       "  \"created\": 1707951807,\n",
       "  \"model\": \"gpt-3.5-turbo-0613\",\n",
       "  \"choices\": [\n",
       "    {\n",
       "      \"index\": 0,\n",
       "      \"message\": {\n",
       "        \"role\": \"assistant\",\n",
       "        \"content\": \"Q: Why do programmers always mix up Christmas and Halloween? \\nA: Because Oct 31 == Dec 25!\"\n",
       "      },\n",
       "      \"logprobs\": null,\n",
       "      \"finish_reason\": \"stop\"\n",
       "    }\n",
       "  ],\n",
       "  \"usage\": {\n",
       "    \"prompt_tokens\": 64,\n",
       "    \"completion_tokens\": 24,\n",
       "    \"total_tokens\": 88\n",
       "  },\n",
       "  \"system_fingerprint\": null\n",
       "}"
      ]
     },
     "execution_count": 56,
     "metadata": {},
     "output_type": "execute_result"
    }
   ],
   "source": [
    "response = openai.ChatCompletion.create(\n",
    "  model = \"gpt-3.5-turbo\",\n",
    "  temperature = 0.8,\n",
    "  max_tokens = 2000,\n",
    "  messages = [\n",
    "    { \"role\": \"system\", \"content\": \"You are a comedian who tells jokes\" },\n",
    "    { \"role\": \"user\", \"content\": \"Write a joke related to python\" },\n",
    "    { \"role\": \"assistant\", \"content\": \"Q: Why do Python programmers prefer snakes over people? A: Because snakes have proper, consistent and easy-to-understand scales!\" },\n",
    "    { \"role\": \"user\", \"content\": \"Write a joke related to programmers\" }\n",
    "  ]\n",
    ")\n",
    "\n",
    "response"
   ]
  },
  {
   "cell_type": "code",
   "execution_count": 57,
   "metadata": {},
   "outputs": [
    {
     "name": "stdout",
     "output_type": "stream",
     "text": [
      "Q: Why do programmers always mix up Christmas and Halloween? \n",
      "A: Because Oct 31 == Dec 25!\n"
     ]
    }
   ],
   "source": [
    "print(response.choices[0].message.content)"
   ]
  },
  {
   "cell_type": "code",
   "execution_count": 58,
   "metadata": {},
   "outputs": [
    {
     "data": {
      "text/plain": [
       "3.2e-05"
      ]
     },
     "execution_count": 58,
     "metadata": {},
     "output_type": "execute_result"
    }
   ],
   "source": [
    "input_tokens_price = \t0.0005 / 1000 * response.usage.prompt_tokens\n",
    "input_tokens_price"
   ]
  },
  {
   "cell_type": "code",
   "execution_count": 59,
   "metadata": {},
   "outputs": [
    {
     "data": {
      "text/plain": [
       "3.6e-05"
      ]
     },
     "execution_count": 59,
     "metadata": {},
     "output_type": "execute_result"
    }
   ],
   "source": [
    "output_tokens_price =\t0.0015 / 1000 * response.usage.completion_tokens\n",
    "output_tokens_price"
   ]
  },
  {
   "cell_type": "code",
   "execution_count": 60,
   "metadata": {},
   "outputs": [
    {
     "name": "stdout",
     "output_type": "stream",
     "text": [
      "0.00006800\n"
     ]
    }
   ],
   "source": [
    "tokens_price = input_tokens_price + output_tokens_price\n",
    "print(format(tokens_price, '.8f'))"
   ]
  },
  {
   "cell_type": "code",
   "execution_count": 61,
   "metadata": {},
   "outputs": [
    {
     "data": {
      "text/plain": [
       "<OpenAIObject chat.completion id=chatcmpl-8sIdO9ae8kmMZCkzftLP9lMBFxrJi at 0x27cb4e53e70> JSON: {\n",
       "  \"id\": \"chatcmpl-8sIdO9ae8kmMZCkzftLP9lMBFxrJi\",\n",
       "  \"object\": \"chat.completion\",\n",
       "  \"created\": 1707952034,\n",
       "  \"model\": \"gpt-3.5-turbo-0613\",\n",
       "  \"choices\": [\n",
       "    {\n",
       "      \"index\": 0,\n",
       "      \"message\": {\n",
       "        \"role\": \"assistant\",\n",
       "        \"content\": \"Love is a delicate dance between vulnerability and strength, where two hearts intertwine and create a symphony that echoes through eternity.\"\n",
       "      },\n",
       "      \"logprobs\": null,\n",
       "      \"finish_reason\": \"stop\"\n",
       "    }\n",
       "  ],\n",
       "  \"usage\": {\n",
       "    \"prompt_tokens\": 24,\n",
       "    \"completion_tokens\": 25,\n",
       "    \"total_tokens\": 49\n",
       "  },\n",
       "  \"system_fingerprint\": null\n",
       "}"
      ]
     },
     "execution_count": 61,
     "metadata": {},
     "output_type": "execute_result"
    }
   ],
   "source": [
    "response = openai.ChatCompletion.create(\n",
    "  model = \"gpt-3.5-turbo\",\n",
    "  temperature = 0.8,\n",
    "  max_tokens = 2000,\n",
    "  messages = [\n",
    "    { \"role\": \"system\", \"content\": \"You are a writer who writes short thoughts\" },\n",
    "    { \"role\": \"user\", \"content\": \"Write a thought about love\" }\n",
    "  ]\n",
    ")\n",
    "\n",
    "response"
   ]
  },
  {
   "cell_type": "code",
   "execution_count": 62,
   "metadata": {},
   "outputs": [
    {
     "name": "stdout",
     "output_type": "stream",
     "text": [
      "Love is a delicate dance between vulnerability and strength, where two hearts intertwine and create a symphony that echoes through eternity.\n"
     ]
    }
   ],
   "source": [
    "print(response.choices[0].message.content)"
   ]
  },
  {
   "cell_type": "markdown",
   "metadata": {},
   "source": [
    "#### Analyze customer reviews"
   ]
  },
  {
   "cell_type": "code",
   "execution_count": 63,
   "metadata": {},
   "outputs": [],
   "source": [
    "system_prompt = \"You are an assistant who reviews customer comments\"\n",
    "\n",
    "customer_review = \"مكان جميل أنصح الجميع بالذهاب إليه، يحتوي على جميع الخدمات اللازمة والإقامة فيه مريحة\"\n",
    "\n",
    "translate_prompt = \"Translate the following customer review separated by *** into English\"\n",
    "\n",
    "'''\n",
    "***\n",
    "{customer_review}\n",
    "***\n",
    "'''.format(customer_review = customer_review)\n",
    "\n",
    "translated_customer_review = \"A beautiful place that I advise everyone to go to, it has all the necessary services and the stay is comfortable\"\n",
    "\n",
    "user_prompt = \"Please define the main topics in this review\"\n",
    "\n",
    "messages = [\n",
    "  { \"role\": \"system\", \"content\": system_prompt },\n",
    "  { \"role\": \"user\", \"content\": translate_prompt },\n",
    "  { \"role\": \"assistant\", \"content\": translated_customer_review },\n",
    "  { \"role\": \"user\", \"content\": user_prompt }\n",
    "]"
   ]
  },
  {
   "cell_type": "code",
   "execution_count": 64,
   "metadata": {},
   "outputs": [
    {
     "data": {
      "text/plain": [
       "<OpenAIObject chat.completion id=chatcmpl-8sIf9mrGs2d9MDakFP4Sc4gaYqCkp at 0x27cc303cd60> JSON: {\n",
       "  \"id\": \"chatcmpl-8sIf9mrGs2d9MDakFP4Sc4gaYqCkp\",\n",
       "  \"object\": \"chat.completion\",\n",
       "  \"created\": 1707952143,\n",
       "  \"model\": \"gpt-3.5-turbo-0613\",\n",
       "  \"choices\": [\n",
       "    {\n",
       "      \"index\": 0,\n",
       "      \"message\": {\n",
       "        \"role\": \"assistant\",\n",
       "        \"content\": \"Main topics in this review:\\n1. The place is beautiful.\\n2. Recommendation for everyone to visit.\\n3. Availability of necessary services.\\n4. Comfortable stay.\"\n",
       "      },\n",
       "      \"logprobs\": null,\n",
       "      \"finish_reason\": \"stop\"\n",
       "    }\n",
       "  ],\n",
       "  \"usage\": {\n",
       "    \"prompt_tokens\": 67,\n",
       "    \"completion_tokens\": 34,\n",
       "    \"total_tokens\": 101\n",
       "  },\n",
       "  \"system_fingerprint\": null\n",
       "}"
      ]
     },
     "execution_count": 64,
     "metadata": {},
     "output_type": "execute_result"
    }
   ],
   "source": [
    "response = openai.ChatCompletion.create(\n",
    "  model = \"gpt-3.5-turbo\",\n",
    "  temperature = 0.8,\n",
    "  max_tokens = 2000,\n",
    "  messages = messages\n",
    ")\n",
    "\n",
    "response"
   ]
  },
  {
   "cell_type": "code",
   "execution_count": 65,
   "metadata": {},
   "outputs": [
    {
     "name": "stdout",
     "output_type": "stream",
     "text": [
      "Main topics in this review:\n",
      "1. The place is beautiful.\n",
      "2. Recommendation for everyone to visit.\n",
      "3. Availability of necessary services.\n",
      "4. Comfortable stay.\n"
     ]
    }
   ],
   "source": [
    "print(response.choices[0].message.content)"
   ]
  },
  {
   "cell_type": "markdown",
   "metadata": {},
   "source": [
    "#### Analyze customer reviews (Arabic)"
   ]
  },
  {
   "cell_type": "code",
   "execution_count": 66,
   "metadata": {},
   "outputs": [],
   "source": [
    "system_prompt = \"You are an assistant who reviews customer comments in Arabic\"\n",
    "\n",
    "customer_review = \"مكان جميل أنصح الجميع بالذهاب إليه، يحتوي على جميع الخدمات اللازمة والإقامة فيه مريحة\"\n",
    "\n",
    "reviewed_customer_review = \"تبدو هذه التعليقات إيجابية بشكل كبير بخصوص المكان الذي تمت مراجعته. يُشير المُعلق إلى أن المكان جميل وأنه ينصح بزيارته. كما يُشيد بتوفر جميع الخدمات اللازمة وبأن الإقامة فيه مريحة. ويبدو أن العميل راضٍ عن الخدمات التي تلقاها هناك.\"\n",
    "\n",
    "user_prompt = \"حدد لي المواضيع الرئيسية في هذه المراجعة\"\n",
    "\n",
    "messages = [\n",
    "  { \"role\": \"system\", \"content\": system_prompt },\n",
    "  { \"role\": \"user\", \"content\": customer_review },\n",
    "  { \"role\": \"assistant\", \"content\": reviewed_customer_review },\n",
    "  { \"role\": \"user\", \"content\": user_prompt }\n",
    "]"
   ]
  },
  {
   "cell_type": "code",
   "execution_count": 67,
   "metadata": {},
   "outputs": [
    {
     "data": {
      "text/plain": [
       "<OpenAIObject chat.completion id=chatcmpl-8sIfIBOBS93deDJpKpLpH7CyWtCQO at 0x27cb4e92660> JSON: {\n",
       "  \"id\": \"chatcmpl-8sIfIBOBS93deDJpKpLpH7CyWtCQO\",\n",
       "  \"object\": \"chat.completion\",\n",
       "  \"created\": 1707952152,\n",
       "  \"model\": \"gpt-3.5-turbo-0613\",\n",
       "  \"choices\": [\n",
       "    {\n",
       "      \"index\": 0,\n",
       "      \"message\": {\n",
       "        \"role\": \"assistant\",\n",
       "        \"content\": \"\\u0627\\u0644\\u0645\\u0648\\u0627\\u0636\\u064a\\u0639 \\u0627\\u0644\\u0631\\u0626\\u064a\\u0633\\u064a\\u0629 \\u0641\\u064a \\u0647\\u0630\\u0647 \\u0627\\u0644\\u0645\\u0631\\u0627\\u062c\\u0639\\u0629 \\u0647\\u064a:\\n\\n1. \\u062c\\u0645\\u0627\\u0644 \\u0627\\u0644\\u0645\\u0643\\u0627\\u0646: \\u064a\\u0634\\u064a\\u0631 \\u0627\\u0644\\u0645\\u0631\\u0627\\u062c\\u0639 \\u0625\\u0644\\u0649 \\u0623\\u0646 \\u0627\\u0644\\u0645\\u0643\\u0627\\u0646 \\u062c\\u0645\\u064a\\u0644 \\u0648\\u0630\\u0644\\u0643 \\u064a\\u0645\\u0643\\u0646 \\u0623\\u0646 \\u064a\\u0643\\u0648\\u0646 \\u0645\\u0624\\u0634\\u0631\\u064b\\u0627 \\u0625\\u064a\\u062c\\u0627\\u0628\\u064a\\u064b\\u0627 \\u0639\\u0644\\u0649 \\u0627\\u0644\\u062c\\u0648 \\u0627\\u0644\\u0645\\u062d\\u064a\\u0637 \\u0648\\u0627\\u0644\\u062a\\u0635\\u0645\\u064a\\u0645 \\u0627\\u0644\\u0639\\u0627\\u0645 \\u0644\\u0644\\u0645\\u0643\\u0627\\u0646.\\n\\n2. \\u062a\\u0648\\u0641\\u0631 \\u0627\\u0644\\u062e\\u062f\\u0645\\u0627\\u062a \\u0627\\u0644\\u0644\\u0627\\u0632\\u0645\\u0629: \\u064a\\u0634\\u062f\\u062f \\u0627\\u0644\\u0645\\u0631\\u0627\\u062c\\u0639 \\u0639\\u0644\\u0649 \\u0623\\u0646 \\u0627\\u0644\\u0645\\u0643\\u0627\\u0646 \\u064a\\u062d\\u062a\\u0648\\u064a \\u0639\\u0644\\u0649 \\u062c\\u0645\\u064a\\u0639 \\u0627\\u0644\\u062e\\u062f\\u0645\\u0627\\u062a \\u0627\\u0644\\u0644\\u0627\\u0632\\u0645\\u0629. \\u0647\\u0630\\u0627 \\u064a\\u0639\\u0646\\u064a \\u0623\\u0646 \\u0627\\u0644\\u0632\\u0648\\u0627\\u0631 \\u0644\\u0646 \\u064a\\u062d\\u062a\\u0627\\u062c\\u0648\\u0627 \\u0625\\u0644\\u0649 \\u0627\\u0644\\u0628\\u062d\\u062b \\u0639\\u0646 \\u062e\\u062f\\u0645\\u0627\\u062a \\u062e\\u0627\\u0631\\u062c \\u0627\\u0644\\u0645\\u0643\\u0627\\u0646.\\n\\n3. \\u0631\\u0627\\u062d\\u0629 \\u0627\\u0644\\u0625\\u0642\\u0627\\u0645\\u0629: \\u064a\\u0634\\u064a\\u062f \\u0627\\u0644\\u0645\\u0631\\u0627\\u062c\\u0639 \\u0628\\u0623\\u0646 \\u0627\\u0644\\u0625\\u0642\\u0627\\u0645\\u0629 \\u0641\\u064a \\u0627\\u0644\\u0645\\u0643\\u0627\\u0646 \\u0645\\u0631\\u064a\\u062d\\u0629\\u060c \\u0648\\u0647\\u0630\\u0627 \\u064a\\u0645\\u0643\\u0646 \\u0623\\u0646 \\u064a\\u0634\\u064a\\u0631 \\u0625\\u0644\\u0649 \\u0648\\u062c\\u0648\\u062f \\u0648\\u0633\\u0627\\u0626\\u0644 \\u0631\\u0627\\u062d\\u0629 \\u0645\\u062b\\u0644 \\u063a\\u0631\\u0641 \\u0646\\u0638\\u064a\\u0641\\u0629 \\u0648\\u0645\\u0631\\u064a\\u062d\\u0629 \\u0648\\u062e\\u062f\\u0645\\u0629 \\u0627\\u0644\\u063a\\u0631\\u0641 \\u0627\\u0644\\u062c\\u064a\\u062f\\u0629.\\n\\n4. \\u0627\\u0644\\u062a\\u0648\\u0635\\u064a\\u0629 \\u0644\\u0644\\u0622\\u062e\\u0631\\u064a\\u0646: \\u064a\\u0648\\u0635\\u064a \\u0627\\u0644\\u0645\\u0631\\u0627\\u062c\\u0639 \\u0627\\u0644\\u062c\\u0645\\u064a\\u0639 \\u0628\\u0632\\u064a\\u0627\\u0631\\u0629 \\u0627\\u0644\\u0645\\u0643\\u0627\\u0646\\u060c \\u0648\\u0647\\u0630\\u0627 \\u064a\\u0639\\u0646\\u064a \\u0623\\u0646\\u0647 \\u0642\\u062f \\u0627\\u0633\\u062a\\u0645\\u062a\\u0639 \\u0648\\u0627\\u0633\\u062a\\u0641\\u0627\\u062f \\u0645\\u0646 \\u062a\\u062c\\u0631\\u0628\\u062a\\u0647 \\u0647\\u0646\\u0627\\u0643 \\u0648\\u064a\\u0631\\u063a\\u0628 \\u0641\\u064a \\u0645\\u0634\\u0627\\u0631\\u0643\\u062a\\u0647\\u0627 \\u0645\\u0639 \\u0627\\u0644\\u0622\\u062e\\u0631\\u064a\\u0646.\"\n",
       "      },\n",
       "      \"logprobs\": null,\n",
       "      \"finish_reason\": \"stop\"\n",
       "    }\n",
       "  ],\n",
       "  \"usage\": {\n",
       "    \"prompt_tokens\": 277,\n",
       "    \"completion_tokens\": 397,\n",
       "    \"total_tokens\": 674\n",
       "  },\n",
       "  \"system_fingerprint\": null\n",
       "}"
      ]
     },
     "execution_count": 67,
     "metadata": {},
     "output_type": "execute_result"
    }
   ],
   "source": [
    "response = openai.ChatCompletion.create(\n",
    "  model = \"gpt-3.5-turbo\",\n",
    "  temperature = 0.8,\n",
    "  max_tokens = 2000,\n",
    "  messages = messages\n",
    ")\n",
    "\n",
    "response"
   ]
  },
  {
   "cell_type": "code",
   "execution_count": 68,
   "metadata": {},
   "outputs": [
    {
     "name": "stdout",
     "output_type": "stream",
     "text": [
      "المواضيع الرئيسية في هذه المراجعة هي:\n",
      "\n",
      "1. جمال المكان: يشير المراجع إلى أن المكان جميل وذلك يمكن أن يكون مؤشرًا إيجابيًا على الجو المحيط والتصميم العام للمكان.\n",
      "\n",
      "2. توفر الخدمات اللازمة: يشدد المراجع على أن المكان يحتوي على جميع الخدمات اللازمة. هذا يعني أن الزوار لن يحتاجوا إلى البحث عن خدمات خارج المكان.\n",
      "\n",
      "3. راحة الإقامة: يشيد المراجع بأن الإقامة في المكان مريحة، وهذا يمكن أن يشير إلى وجود وسائل راحة مثل غرف نظيفة ومريحة وخدمة الغرف الجيدة.\n",
      "\n",
      "4. التوصية للآخرين: يوصي المراجع الجميع بزيارة المكان، وهذا يعني أنه قد استمتع واستفاد من تجربته هناك ويرغب في مشاركتها مع الآخرين.\n"
     ]
    }
   ],
   "source": [
    "print(response.choices[0].message.content)"
   ]
  },
  {
   "cell_type": "markdown",
   "metadata": {},
   "source": [
    "#### Create a function to use ChatGPT "
   ]
  },
  {
   "cell_type": "code",
   "execution_count": 70,
   "metadata": {},
   "outputs": [
    {
     "data": {
      "text/plain": [
       "<OpenAIObject chat.completion id=chatcmpl-8sIlKrSQgPLUdRWbIPNNEmne5rcUK at 0x27ccce2c860> JSON: {\n",
       "  \"id\": \"chatcmpl-8sIlKrSQgPLUdRWbIPNNEmne5rcUK\",\n",
       "  \"object\": \"chat.completion\",\n",
       "  \"created\": 1707952526,\n",
       "  \"model\": \"gpt-3.5-turbo-0613\",\n",
       "  \"choices\": [\n",
       "    {\n",
       "      \"index\": 0,\n",
       "      \"message\": {\n",
       "        \"role\": \"assistant\",\n",
       "        \"content\": \"The four most famous libraries used in artificial intelligence in the Python ecosystem are:\\n\\n1. TensorFlow: An open-source library for machine learning and deep learning, developed by Google.\\n2. PyTorch: A deep learning framework that provides dynamic computational graphs, developed by Facebook's AI research lab.\\n3. scikit-learn: A machine learning library that provides tools for classification, regression, clustering, and dimensionality reduction.\\n4. Keras: A high-level neural networks API that can run on top of TensorFlow, Theano, or Microsoft Cognitive Toolkit (CNTK).\"\n",
       "      },\n",
       "      \"logprobs\": null,\n",
       "      \"finish_reason\": \"stop\"\n",
       "    }\n",
       "  ],\n",
       "  \"usage\": {\n",
       "    \"prompt_tokens\": 57,\n",
       "    \"completion_tokens\": 114,\n",
       "    \"total_tokens\": 171\n",
       "  },\n",
       "  \"system_fingerprint\": null\n",
       "}"
      ]
     },
     "execution_count": 70,
     "metadata": {},
     "output_type": "execute_result"
    }
   ],
   "source": [
    "response = openai.ChatCompletion.create(\n",
    "  model = \"gpt-3.5-turbo\",\n",
    "  messages = [\n",
    "    { \"role\": \"system\", \"content\": \"You are a programmer\" },\n",
    "    { \"role\": \"user\", \"content\": \"What is python?\" },\n",
    "    { \"role\": \"assistant\", \"content\": \"Python is a high-level, versatile and interpreted programming language\" },\n",
    "    { \"role\": \"user\", \"content\": \"Mention the names of the 4 most famous libraries used in artificial intelligence in the Python ecosystem\" }\n",
    "  ]\n",
    ")\n",
    "\n",
    "response"
   ]
  },
  {
   "cell_type": "code",
   "execution_count": 71,
   "metadata": {},
   "outputs": [
    {
     "name": "stdout",
     "output_type": "stream",
     "text": [
      "The four most famous libraries used in artificial intelligence in the Python ecosystem are:\n",
      "\n",
      "1. TensorFlow: An open-source library for machine learning and deep learning, developed by Google.\n",
      "2. PyTorch: A deep learning framework that provides dynamic computational graphs, developed by Facebook's AI research lab.\n",
      "3. scikit-learn: A machine learning library that provides tools for classification, regression, clustering, and dimensionality reduction.\n",
      "4. Keras: A high-level neural networks API that can run on top of TensorFlow, Theano, or Microsoft Cognitive Toolkit (CNTK).\n"
     ]
    }
   ],
   "source": [
    "print(response.choices[0].message.content)"
   ]
  },
  {
   "cell_type": "code",
   "execution_count": 9,
   "metadata": {},
   "outputs": [],
   "source": [
    "def ask_gpt(user, system=None, model=\"gpt-3.5-turbo\", **kwargs):\n",
    "  messages = []\n",
    "\n",
    "  if system: messages.append({ \"role\": \"system\", \"content\": system })\n",
    "  messages.append({ \"role\": \"user\", \"content\": user })\n",
    "\n",
    "  return openai.ChatCompletion.create(model=model, messages=messages, **kwargs)"
   ]
  },
  {
   "cell_type": "code",
   "execution_count": 73,
   "metadata": {},
   "outputs": [
    {
     "data": {
      "text/plain": [
       "<OpenAIObject chat.completion id=chatcmpl-8sIlVCqyexnZ5GdjDTpnSjL1Py8rZ at 0x27ccd1f6a20> JSON: {\n",
       "  \"id\": \"chatcmpl-8sIlVCqyexnZ5GdjDTpnSjL1Py8rZ\",\n",
       "  \"object\": \"chat.completion\",\n",
       "  \"created\": 1707952537,\n",
       "  \"model\": \"gpt-3.5-turbo-0613\",\n",
       "  \"choices\": [\n",
       "    {\n",
       "      \"index\": 0,\n",
       "      \"message\": {\n",
       "        \"role\": \"assistant\",\n",
       "        \"content\": \"The meaning of life is a deeply philosophical question that has been pondered throughout history by thinkers, scholars, and individuals. It is a question that has no definitive answer as it often depends on individual beliefs, perspectives, and cultural backgrounds. Some may find meaning in the pursuit of personal happiness, relationships, spiritual or religious beliefs, making a positive impact on society, or the quest for knowledge and self-discovery. Ultimately, finding meaning in life is a subjective and personal journey.\"\n",
       "      },\n",
       "      \"logprobs\": null,\n",
       "      \"finish_reason\": \"stop\"\n",
       "    }\n",
       "  ],\n",
       "  \"usage\": {\n",
       "    \"prompt_tokens\": 22,\n",
       "    \"completion_tokens\": 95,\n",
       "    \"total_tokens\": 117\n",
       "  },\n",
       "  \"system_fingerprint\": null\n",
       "}"
      ]
     },
     "execution_count": 73,
     "metadata": {},
     "output_type": "execute_result"
    }
   ],
   "source": [
    "ask_gpt(\"What is the meaning of life?\", \"You are a programmer\")"
   ]
  },
  {
   "cell_type": "code",
   "execution_count": 10,
   "metadata": {},
   "outputs": [],
   "source": [
    "from fastcore.utils import nested_idx\n",
    "\n",
    "def get_message(response):\n",
    "  print(nested_idx(response, \"choices\", 0, \"message\", \"content\"))"
   ]
  },
  {
   "cell_type": "code",
   "execution_count": 78,
   "metadata": {},
   "outputs": [
    {
     "name": "stdout",
     "output_type": "stream",
     "text": [
      "The meaning of life is a philosophical question that has been debated for centuries. Different people and cultures have different perspectives on this question. Some believe that the meaning of life is to seek happiness, fulfillment, or spiritual enlightenment. Others find meaning in personal relationships, making a positive impact on the world, or following religious or philosophical beliefs. Ultimately, the meaning of life can vary depending on individual beliefs, values, and experiences.\n"
     ]
    }
   ],
   "source": [
    "response = ask_gpt(\"What is the meaning of life?\", \"You are a programmer\")\n",
    "\n",
    "get_message(response)"
   ]
  },
  {
   "cell_type": "code",
   "execution_count": 79,
   "metadata": {},
   "outputs": [
    {
     "name": "stdout",
     "output_type": "stream",
     "text": [
      "As a child, I don't have the wisdom or experience to fully understand the meaning of life. It's a complex question that people have been asking for centuries, and there are many different perspectives and beliefs about it. Some people might say that the meaning of life is to find happiness and fulfillment, while others may think it's about making a positive impact on the world or exploring one's own spirituality. Ultimately, the meaning of life can be a very personal and individual journey of discovery.\n"
     ]
    }
   ],
   "source": [
    "response = ask_gpt(\"What is the meaning of life?\", \"You are a child\")\n",
    "\n",
    "get_message(response)"
   ]
  },
  {
   "cell_type": "markdown",
   "metadata": {},
   "source": [
    "#### Analyze Sentiments"
   ]
  },
  {
   "cell_type": "code",
   "execution_count": 3,
   "metadata": {},
   "outputs": [
    {
     "data": {
      "text/html": [
       "<div>\n",
       "<style scoped>\n",
       "    .dataframe tbody tr th:only-of-type {\n",
       "        vertical-align: middle;\n",
       "    }\n",
       "\n",
       "    .dataframe tbody tr th {\n",
       "        vertical-align: top;\n",
       "    }\n",
       "\n",
       "    .dataframe thead th {\n",
       "        text-align: right;\n",
       "    }\n",
       "</style>\n",
       "<table border=\"1\" class=\"dataframe\">\n",
       "  <thead>\n",
       "    <tr style=\"text-align: right;\">\n",
       "      <th></th>\n",
       "      <th>review</th>\n",
       "      <th>sentiment</th>\n",
       "    </tr>\n",
       "  </thead>\n",
       "  <tbody>\n",
       "    <tr>\n",
       "      <th>0</th>\n",
       "      <td>One of the other reviewers has mentioned that ...</td>\n",
       "      <td>positive</td>\n",
       "    </tr>\n",
       "    <tr>\n",
       "      <th>1</th>\n",
       "      <td>A wonderful little production. &lt;br /&gt;&lt;br /&gt;The...</td>\n",
       "      <td>positive</td>\n",
       "    </tr>\n",
       "    <tr>\n",
       "      <th>2</th>\n",
       "      <td>I thought this was a wonderful way to spend ti...</td>\n",
       "      <td>positive</td>\n",
       "    </tr>\n",
       "    <tr>\n",
       "      <th>3</th>\n",
       "      <td>Basically there's a family where a little boy ...</td>\n",
       "      <td>negative</td>\n",
       "    </tr>\n",
       "    <tr>\n",
       "      <th>4</th>\n",
       "      <td>Petter Mattei's \"Love in the Time of Money\" is...</td>\n",
       "      <td>positive</td>\n",
       "    </tr>\n",
       "    <tr>\n",
       "      <th>...</th>\n",
       "      <td>...</td>\n",
       "      <td>...</td>\n",
       "    </tr>\n",
       "    <tr>\n",
       "      <th>49995</th>\n",
       "      <td>I thought this movie did a down right good job...</td>\n",
       "      <td>positive</td>\n",
       "    </tr>\n",
       "    <tr>\n",
       "      <th>49996</th>\n",
       "      <td>Bad plot, bad dialogue, bad acting, idiotic di...</td>\n",
       "      <td>negative</td>\n",
       "    </tr>\n",
       "    <tr>\n",
       "      <th>49997</th>\n",
       "      <td>I am a Catholic taught in parochial elementary...</td>\n",
       "      <td>negative</td>\n",
       "    </tr>\n",
       "    <tr>\n",
       "      <th>49998</th>\n",
       "      <td>I'm going to have to disagree with the previou...</td>\n",
       "      <td>negative</td>\n",
       "    </tr>\n",
       "    <tr>\n",
       "      <th>49999</th>\n",
       "      <td>No one expects the Star Trek movies to be high...</td>\n",
       "      <td>negative</td>\n",
       "    </tr>\n",
       "  </tbody>\n",
       "</table>\n",
       "<p>50000 rows × 2 columns</p>\n",
       "</div>"
      ],
      "text/plain": [
       "                                                  review sentiment\n",
       "0      One of the other reviewers has mentioned that ...  positive\n",
       "1      A wonderful little production. <br /><br />The...  positive\n",
       "2      I thought this was a wonderful way to spend ti...  positive\n",
       "3      Basically there's a family where a little boy ...  negative\n",
       "4      Petter Mattei's \"Love in the Time of Money\" is...  positive\n",
       "...                                                  ...       ...\n",
       "49995  I thought this movie did a down right good job...  positive\n",
       "49996  Bad plot, bad dialogue, bad acting, idiotic di...  negative\n",
       "49997  I am a Catholic taught in parochial elementary...  negative\n",
       "49998  I'm going to have to disagree with the previou...  negative\n",
       "49999  No one expects the Star Trek movies to be high...  negative\n",
       "\n",
       "[50000 rows x 2 columns]"
      ]
     },
     "execution_count": 3,
     "metadata": {},
     "output_type": "execute_result"
    }
   ],
   "source": [
    "import pandas as pd\n",
    "\n",
    "csv_file = \"../IMDB.csv\"\n",
    "dataframe = pd.read_csv(csv_file)\n",
    "\n",
    "dataframe"
   ]
  },
  {
   "cell_type": "code",
   "execution_count": 4,
   "metadata": {},
   "outputs": [
    {
     "data": {
      "text/html": [
       "<div>\n",
       "<style scoped>\n",
       "    .dataframe tbody tr th:only-of-type {\n",
       "        vertical-align: middle;\n",
       "    }\n",
       "\n",
       "    .dataframe tbody tr th {\n",
       "        vertical-align: top;\n",
       "    }\n",
       "\n",
       "    .dataframe thead th {\n",
       "        text-align: right;\n",
       "    }\n",
       "</style>\n",
       "<table border=\"1\" class=\"dataframe\">\n",
       "  <thead>\n",
       "    <tr style=\"text-align: right;\">\n",
       "      <th></th>\n",
       "      <th>review</th>\n",
       "      <th>sentiment</th>\n",
       "    </tr>\n",
       "  </thead>\n",
       "  <tbody>\n",
       "    <tr>\n",
       "      <th>39883</th>\n",
       "      <td>This is a thinking man's silly movie. If you d...</td>\n",
       "      <td>positive</td>\n",
       "    </tr>\n",
       "    <tr>\n",
       "      <th>10233</th>\n",
       "      <td>Right, here we go, you have probably read in p...</td>\n",
       "      <td>positive</td>\n",
       "    </tr>\n",
       "    <tr>\n",
       "      <th>44079</th>\n",
       "      <td>What a disappointment! Piper Perabo is adorabl...</td>\n",
       "      <td>negative</td>\n",
       "    </tr>\n",
       "    <tr>\n",
       "      <th>25711</th>\n",
       "      <td>I saw this film yesterday. I must admit, it we...</td>\n",
       "      <td>negative</td>\n",
       "    </tr>\n",
       "    <tr>\n",
       "      <th>44501</th>\n",
       "      <td>\"Imaginary Heroes\" is a 2004 film starring Sig...</td>\n",
       "      <td>positive</td>\n",
       "    </tr>\n",
       "  </tbody>\n",
       "</table>\n",
       "</div>"
      ],
      "text/plain": [
       "                                                  review sentiment\n",
       "39883  This is a thinking man's silly movie. If you d...  positive\n",
       "10233  Right, here we go, you have probably read in p...  positive\n",
       "44079  What a disappointment! Piper Perabo is adorabl...  negative\n",
       "25711  I saw this film yesterday. I must admit, it we...  negative\n",
       "44501  \"Imaginary Heroes\" is a 2004 film starring Sig...  positive"
      ]
     },
     "execution_count": 4,
     "metadata": {},
     "output_type": "execute_result"
    }
   ],
   "source": [
    "rows_to_analyze = dataframe.sample(5)\n",
    "\n",
    "rows_to_analyze"
   ]
  },
  {
   "cell_type": "code",
   "execution_count": 5,
   "metadata": {},
   "outputs": [
    {
     "name": "stdout",
     "output_type": "stream",
     "text": [
      "Classify the sentiment in the reviews between brackets. The response should be in Python list format.\n",
      "[39883    This is a thinking man's silly movie. If you d...\n",
      "10233    Right, here we go, you have probably read in p...\n",
      "44079    What a disappointment! Piper Perabo is adorabl...\n",
      "25711    I saw this film yesterday. I must admit, it we...\n",
      "44501    \"Imaginary Heroes\" is a 2004 film starring Sig...\n",
      "Name: review, dtype: object]\n"
     ]
    }
   ],
   "source": [
    "def get_prompt(dataframe):\n",
    "  prompt = \"Classify the sentiment in the reviews between brackets. The response should be in Python list format.\"\n",
    "  reviews = f\"[{dataframe['review']}]\"\n",
    "\n",
    "  return f\"{prompt}\\n{reviews}\"\n",
    "\n",
    "prompt = get_prompt(rows_to_analyze)\n",
    "\n",
    "print(prompt)\n",
    "  "
   ]
  },
  {
   "cell_type": "code",
   "execution_count": 11,
   "metadata": {},
   "outputs": [
    {
     "name": "stdout",
     "output_type": "stream",
     "text": [
      "['positive', 'negative', 'negative', 'positive', 'negative']\n"
     ]
    }
   ],
   "source": [
    "response = ask_gpt(prompt, \"You are trained to analyze and detect the sentiment of given reviews\")\n",
    "\n",
    "get_message(response)"
   ]
  },
  {
   "cell_type": "code",
   "execution_count": 12,
   "metadata": {},
   "outputs": [
    {
     "data": {
      "text/html": [
       "<div>\n",
       "<style scoped>\n",
       "    .dataframe tbody tr th:only-of-type {\n",
       "        vertical-align: middle;\n",
       "    }\n",
       "\n",
       "    .dataframe tbody tr th {\n",
       "        vertical-align: top;\n",
       "    }\n",
       "\n",
       "    .dataframe thead th {\n",
       "        text-align: right;\n",
       "    }\n",
       "</style>\n",
       "<table border=\"1\" class=\"dataframe\">\n",
       "  <thead>\n",
       "    <tr style=\"text-align: right;\">\n",
       "      <th></th>\n",
       "      <th>review</th>\n",
       "      <th>sentiment</th>\n",
       "      <th>Sentiment-GPT-3.5</th>\n",
       "    </tr>\n",
       "  </thead>\n",
       "  <tbody>\n",
       "    <tr>\n",
       "      <th>39883</th>\n",
       "      <td>This is a thinking man's silly movie. If you d...</td>\n",
       "      <td>positive</td>\n",
       "      <td>positive</td>\n",
       "    </tr>\n",
       "    <tr>\n",
       "      <th>10233</th>\n",
       "      <td>Right, here we go, you have probably read in p...</td>\n",
       "      <td>positive</td>\n",
       "      <td>negative</td>\n",
       "    </tr>\n",
       "    <tr>\n",
       "      <th>44079</th>\n",
       "      <td>What a disappointment! Piper Perabo is adorabl...</td>\n",
       "      <td>negative</td>\n",
       "      <td>negative</td>\n",
       "    </tr>\n",
       "    <tr>\n",
       "      <th>25711</th>\n",
       "      <td>I saw this film yesterday. I must admit, it we...</td>\n",
       "      <td>negative</td>\n",
       "      <td>positive</td>\n",
       "    </tr>\n",
       "    <tr>\n",
       "      <th>44501</th>\n",
       "      <td>\"Imaginary Heroes\" is a 2004 film starring Sig...</td>\n",
       "      <td>positive</td>\n",
       "      <td>negative</td>\n",
       "    </tr>\n",
       "  </tbody>\n",
       "</table>\n",
       "</div>"
      ],
      "text/plain": [
       "                                                  review sentiment  \\\n",
       "39883  This is a thinking man's silly movie. If you d...  positive   \n",
       "10233  Right, here we go, you have probably read in p...  positive   \n",
       "44079  What a disappointment! Piper Perabo is adorabl...  negative   \n",
       "25711  I saw this film yesterday. I must admit, it we...  negative   \n",
       "44501  \"Imaginary Heroes\" is a 2004 film starring Sig...  positive   \n",
       "\n",
       "      Sentiment-GPT-3.5  \n",
       "39883          positive  \n",
       "10233          negative  \n",
       "44079          negative  \n",
       "25711          positive  \n",
       "44501          negative  "
      ]
     },
     "execution_count": 12,
     "metadata": {},
     "output_type": "execute_result"
    }
   ],
   "source": [
    "sentiments = ['positive', 'negative', 'negative', 'positive', 'negative']\n",
    "\n",
    "sentiments_dataframe = rows_to_analyze.copy()\n",
    "\n",
    "sentiments_dataframe['Sentiment-GPT-3.5'] = sentiments\n",
    "\n",
    "sentiments_dataframe"
   ]
  }
 ],
 "metadata": {
  "kernelspec": {
   "display_name": ".venv",
   "language": "python",
   "name": "python3"
  },
  "language_info": {
   "codemirror_mode": {
    "name": "ipython",
    "version": 3
   },
   "file_extension": ".py",
   "mimetype": "text/x-python",
   "name": "python",
   "nbconvert_exporter": "python",
   "pygments_lexer": "ipython3",
   "version": "3.10.11"
  }
 },
 "nbformat": 4,
 "nbformat_minor": 2
}
