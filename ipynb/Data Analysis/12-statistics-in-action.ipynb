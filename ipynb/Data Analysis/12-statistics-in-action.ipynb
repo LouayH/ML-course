{
 "cells": [
  {
   "cell_type": "code",
   "execution_count": 21,
   "metadata": {},
   "outputs": [],
   "source": [
    "import pandas as pd"
   ]
  },
  {
   "cell_type": "code",
   "execution_count": 22,
   "metadata": {},
   "outputs": [
    {
     "name": "stdout",
     "output_type": "stream",
     "text": [
      "<class 'pandas.core.frame.DataFrame'>\n",
      "RangeIndex: 1000 entries, 0 to 999\n",
      "Data columns (total 4 columns):\n",
      " #   Column         Non-Null Count  Dtype \n",
      "---  ------         --------------  ----- \n",
      " 0   gender         1000 non-null   object\n",
      " 1   math score     1000 non-null   int64 \n",
      " 2   reading score  1000 non-null   int64 \n",
      " 3   writing score  1000 non-null   int64 \n",
      "dtypes: int64(3), object(1)\n",
      "memory usage: 31.4+ KB\n"
     ]
    }
   ],
   "source": [
    "dataframe = pd.read_csv(\"students-scores.csv\")\n",
    "dataframe.info()"
   ]
  },
  {
   "cell_type": "code",
   "execution_count": 23,
   "metadata": {},
   "outputs": [
    {
     "name": "stdout",
     "output_type": "stream",
     "text": [
      "<class 'pandas.core.frame.DataFrame'>\n",
      "RangeIndex: 1000 entries, 0 to 999\n",
      "Data columns (total 4 columns):\n",
      " #   Column         Non-Null Count  Dtype \n",
      "---  ------         --------------  ----- \n",
      " 0   gender         1000 non-null   object\n",
      " 1   math_score     1000 non-null   int64 \n",
      " 2   reading_score  1000 non-null   int64 \n",
      " 3   writing_score  1000 non-null   int64 \n",
      "dtypes: int64(3), object(1)\n",
      "memory usage: 31.4+ KB\n"
     ]
    }
   ],
   "source": [
    "dataframe.columns = [column.replace(\" \", \"_\") for column in dataframe]\n",
    "dataframe.info()"
   ]
  },
  {
   "cell_type": "code",
   "execution_count": 24,
   "metadata": {},
   "outputs": [
    {
     "name": "stdout",
     "output_type": "stream",
     "text": [
      "Empty DataFrame\n",
      "Columns: [function, math_score, reading_score, writing_score]\n",
      "Index: []\n"
     ]
    }
   ],
   "source": [
    "statistics_dataframe = pd.DataFrame(columns=[\"function\", \"math_score\", \"reading_score\", \"writing_score\"])\n",
    "print(statistics_dataframe)"
   ]
  },
  {
   "cell_type": "code",
   "execution_count": 25,
   "metadata": {},
   "outputs": [],
   "source": [
    "row = {\n",
    "  \"function\": \"count\",\n",
    "  \"math_score\": dataframe[\"math_score\"].count(),\n",
    "  \"reading_score\": dataframe[\"reading_score\"].count(),\n",
    "  \"writing_score\": dataframe[\"writing_score\"].count()\n",
    "}\n",
    "\n",
    "statistics_dataframe = pd.concat([statistics_dataframe, pd.DataFrame([row])], ignore_index=True)"
   ]
  },
  {
   "cell_type": "code",
   "execution_count": 26,
   "metadata": {},
   "outputs": [],
   "source": [
    "row = {\n",
    "  \"function\": \"min\",\n",
    "  \"math_score\": dataframe[\"math_score\"].min(),\n",
    "  \"reading_score\": dataframe[\"reading_score\"].min(),\n",
    "  \"writing_score\": dataframe[\"writing_score\"].min()\n",
    "}\n",
    "\n",
    "statistics_dataframe = pd.concat([statistics_dataframe, pd.DataFrame([row])], ignore_index=True)"
   ]
  },
  {
   "cell_type": "code",
   "execution_count": 27,
   "metadata": {},
   "outputs": [],
   "source": [
    "row = {\n",
    "  \"function\": \"max\",\n",
    "  \"math_score\": dataframe[\"math_score\"].max(),\n",
    "  \"reading_score\": dataframe[\"reading_score\"].max(),\n",
    "  \"writing_score\": dataframe[\"writing_score\"].max()\n",
    "}\n",
    "\n",
    "statistics_dataframe = pd.concat([statistics_dataframe, pd.DataFrame([row])], ignore_index=True)"
   ]
  },
  {
   "cell_type": "code",
   "execution_count": 28,
   "metadata": {},
   "outputs": [],
   "source": [
    "row = {\n",
    "  \"function\": \"mean\",\n",
    "  \"math_score\": dataframe[\"math_score\"].mean(),\n",
    "  \"reading_score\": dataframe[\"reading_score\"].mean(),\n",
    "  \"writing_score\": dataframe[\"writing_score\"].mean()\n",
    "}\n",
    "\n",
    "statistics_dataframe = pd.concat([statistics_dataframe, pd.DataFrame([row])], ignore_index=True)"
   ]
  },
  {
   "cell_type": "code",
   "execution_count": 29,
   "metadata": {},
   "outputs": [],
   "source": [
    "row = {\n",
    "  \"function\": \"median\",\n",
    "  \"math_score\": dataframe[\"math_score\"].median(),\n",
    "  \"reading_score\": dataframe[\"reading_score\"].median(),\n",
    "  \"writing_score\": dataframe[\"writing_score\"].median()\n",
    "}\n",
    "\n",
    "statistics_dataframe = pd.concat([statistics_dataframe, pd.DataFrame([row])], ignore_index=True)"
   ]
  },
  {
   "cell_type": "code",
   "execution_count": 30,
   "metadata": {},
   "outputs": [],
   "source": [
    "row = {\n",
    "  \"function\": \"std\",\n",
    "  \"math_score\": dataframe[\"math_score\"].std(),\n",
    "  \"reading_score\": dataframe[\"reading_score\"].std(),\n",
    "  \"writing_score\": dataframe[\"writing_score\"].std()\n",
    "}\n",
    "\n",
    "statistics_dataframe = pd.concat([statistics_dataframe, pd.DataFrame([row])], ignore_index=True)"
   ]
  },
  {
   "cell_type": "code",
   "execution_count": 31,
   "metadata": {},
   "outputs": [],
   "source": [
    "row = {\n",
    "  \"function\": \"mode\",\n",
    "  \"math_score\": dataframe[\"math_score\"].mode()[0],\n",
    "  \"reading_score\": dataframe[\"reading_score\"].mode()[0],\n",
    "  \"writing_score\": dataframe[\"writing_score\"].mode()[0]\n",
    "}\n",
    "\n",
    "statistics_dataframe = pd.concat([statistics_dataframe, pd.DataFrame([row])], ignore_index=True)"
   ]
  },
  {
   "cell_type": "code",
   "execution_count": 32,
   "metadata": {},
   "outputs": [
    {
     "data": {
      "text/html": [
       "<div>\n",
       "<style scoped>\n",
       "    .dataframe tbody tr th:only-of-type {\n",
       "        vertical-align: middle;\n",
       "    }\n",
       "\n",
       "    .dataframe tbody tr th {\n",
       "        vertical-align: top;\n",
       "    }\n",
       "\n",
       "    .dataframe thead th {\n",
       "        text-align: right;\n",
       "    }\n",
       "</style>\n",
       "<table border=\"1\" class=\"dataframe\">\n",
       "  <thead>\n",
       "    <tr style=\"text-align: right;\">\n",
       "      <th></th>\n",
       "      <th>function</th>\n",
       "      <th>math_score</th>\n",
       "      <th>reading_score</th>\n",
       "      <th>writing_score</th>\n",
       "    </tr>\n",
       "  </thead>\n",
       "  <tbody>\n",
       "    <tr>\n",
       "      <th>0</th>\n",
       "      <td>count</td>\n",
       "      <td>1000</td>\n",
       "      <td>1000</td>\n",
       "      <td>1000</td>\n",
       "    </tr>\n",
       "    <tr>\n",
       "      <th>1</th>\n",
       "      <td>min</td>\n",
       "      <td>0</td>\n",
       "      <td>17</td>\n",
       "      <td>10</td>\n",
       "    </tr>\n",
       "    <tr>\n",
       "      <th>2</th>\n",
       "      <td>max</td>\n",
       "      <td>100</td>\n",
       "      <td>100</td>\n",
       "      <td>100</td>\n",
       "    </tr>\n",
       "    <tr>\n",
       "      <th>3</th>\n",
       "      <td>mean</td>\n",
       "      <td>66.089</td>\n",
       "      <td>69.169</td>\n",
       "      <td>68.054</td>\n",
       "    </tr>\n",
       "    <tr>\n",
       "      <th>4</th>\n",
       "      <td>median</td>\n",
       "      <td>66.0</td>\n",
       "      <td>70.0</td>\n",
       "      <td>69.0</td>\n",
       "    </tr>\n",
       "    <tr>\n",
       "      <th>5</th>\n",
       "      <td>std</td>\n",
       "      <td>15.16308</td>\n",
       "      <td>14.600192</td>\n",
       "      <td>15.195657</td>\n",
       "    </tr>\n",
       "    <tr>\n",
       "      <th>6</th>\n",
       "      <td>mode</td>\n",
       "      <td>65</td>\n",
       "      <td>72</td>\n",
       "      <td>74</td>\n",
       "    </tr>\n",
       "  </tbody>\n",
       "</table>\n",
       "</div>"
      ],
      "text/plain": [
       "  function math_score reading_score writing_score\n",
       "0    count       1000          1000          1000\n",
       "1      min          0            17            10\n",
       "2      max        100           100           100\n",
       "3     mean     66.089        69.169        68.054\n",
       "4   median       66.0          70.0          69.0\n",
       "5      std   15.16308     14.600192     15.195657\n",
       "6     mode         65            72            74"
      ]
     },
     "execution_count": 32,
     "metadata": {},
     "output_type": "execute_result"
    }
   ],
   "source": [
    "statistics_dataframe"
   ]
  }
 ],
 "metadata": {
  "kernelspec": {
   "display_name": ".venv",
   "language": "python",
   "name": "python3"
  },
  "language_info": {
   "codemirror_mode": {
    "name": "ipython",
    "version": 3
   },
   "file_extension": ".py",
   "mimetype": "text/x-python",
   "name": "python",
   "nbconvert_exporter": "python",
   "pygments_lexer": "ipython3",
   "version": "3.10.11"
  }
 },
 "nbformat": 4,
 "nbformat_minor": 2
}
