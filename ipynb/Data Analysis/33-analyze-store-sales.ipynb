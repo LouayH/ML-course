{
 "cells": [
  {
   "cell_type": "code",
   "execution_count": 314,
   "metadata": {},
   "outputs": [],
   "source": [
    "import pandas as pd\n",
    "import matplotlib.pyplot as plt\n",
    "import seaborn as sns"
   ]
  },
  {
   "cell_type": "code",
   "execution_count": 315,
   "metadata": {},
   "outputs": [],
   "source": [
    "jan_data = pd.read_csv(\"datasets/sales/january.csv\")\n",
    "jan_data[\"Month\"] = \"Jan\"\n",
    "feb_data = pd.read_csv(\"datasets/sales/february.csv\")\n",
    "feb_data[\"Month\"] = \"Feb\"\n",
    "mar_data = pd.read_csv(\"datasets/sales/march.csv\")\n",
    "mar_data[\"Month\"] = \"Mar\"\n",
    "apr_data = pd.read_csv(\"datasets/sales/april.csv\")\n",
    "apr_data[\"Month\"] = \"Apr\"\n",
    "may_data = pd.read_csv(\"datasets/sales/may.csv\")\n",
    "may_data[\"Month\"] = \"May\"\n",
    "jun_data = pd.read_csv(\"datasets/sales/june.csv\")\n",
    "jun_data[\"Month\"] = \"Jun\"\n",
    "jul_data = pd.read_csv(\"datasets/sales/july.csv\")\n",
    "jul_data[\"Month\"] = \"Jul\"\n",
    "aug_data = pd.read_csv(\"datasets/sales/august.csv\")\n",
    "aug_data[\"Month\"] = \"Aug\"\n",
    "sep_data = pd.read_csv(\"datasets/sales/september.csv\")\n",
    "sep_data[\"Month\"] = \"Sep\"\n",
    "oct_data = pd.read_csv(\"datasets/sales/october.csv\")\n",
    "oct_data[\"Month\"] = \"Oct\"\n",
    "nov_data = pd.read_csv(\"datasets/sales/november.csv\")\n",
    "nov_data[\"Month\"] = \"Nov\"\n",
    "dec_data = pd.read_csv(\"datasets/sales/december.csv\")\n",
    "dec_data[\"Month\"] = \"Dec\""
   ]
  },
  {
   "cell_type": "code",
   "execution_count": 316,
   "metadata": {},
   "outputs": [
    {
     "name": "stdout",
     "output_type": "stream",
     "text": [
      "(9723, 7)\n",
      "(12036, 7)\n",
      "(15226, 7)\n",
      "(18383, 7)\n",
      "(16635, 7)\n",
      "(13622, 7)\n",
      "(14371, 7)\n",
      "(12011, 7)\n",
      "(11686, 7)\n",
      "(20379, 7)\n",
      "(17661, 7)\n",
      "(25117, 7)\n"
     ]
    }
   ],
   "source": [
    "data = [jan_data, feb_data, mar_data, apr_data, may_data, jun_data, jul_data, aug_data, sep_data, oct_data, nov_data, dec_data]\n",
    "\n",
    "for df in data:\n",
    "  print(df.shape)"
   ]
  },
  {
   "cell_type": "code",
   "execution_count": 317,
   "metadata": {},
   "outputs": [
    {
     "data": {
      "text/html": [
       "<div>\n",
       "<style scoped>\n",
       "    .dataframe tbody tr th:only-of-type {\n",
       "        vertical-align: middle;\n",
       "    }\n",
       "\n",
       "    .dataframe tbody tr th {\n",
       "        vertical-align: top;\n",
       "    }\n",
       "\n",
       "    .dataframe thead th {\n",
       "        text-align: right;\n",
       "    }\n",
       "</style>\n",
       "<table border=\"1\" class=\"dataframe\">\n",
       "  <thead>\n",
       "    <tr style=\"text-align: right;\">\n",
       "      <th></th>\n",
       "      <th>Order ID</th>\n",
       "      <th>Product</th>\n",
       "      <th>Quantity Ordered</th>\n",
       "      <th>Price Each</th>\n",
       "      <th>Order Date</th>\n",
       "      <th>Purchase Address</th>\n",
       "      <th>Month</th>\n",
       "    </tr>\n",
       "  </thead>\n",
       "  <tbody>\n",
       "    <tr>\n",
       "      <th>122508</th>\n",
       "      <td>258227</td>\n",
       "      <td>AA Batteries (4-pack)</td>\n",
       "      <td>1</td>\n",
       "      <td>3.84</td>\n",
       "      <td>09/10/19 14:49</td>\n",
       "      <td>660 River St, Boston, MA 02215</td>\n",
       "      <td>Sep</td>\n",
       "    </tr>\n",
       "    <tr>\n",
       "      <th>166015</th>\n",
       "      <td>299736</td>\n",
       "      <td>Macbook Pro Laptop</td>\n",
       "      <td>1</td>\n",
       "      <td>1700</td>\n",
       "      <td>12/12/19 07:23</td>\n",
       "      <td>929 2nd St, New York City, NY 10001</td>\n",
       "      <td>Dec</td>\n",
       "    </tr>\n",
       "    <tr>\n",
       "      <th>136352</th>\n",
       "      <td>271441</td>\n",
       "      <td>Wired Headphones</td>\n",
       "      <td>1</td>\n",
       "      <td>11.99</td>\n",
       "      <td>10/18/19 20:38</td>\n",
       "      <td>109 Main St, Los Angeles, CA 90001</td>\n",
       "      <td>Oct</td>\n",
       "    </tr>\n",
       "    <tr>\n",
       "      <th>46302</th>\n",
       "      <td>185452</td>\n",
       "      <td>USB-C Charging Cable</td>\n",
       "      <td>1</td>\n",
       "      <td>11.95</td>\n",
       "      <td>04/04/19 00:49</td>\n",
       "      <td>490 5th St, Atlanta, GA 30301</td>\n",
       "      <td>Apr</td>\n",
       "    </tr>\n",
       "    <tr>\n",
       "      <th>136105</th>\n",
       "      <td>271205</td>\n",
       "      <td>AA Batteries (4-pack)</td>\n",
       "      <td>2</td>\n",
       "      <td>3.84</td>\n",
       "      <td>10/08/19 09:44</td>\n",
       "      <td>882 Elm St, San Francisco, CA 94016</td>\n",
       "      <td>Oct</td>\n",
       "    </tr>\n",
       "    <tr>\n",
       "      <th>157434</th>\n",
       "      <td>291564</td>\n",
       "      <td>Wired Headphones</td>\n",
       "      <td>1</td>\n",
       "      <td>11.99</td>\n",
       "      <td>11/26/19 19:47</td>\n",
       "      <td>572 Spruce St, Portland, OR 97035</td>\n",
       "      <td>Nov</td>\n",
       "    </tr>\n",
       "    <tr>\n",
       "      <th>155298</th>\n",
       "      <td>289518</td>\n",
       "      <td>Apple Airpods Headphones</td>\n",
       "      <td>1</td>\n",
       "      <td>150</td>\n",
       "      <td>11/13/19 14:09</td>\n",
       "      <td>566 Jackson St, San Francisco, CA 94016</td>\n",
       "      <td>Nov</td>\n",
       "    </tr>\n",
       "    <tr>\n",
       "      <th>67800</th>\n",
       "      <td>205913</td>\n",
       "      <td>Lightning Charging Cable</td>\n",
       "      <td>1</td>\n",
       "      <td>14.95</td>\n",
       "      <td>05/17/19 20:25</td>\n",
       "      <td>939 4th St, Austin, TX 73301</td>\n",
       "      <td>May</td>\n",
       "    </tr>\n",
       "    <tr>\n",
       "      <th>177495</th>\n",
       "      <td>310726</td>\n",
       "      <td>Bose SoundSport Headphones</td>\n",
       "      <td>1</td>\n",
       "      <td>99.99</td>\n",
       "      <td>12/16/19 11:31</td>\n",
       "      <td>184 Main St, Los Angeles, CA 90001</td>\n",
       "      <td>Dec</td>\n",
       "    </tr>\n",
       "    <tr>\n",
       "      <th>95242</th>\n",
       "      <td>232109</td>\n",
       "      <td>Apple Airpods Headphones</td>\n",
       "      <td>1</td>\n",
       "      <td>150</td>\n",
       "      <td>07/19/19 09:42</td>\n",
       "      <td>527 Adams St, Los Angeles, CA 90001</td>\n",
       "      <td>Jul</td>\n",
       "    </tr>\n",
       "  </tbody>\n",
       "</table>\n",
       "</div>"
      ],
      "text/plain": [
       "       Order ID                     Product Quantity Ordered Price Each  \\\n",
       "122508   258227       AA Batteries (4-pack)                1       3.84   \n",
       "166015   299736          Macbook Pro Laptop                1       1700   \n",
       "136352   271441            Wired Headphones                1      11.99   \n",
       "46302    185452        USB-C Charging Cable                1      11.95   \n",
       "136105   271205       AA Batteries (4-pack)                2       3.84   \n",
       "157434   291564            Wired Headphones                1      11.99   \n",
       "155298   289518    Apple Airpods Headphones                1        150   \n",
       "67800    205913    Lightning Charging Cable                1      14.95   \n",
       "177495   310726  Bose SoundSport Headphones                1      99.99   \n",
       "95242    232109    Apple Airpods Headphones                1        150   \n",
       "\n",
       "            Order Date                         Purchase Address Month  \n",
       "122508  09/10/19 14:49           660 River St, Boston, MA 02215   Sep  \n",
       "166015  12/12/19 07:23      929 2nd St, New York City, NY 10001   Dec  \n",
       "136352  10/18/19 20:38       109 Main St, Los Angeles, CA 90001   Oct  \n",
       "46302   04/04/19 00:49            490 5th St, Atlanta, GA 30301   Apr  \n",
       "136105  10/08/19 09:44      882 Elm St, San Francisco, CA 94016   Oct  \n",
       "157434  11/26/19 19:47        572 Spruce St, Portland, OR 97035   Nov  \n",
       "155298  11/13/19 14:09  566 Jackson St, San Francisco, CA 94016   Nov  \n",
       "67800   05/17/19 20:25             939 4th St, Austin, TX 73301   May  \n",
       "177495  12/16/19 11:31       184 Main St, Los Angeles, CA 90001   Dec  \n",
       "95242   07/19/19 09:42      527 Adams St, Los Angeles, CA 90001   Jul  "
      ]
     },
     "execution_count": 317,
     "metadata": {},
     "output_type": "execute_result"
    }
   ],
   "source": [
    "data = pd.concat(data, ignore_index = True)\n",
    "\n",
    "data.sample(10)"
   ]
  },
  {
   "cell_type": "markdown",
   "metadata": {},
   "source": [
    "#### Data discovery"
   ]
  },
  {
   "cell_type": "code",
   "execution_count": 318,
   "metadata": {},
   "outputs": [
    {
     "name": "stdout",
     "output_type": "stream",
     "text": [
      "<class 'pandas.core.frame.DataFrame'>\n",
      "RangeIndex: 186850 entries, 0 to 186849\n",
      "Data columns (total 7 columns):\n",
      " #   Column            Non-Null Count   Dtype \n",
      "---  ------            --------------   ----- \n",
      " 0   Order ID          186305 non-null  object\n",
      " 1   Product           186305 non-null  object\n",
      " 2   Quantity Ordered  186305 non-null  object\n",
      " 3   Price Each        186305 non-null  object\n",
      " 4   Order Date        186305 non-null  object\n",
      " 5   Purchase Address  186305 non-null  object\n",
      " 6   Month             186850 non-null  object\n",
      "dtypes: object(7)\n",
      "memory usage: 10.0+ MB\n"
     ]
    }
   ],
   "source": [
    "# month non-null values are more than other columns\n",
    "# quantity ordered data type is object and it should be number\n",
    "# price each data type is object and it should be float\n",
    "\n",
    "data.info()"
   ]
  },
  {
   "cell_type": "code",
   "execution_count": 319,
   "metadata": {},
   "outputs": [
    {
     "data": {
      "text/plain": [
       "Order ID            545\n",
       "Product             545\n",
       "Quantity Ordered    545\n",
       "Price Each          545\n",
       "Order Date          545\n",
       "Purchase Address    545\n",
       "Month                 0\n",
       "dtype: int64"
      ]
     },
     "execution_count": 319,
     "metadata": {},
     "output_type": "execute_result"
    }
   ],
   "source": [
    "data.isnull().sum()"
   ]
  },
  {
   "cell_type": "code",
   "execution_count": 320,
   "metadata": {},
   "outputs": [
    {
     "data": {
      "text/plain": [
       "1140"
      ]
     },
     "execution_count": 320,
     "metadata": {},
     "output_type": "execute_result"
    }
   ],
   "source": [
    "# dataset have duplicated rows\n",
    "\n",
    "data.duplicated().sum()"
   ]
  },
  {
   "cell_type": "code",
   "execution_count": 321,
   "metadata": {},
   "outputs": [
    {
     "data": {
      "text/plain": [
       "Order ID            178438\n",
       "Product                 20\n",
       "Quantity Ordered        10\n",
       "Price Each              24\n",
       "Order Date          142396\n",
       "Purchase Address    140788\n",
       "Month                   12\n",
       "dtype: int64"
      ]
     },
     "execution_count": 321,
     "metadata": {},
     "output_type": "execute_result"
    }
   ],
   "source": [
    "data.nunique()"
   ]
  },
  {
   "cell_type": "code",
   "execution_count": 322,
   "metadata": {},
   "outputs": [
    {
     "data": {
      "text/plain": [
       "array(['iPhone', 'Lightning Charging Cable', 'Wired Headphones',\n",
       "       '27in FHD Monitor', 'AAA Batteries (4-pack)',\n",
       "       '27in 4K Gaming Monitor', 'USB-C Charging Cable',\n",
       "       'Bose SoundSport Headphones', 'Apple Airpods Headphones',\n",
       "       'Macbook Pro Laptop', 'Flatscreen TV', 'Vareebadd Phone',\n",
       "       'AA Batteries (4-pack)', 'Google Phone', '20in Monitor',\n",
       "       '34in Ultrawide Monitor', 'ThinkPad Laptop', 'LG Dryer',\n",
       "       'LG Washing Machine', nan, 'Product'], dtype=object)"
      ]
     },
     "execution_count": 322,
     "metadata": {},
     "output_type": "execute_result"
    }
   ],
   "source": [
    "data[\"Product\"].unique()"
   ]
  },
  {
   "cell_type": "code",
   "execution_count": 323,
   "metadata": {},
   "outputs": [
    {
     "data": {
      "text/plain": [
       "array(['1', '2', '3', '5', '4', nan, '7', 'Quantity Ordered', '6', '9',\n",
       "       '8'], dtype=object)"
      ]
     },
     "execution_count": 323,
     "metadata": {},
     "output_type": "execute_result"
    }
   ],
   "source": [
    "data[\"Quantity Ordered\"].unique()"
   ]
  },
  {
   "cell_type": "code",
   "execution_count": 324,
   "metadata": {},
   "outputs": [
    {
     "data": {
      "text/plain": [
       "array(['700', '14.95', '11.99', '149.99', '2.99', '389.99', '11.95',\n",
       "       '99.99', '150', '1700', '300', '400', '3.84', '600', '109.99',\n",
       "       '379.99', '999.99', '600.0', nan, 'Price Each', '700.0', '150.0',\n",
       "       '300.0', '1700.0', '400.0'], dtype=object)"
      ]
     },
     "execution_count": 324,
     "metadata": {},
     "output_type": "execute_result"
    }
   ],
   "source": [
    "data[\"Price Each\"].unique()"
   ]
  },
  {
   "cell_type": "markdown",
   "metadata": {},
   "source": [
    "#### Lower and replace spaces in column names"
   ]
  },
  {
   "cell_type": "code",
   "execution_count": 325,
   "metadata": {},
   "outputs": [
    {
     "data": {
      "text/plain": [
       "Index(['order_id', 'product', 'quantity_ordered', 'price_each', 'order_date',\n",
       "       'purchase_address', 'month'],\n",
       "      dtype='object')"
      ]
     },
     "execution_count": 325,
     "metadata": {},
     "output_type": "execute_result"
    }
   ],
   "source": [
    "data.columns = [column.lower().replace(\" \", \"_\") for column in data]\n",
    "\n",
    "data.columns"
   ]
  },
  {
   "cell_type": "markdown",
   "metadata": {},
   "source": [
    "#### Date cleaning"
   ]
  },
  {
   "cell_type": "code",
   "execution_count": 326,
   "metadata": {},
   "outputs": [
    {
     "data": {
      "text/plain": [
       "1.75006689858175"
      ]
     },
     "execution_count": 326,
     "metadata": {},
     "output_type": "execute_result"
    }
   ],
   "source": [
    "# if we have a large dataset we can remove rows with null values if they represent a little percentage.\n",
    "# otherwise replace null values with mean\n",
    "\n",
    "(data.isnull().sum().sum()) / len(data) * 100\n",
    "\n",
    "# 1.7% is a low percent"
   ]
  },
  {
   "cell_type": "code",
   "execution_count": 327,
   "metadata": {},
   "outputs": [
    {
     "data": {
      "text/plain": [
       "order_id            0\n",
       "product             0\n",
       "quantity_ordered    0\n",
       "price_each          0\n",
       "order_date          0\n",
       "purchase_address    0\n",
       "month               0\n",
       "dtype: int64"
      ]
     },
     "execution_count": 327,
     "metadata": {},
     "output_type": "execute_result"
    }
   ],
   "source": [
    "# drop rows with null values\n",
    "\n",
    "data = data.dropna()\n",
    "\n",
    "data.isnull().sum()"
   ]
  },
  {
   "cell_type": "code",
   "execution_count": 328,
   "metadata": {},
   "outputs": [],
   "source": [
    "# adjust data type of quantity ordered and price each columns\n",
    "\n",
    "# data = data.astype({\n",
    "#   \"quantity_ordered\": int,\n",
    "#   \"price_each\": float\n",
    "# })\n",
    "\n",
    "# will throw error becuase columns contain non numerice data"
   ]
  },
  {
   "cell_type": "code",
   "execution_count": 329,
   "metadata": {},
   "outputs": [],
   "source": [
    "data = data.drop(data[data.quantity_ordered == \"Quantity Ordered\"].index)\n",
    "data = data.drop(data[data.price_each == \"Price Each\"].index)"
   ]
  },
  {
   "cell_type": "code",
   "execution_count": 330,
   "metadata": {},
   "outputs": [
    {
     "name": "stdout",
     "output_type": "stream",
     "text": [
      "<class 'pandas.core.frame.DataFrame'>\n",
      "Index: 185950 entries, 0 to 186849\n",
      "Data columns (total 7 columns):\n",
      " #   Column            Non-Null Count   Dtype  \n",
      "---  ------            --------------   -----  \n",
      " 0   order_id          185950 non-null  object \n",
      " 1   product           185950 non-null  object \n",
      " 2   quantity_ordered  185950 non-null  int32  \n",
      " 3   price_each        185950 non-null  float64\n",
      " 4   order_date        185950 non-null  object \n",
      " 5   purchase_address  185950 non-null  object \n",
      " 6   month             185950 non-null  object \n",
      "dtypes: float64(1), int32(1), object(5)\n",
      "memory usage: 10.6+ MB\n"
     ]
    }
   ],
   "source": [
    "data = data.astype({\n",
    "  \"quantity_ordered\": int,\n",
    "  \"price_each\": float\n",
    "})\n",
    "\n",
    "data.info()"
   ]
  },
  {
   "cell_type": "markdown",
   "metadata": {},
   "source": [
    "#### Date Analyze"
   ]
  },
  {
   "cell_type": "markdown",
   "metadata": {},
   "source": [
    "##### Get sales per month"
   ]
  },
  {
   "cell_type": "code",
   "execution_count": 331,
   "metadata": {},
   "outputs": [
    {
     "data": {
      "text/html": [
       "<div>\n",
       "<style scoped>\n",
       "    .dataframe tbody tr th:only-of-type {\n",
       "        vertical-align: middle;\n",
       "    }\n",
       "\n",
       "    .dataframe tbody tr th {\n",
       "        vertical-align: top;\n",
       "    }\n",
       "\n",
       "    .dataframe thead th {\n",
       "        text-align: right;\n",
       "    }\n",
       "</style>\n",
       "<table border=\"1\" class=\"dataframe\">\n",
       "  <thead>\n",
       "    <tr style=\"text-align: right;\">\n",
       "      <th></th>\n",
       "      <th>order_id</th>\n",
       "      <th>product</th>\n",
       "      <th>quantity_ordered</th>\n",
       "      <th>price_each</th>\n",
       "      <th>order_date</th>\n",
       "      <th>purchase_address</th>\n",
       "      <th>month</th>\n",
       "      <th>total</th>\n",
       "    </tr>\n",
       "  </thead>\n",
       "  <tbody>\n",
       "    <tr>\n",
       "      <th>32566</th>\n",
       "      <td>172335</td>\n",
       "      <td>Wired Headphones</td>\n",
       "      <td>1</td>\n",
       "      <td>11.99</td>\n",
       "      <td>03/30/19 00:20</td>\n",
       "      <td>163 Hill St, Atlanta, GA 30301</td>\n",
       "      <td>Mar</td>\n",
       "      <td>11.99</td>\n",
       "    </tr>\n",
       "    <tr>\n",
       "      <th>44932</th>\n",
       "      <td>184145</td>\n",
       "      <td>USB-C Charging Cable</td>\n",
       "      <td>1</td>\n",
       "      <td>11.95</td>\n",
       "      <td>04/16/19 13:33</td>\n",
       "      <td>253 Park St, Boston, MA 02215</td>\n",
       "      <td>Apr</td>\n",
       "      <td>11.95</td>\n",
       "    </tr>\n",
       "    <tr>\n",
       "      <th>114550</th>\n",
       "      <td>250591</td>\n",
       "      <td>USB-C Charging Cable</td>\n",
       "      <td>1</td>\n",
       "      <td>11.95</td>\n",
       "      <td>09/15/19 18:56</td>\n",
       "      <td>477 Johnson St, New York City, NY 10001</td>\n",
       "      <td>Sep</td>\n",
       "      <td>11.95</td>\n",
       "    </tr>\n",
       "    <tr>\n",
       "      <th>40621</th>\n",
       "      <td>180042</td>\n",
       "      <td>AA Batteries (4-pack)</td>\n",
       "      <td>2</td>\n",
       "      <td>3.84</td>\n",
       "      <td>04/12/19 08:04</td>\n",
       "      <td>987 10th St, San Francisco, CA 94016</td>\n",
       "      <td>Apr</td>\n",
       "      <td>7.68</td>\n",
       "    </tr>\n",
       "    <tr>\n",
       "      <th>103523</th>\n",
       "      <td>240060</td>\n",
       "      <td>Apple Airpods Headphones</td>\n",
       "      <td>1</td>\n",
       "      <td>150.00</td>\n",
       "      <td>08/30/19 22:17</td>\n",
       "      <td>304 Pine St, Los Angeles, CA 90001</td>\n",
       "      <td>Aug</td>\n",
       "      <td>150.00</td>\n",
       "    </tr>\n",
       "  </tbody>\n",
       "</table>\n",
       "</div>"
      ],
      "text/plain": [
       "       order_id                   product  quantity_ordered  price_each  \\\n",
       "32566    172335          Wired Headphones                 1       11.99   \n",
       "44932    184145      USB-C Charging Cable                 1       11.95   \n",
       "114550   250591      USB-C Charging Cable                 1       11.95   \n",
       "40621    180042     AA Batteries (4-pack)                 2        3.84   \n",
       "103523   240060  Apple Airpods Headphones                 1      150.00   \n",
       "\n",
       "            order_date                         purchase_address month   total  \n",
       "32566   03/30/19 00:20           163 Hill St, Atlanta, GA 30301   Mar   11.99  \n",
       "44932   04/16/19 13:33            253 Park St, Boston, MA 02215   Apr   11.95  \n",
       "114550  09/15/19 18:56  477 Johnson St, New York City, NY 10001   Sep   11.95  \n",
       "40621   04/12/19 08:04     987 10th St, San Francisco, CA 94016   Apr    7.68  \n",
       "103523  08/30/19 22:17       304 Pine St, Los Angeles, CA 90001   Aug  150.00  "
      ]
     },
     "execution_count": 331,
     "metadata": {},
     "output_type": "execute_result"
    }
   ],
   "source": [
    "# calculate total per order\n",
    "\n",
    "data[\"total\"] = data[\"quantity_ordered\"] * data[\"price_each\"]\n",
    "\n",
    "data.sample(5)"
   ]
  },
  {
   "cell_type": "code",
   "execution_count": 332,
   "metadata": {},
   "outputs": [
    {
     "data": {
      "text/html": [
       "<div>\n",
       "<style scoped>\n",
       "    .dataframe tbody tr th:only-of-type {\n",
       "        vertical-align: middle;\n",
       "    }\n",
       "\n",
       "    .dataframe tbody tr th {\n",
       "        vertical-align: top;\n",
       "    }\n",
       "\n",
       "    .dataframe thead th {\n",
       "        text-align: right;\n",
       "    }\n",
       "</style>\n",
       "<table border=\"1\" class=\"dataframe\">\n",
       "  <thead>\n",
       "    <tr style=\"text-align: right;\">\n",
       "      <th></th>\n",
       "      <th>month</th>\n",
       "      <th>total_sum</th>\n",
       "    </tr>\n",
       "  </thead>\n",
       "  <tbody>\n",
       "    <tr>\n",
       "      <th>0</th>\n",
       "      <td>Dec</td>\n",
       "      <td>4619297.12</td>\n",
       "    </tr>\n",
       "    <tr>\n",
       "      <th>1</th>\n",
       "      <td>Oct</td>\n",
       "      <td>3736884.05</td>\n",
       "    </tr>\n",
       "    <tr>\n",
       "      <th>2</th>\n",
       "      <td>Apr</td>\n",
       "      <td>3396059.11</td>\n",
       "    </tr>\n",
       "    <tr>\n",
       "      <th>3</th>\n",
       "      <td>Nov</td>\n",
       "      <td>3198909.23</td>\n",
       "    </tr>\n",
       "    <tr>\n",
       "      <th>4</th>\n",
       "      <td>May</td>\n",
       "      <td>3144584.80</td>\n",
       "    </tr>\n",
       "    <tr>\n",
       "      <th>5</th>\n",
       "      <td>Mar</td>\n",
       "      <td>2809063.30</td>\n",
       "    </tr>\n",
       "    <tr>\n",
       "      <th>6</th>\n",
       "      <td>Jul</td>\n",
       "      <td>2646899.69</td>\n",
       "    </tr>\n",
       "    <tr>\n",
       "      <th>7</th>\n",
       "      <td>Jun</td>\n",
       "      <td>2578293.30</td>\n",
       "    </tr>\n",
       "    <tr>\n",
       "      <th>8</th>\n",
       "      <td>Aug</td>\n",
       "      <td>2244412.31</td>\n",
       "    </tr>\n",
       "    <tr>\n",
       "      <th>9</th>\n",
       "      <td>Feb</td>\n",
       "      <td>2203481.24</td>\n",
       "    </tr>\n",
       "    <tr>\n",
       "      <th>10</th>\n",
       "      <td>Sep</td>\n",
       "      <td>2098816.70</td>\n",
       "    </tr>\n",
       "    <tr>\n",
       "      <th>11</th>\n",
       "      <td>Jan</td>\n",
       "      <td>1815335.12</td>\n",
       "    </tr>\n",
       "  </tbody>\n",
       "</table>\n",
       "</div>"
      ],
      "text/plain": [
       "   month   total_sum\n",
       "0    Dec  4619297.12\n",
       "1    Oct  3736884.05\n",
       "2    Apr  3396059.11\n",
       "3    Nov  3198909.23\n",
       "4    May  3144584.80\n",
       "5    Mar  2809063.30\n",
       "6    Jul  2646899.69\n",
       "7    Jun  2578293.30\n",
       "8    Aug  2244412.31\n",
       "9    Feb  2203481.24\n",
       "10   Sep  2098816.70\n",
       "11   Jan  1815335.12"
      ]
     },
     "execution_count": 332,
     "metadata": {},
     "output_type": "execute_result"
    }
   ],
   "source": [
    "monthly_sales_data = data.groupby(\"month\")[\"total\"].agg(total_sum = \"sum\").sort_values(by = \"total_sum\", ascending = False).reset_index()\n",
    "\n",
    "monthly_sales_data"
   ]
  },
  {
   "cell_type": "code",
   "execution_count": 333,
   "metadata": {},
   "outputs": [
    {
     "data": {
      "text/plain": [
       "[Text(0, 0, '4.6193e+06'),\n",
       " Text(0, 0, '3.73688e+06'),\n",
       " Text(0, 0, '3.39606e+06'),\n",
       " Text(0, 0, '3.19891e+06'),\n",
       " Text(0, 0, '3.14458e+06'),\n",
       " Text(0, 0, '2.80906e+06'),\n",
       " Text(0, 0, '2.6469e+06'),\n",
       " Text(0, 0, '2.57829e+06'),\n",
       " Text(0, 0, '2.24441e+06'),\n",
       " Text(0, 0, '2.20348e+06'),\n",
       " Text(0, 0, '2.09882e+06'),\n",
       " Text(0, 0, '1.81534e+06')]"
      ]
     },
     "execution_count": 333,
     "metadata": {},
     "output_type": "execute_result"
    },
    {
     "data": {
      "image/png": "[encoded data removed]",
      "text/plain": [
       "<Figure size 900x600 with 1 Axes>"
      ]
     },
     "metadata": {},
     "output_type": "display_data"
    }
   ],
   "source": [
    "figure, axes = plt.subplots(figsize = (9, 6))\n",
    "\n",
    "plt.title(\"Sales per Month\")\n",
    "axis = sns.barplot(data = monthly_sales_data, x = \"total_sum\", y = \"month\")\n",
    "axis.bar_label(axis.containers[0])"
   ]
  },
  {
   "cell_type": "markdown",
   "metadata": {},
   "source": [
    "##### Get sales per state"
   ]
  },
  {
   "cell_type": "code",
   "execution_count": 334,
   "metadata": {},
   "outputs": [
    {
     "data": {
      "text/html": [
       "<div>\n",
       "<style scoped>\n",
       "    .dataframe tbody tr th:only-of-type {\n",
       "        vertical-align: middle;\n",
       "    }\n",
       "\n",
       "    .dataframe tbody tr th {\n",
       "        vertical-align: top;\n",
       "    }\n",
       "\n",
       "    .dataframe thead th {\n",
       "        text-align: right;\n",
       "    }\n",
       "</style>\n",
       "<table border=\"1\" class=\"dataframe\">\n",
       "  <thead>\n",
       "    <tr style=\"text-align: right;\">\n",
       "      <th></th>\n",
       "      <th>order_id</th>\n",
       "      <th>product</th>\n",
       "      <th>quantity_ordered</th>\n",
       "      <th>price_each</th>\n",
       "      <th>order_date</th>\n",
       "      <th>purchase_address</th>\n",
       "      <th>month</th>\n",
       "      <th>total</th>\n",
       "      <th>state</th>\n",
       "    </tr>\n",
       "  </thead>\n",
       "  <tbody>\n",
       "    <tr>\n",
       "      <th>45311</th>\n",
       "      <td>184511</td>\n",
       "      <td>Wired Headphones</td>\n",
       "      <td>2</td>\n",
       "      <td>11.99</td>\n",
       "      <td>04/21/19 16:57</td>\n",
       "      <td>560 Washington St, San Francisco, CA 94016</td>\n",
       "      <td>Apr</td>\n",
       "      <td>23.98</td>\n",
       "      <td>San Francisco</td>\n",
       "    </tr>\n",
       "    <tr>\n",
       "      <th>72787</th>\n",
       "      <td>210672</td>\n",
       "      <td>AA Batteries (4-pack)</td>\n",
       "      <td>1</td>\n",
       "      <td>3.84</td>\n",
       "      <td>06/21/19 10:15</td>\n",
       "      <td>944 1st St, New York City, NY 10001</td>\n",
       "      <td>Jun</td>\n",
       "      <td>3.84</td>\n",
       "      <td>New York City</td>\n",
       "    </tr>\n",
       "    <tr>\n",
       "      <th>158146</th>\n",
       "      <td>292247</td>\n",
       "      <td>Lightning Charging Cable</td>\n",
       "      <td>1</td>\n",
       "      <td>14.95</td>\n",
       "      <td>11/13/19 23:43</td>\n",
       "      <td>67 7th St, Boston, MA 02215</td>\n",
       "      <td>Nov</td>\n",
       "      <td>14.95</td>\n",
       "      <td>Boston</td>\n",
       "    </tr>\n",
       "    <tr>\n",
       "      <th>161411</th>\n",
       "      <td>295353</td>\n",
       "      <td>Wired Headphones</td>\n",
       "      <td>1</td>\n",
       "      <td>11.99</td>\n",
       "      <td>11/17/19 13:51</td>\n",
       "      <td>115 Lake St, Boston, MA 02215</td>\n",
       "      <td>Nov</td>\n",
       "      <td>11.99</td>\n",
       "      <td>Boston</td>\n",
       "    </tr>\n",
       "    <tr>\n",
       "      <th>21611</th>\n",
       "      <td>161869</td>\n",
       "      <td>USB-C Charging Cable</td>\n",
       "      <td>1</td>\n",
       "      <td>11.95</td>\n",
       "      <td>02/09/19 11:15</td>\n",
       "      <td>79 Forest St, Los Angeles, CA 90001</td>\n",
       "      <td>Feb</td>\n",
       "      <td>11.95</td>\n",
       "      <td>Los Angeles</td>\n",
       "    </tr>\n",
       "  </tbody>\n",
       "</table>\n",
       "</div>"
      ],
      "text/plain": [
       "       order_id                   product  quantity_ordered  price_each  \\\n",
       "45311    184511          Wired Headphones                 2       11.99   \n",
       "72787    210672     AA Batteries (4-pack)                 1        3.84   \n",
       "158146   292247  Lightning Charging Cable                 1       14.95   \n",
       "161411   295353          Wired Headphones                 1       11.99   \n",
       "21611    161869      USB-C Charging Cable                 1       11.95   \n",
       "\n",
       "            order_date                            purchase_address month  \\\n",
       "45311   04/21/19 16:57  560 Washington St, San Francisco, CA 94016   Apr   \n",
       "72787   06/21/19 10:15         944 1st St, New York City, NY 10001   Jun   \n",
       "158146  11/13/19 23:43                 67 7th St, Boston, MA 02215   Nov   \n",
       "161411  11/17/19 13:51               115 Lake St, Boston, MA 02215   Nov   \n",
       "21611   02/09/19 11:15         79 Forest St, Los Angeles, CA 90001   Feb   \n",
       "\n",
       "        total          state  \n",
       "45311   23.98  San Francisco  \n",
       "72787    3.84  New York City  \n",
       "158146  14.95         Boston  \n",
       "161411  11.99         Boston  \n",
       "21611   11.95    Los Angeles  "
      ]
     },
     "execution_count": 334,
     "metadata": {},
     "output_type": "execute_result"
    }
   ],
   "source": [
    "# get state name from purchase_address\n",
    "\n",
    "def get_state(address):\n",
    "  return address.split(\",\")[1].strip(\" \")\n",
    "\n",
    "data[\"state\"] = data[\"purchase_address\"].apply(lambda x: get_state(x))\n",
    "\n",
    "data.sample(5)"
   ]
  },
  {
   "cell_type": "code",
   "execution_count": 335,
   "metadata": {},
   "outputs": [
    {
     "data": {
      "text/html": [
       "<div>\n",
       "<style scoped>\n",
       "    .dataframe tbody tr th:only-of-type {\n",
       "        vertical-align: middle;\n",
       "    }\n",
       "\n",
       "    .dataframe tbody tr th {\n",
       "        vertical-align: top;\n",
       "    }\n",
       "\n",
       "    .dataframe thead th {\n",
       "        text-align: right;\n",
       "    }\n",
       "</style>\n",
       "<table border=\"1\" class=\"dataframe\">\n",
       "  <thead>\n",
       "    <tr style=\"text-align: right;\">\n",
       "      <th></th>\n",
       "      <th>state</th>\n",
       "      <th>total</th>\n",
       "    </tr>\n",
       "  </thead>\n",
       "  <tbody>\n",
       "    <tr>\n",
       "      <th>0</th>\n",
       "      <td>San Francisco</td>\n",
       "      <td>8262203.91</td>\n",
       "    </tr>\n",
       "    <tr>\n",
       "      <th>1</th>\n",
       "      <td>Los Angeles</td>\n",
       "      <td>5452570.80</td>\n",
       "    </tr>\n",
       "    <tr>\n",
       "      <th>2</th>\n",
       "      <td>New York City</td>\n",
       "      <td>4664317.43</td>\n",
       "    </tr>\n",
       "    <tr>\n",
       "      <th>3</th>\n",
       "      <td>Boston</td>\n",
       "      <td>3661642.01</td>\n",
       "    </tr>\n",
       "    <tr>\n",
       "      <th>4</th>\n",
       "      <td>Atlanta</td>\n",
       "      <td>2795498.58</td>\n",
       "    </tr>\n",
       "    <tr>\n",
       "      <th>5</th>\n",
       "      <td>Dallas</td>\n",
       "      <td>2767975.40</td>\n",
       "    </tr>\n",
       "    <tr>\n",
       "      <th>6</th>\n",
       "      <td>Seattle</td>\n",
       "      <td>2747755.48</td>\n",
       "    </tr>\n",
       "    <tr>\n",
       "      <th>7</th>\n",
       "      <td>Portland</td>\n",
       "      <td>2320490.61</td>\n",
       "    </tr>\n",
       "    <tr>\n",
       "      <th>8</th>\n",
       "      <td>Austin</td>\n",
       "      <td>1819581.75</td>\n",
       "    </tr>\n",
       "  </tbody>\n",
       "</table>\n",
       "</div>"
      ],
      "text/plain": [
       "           state       total\n",
       "0  San Francisco  8262203.91\n",
       "1    Los Angeles  5452570.80\n",
       "2  New York City  4664317.43\n",
       "3         Boston  3661642.01\n",
       "4        Atlanta  2795498.58\n",
       "5         Dallas  2767975.40\n",
       "6        Seattle  2747755.48\n",
       "7       Portland  2320490.61\n",
       "8         Austin  1819581.75"
      ]
     },
     "execution_count": 335,
     "metadata": {},
     "output_type": "execute_result"
    }
   ],
   "source": [
    "state_sales_data = data.groupby(\"state\")[\"total\"].sum().sort_values(ascending = False).reset_index()\n",
    "\n",
    "state_sales_data"
   ]
  },
  {
   "cell_type": "code",
   "execution_count": 336,
   "metadata": {},
   "outputs": [
    {
     "data": {
      "text/plain": [
       "[Text(0, 0, '8.2622e+06'),\n",
       " Text(0, 0, '5.45257e+06'),\n",
       " Text(0, 0, '4.66432e+06'),\n",
       " Text(0, 0, '3.66164e+06'),\n",
       " Text(0, 0, '2.7955e+06'),\n",
       " Text(0, 0, '2.76798e+06'),\n",
       " Text(0, 0, '2.74776e+06'),\n",
       " Text(0, 0, '2.32049e+06'),\n",
       " Text(0, 0, '1.81958e+06')]"
      ]
     },
     "execution_count": 336,
     "metadata": {},
     "output_type": "execute_result"
    },
    {
     "data": {
      "image/png": "[encoded data removed]",
      "text/plain": [
       "<Figure size 900x600 with 1 Axes>"
      ]
     },
     "metadata": {},
     "output_type": "display_data"
    }
   ],
   "source": [
    "figure, axes = plt.subplots(figsize = (9, 6))\n",
    "\n",
    "plt.title(\"Sales per State\")\n",
    "axis = sns.barplot(data = state_sales_data, x = \"total\", y = \"state\")\n",
    "axis.bar_label(axis.containers[0])"
   ]
  },
  {
   "cell_type": "markdown",
   "metadata": {},
   "source": [
    "##### Get most sold product"
   ]
  },
  {
   "cell_type": "code",
   "execution_count": 337,
   "metadata": {},
   "outputs": [
    {
     "data": {
      "text/html": [
       "<div>\n",
       "<style scoped>\n",
       "    .dataframe tbody tr th:only-of-type {\n",
       "        vertical-align: middle;\n",
       "    }\n",
       "\n",
       "    .dataframe tbody tr th {\n",
       "        vertical-align: top;\n",
       "    }\n",
       "\n",
       "    .dataframe thead th {\n",
       "        text-align: right;\n",
       "    }\n",
       "</style>\n",
       "<table border=\"1\" class=\"dataframe\">\n",
       "  <thead>\n",
       "    <tr style=\"text-align: right;\">\n",
       "      <th></th>\n",
       "      <th>product</th>\n",
       "      <th>quantity_ordered</th>\n",
       "    </tr>\n",
       "  </thead>\n",
       "  <tbody>\n",
       "    <tr>\n",
       "      <th>0</th>\n",
       "      <td>AAA Batteries (4-pack)</td>\n",
       "      <td>31017</td>\n",
       "    </tr>\n",
       "    <tr>\n",
       "      <th>1</th>\n",
       "      <td>AA Batteries (4-pack)</td>\n",
       "      <td>27635</td>\n",
       "    </tr>\n",
       "    <tr>\n",
       "      <th>2</th>\n",
       "      <td>USB-C Charging Cable</td>\n",
       "      <td>23975</td>\n",
       "    </tr>\n",
       "    <tr>\n",
       "      <th>3</th>\n",
       "      <td>Lightning Charging Cable</td>\n",
       "      <td>23217</td>\n",
       "    </tr>\n",
       "    <tr>\n",
       "      <th>4</th>\n",
       "      <td>Wired Headphones</td>\n",
       "      <td>20557</td>\n",
       "    </tr>\n",
       "    <tr>\n",
       "      <th>5</th>\n",
       "      <td>Apple Airpods Headphones</td>\n",
       "      <td>15661</td>\n",
       "    </tr>\n",
       "    <tr>\n",
       "      <th>6</th>\n",
       "      <td>Bose SoundSport Headphones</td>\n",
       "      <td>13457</td>\n",
       "    </tr>\n",
       "    <tr>\n",
       "      <th>7</th>\n",
       "      <td>27in FHD Monitor</td>\n",
       "      <td>7550</td>\n",
       "    </tr>\n",
       "    <tr>\n",
       "      <th>8</th>\n",
       "      <td>iPhone</td>\n",
       "      <td>6849</td>\n",
       "    </tr>\n",
       "    <tr>\n",
       "      <th>9</th>\n",
       "      <td>27in 4K Gaming Monitor</td>\n",
       "      <td>6244</td>\n",
       "    </tr>\n",
       "    <tr>\n",
       "      <th>10</th>\n",
       "      <td>34in Ultrawide Monitor</td>\n",
       "      <td>6199</td>\n",
       "    </tr>\n",
       "    <tr>\n",
       "      <th>11</th>\n",
       "      <td>Google Phone</td>\n",
       "      <td>5532</td>\n",
       "    </tr>\n",
       "    <tr>\n",
       "      <th>12</th>\n",
       "      <td>Flatscreen TV</td>\n",
       "      <td>4819</td>\n",
       "    </tr>\n",
       "    <tr>\n",
       "      <th>13</th>\n",
       "      <td>Macbook Pro Laptop</td>\n",
       "      <td>4728</td>\n",
       "    </tr>\n",
       "    <tr>\n",
       "      <th>14</th>\n",
       "      <td>ThinkPad Laptop</td>\n",
       "      <td>4130</td>\n",
       "    </tr>\n",
       "    <tr>\n",
       "      <th>15</th>\n",
       "      <td>20in Monitor</td>\n",
       "      <td>4129</td>\n",
       "    </tr>\n",
       "    <tr>\n",
       "      <th>16</th>\n",
       "      <td>Vareebadd Phone</td>\n",
       "      <td>2068</td>\n",
       "    </tr>\n",
       "    <tr>\n",
       "      <th>17</th>\n",
       "      <td>LG Washing Machine</td>\n",
       "      <td>666</td>\n",
       "    </tr>\n",
       "    <tr>\n",
       "      <th>18</th>\n",
       "      <td>LG Dryer</td>\n",
       "      <td>646</td>\n",
       "    </tr>\n",
       "  </tbody>\n",
       "</table>\n",
       "</div>"
      ],
      "text/plain": [
       "                       product  quantity_ordered\n",
       "0       AAA Batteries (4-pack)             31017\n",
       "1        AA Batteries (4-pack)             27635\n",
       "2         USB-C Charging Cable             23975\n",
       "3     Lightning Charging Cable             23217\n",
       "4             Wired Headphones             20557\n",
       "5     Apple Airpods Headphones             15661\n",
       "6   Bose SoundSport Headphones             13457\n",
       "7             27in FHD Monitor              7550\n",
       "8                       iPhone              6849\n",
       "9       27in 4K Gaming Monitor              6244\n",
       "10      34in Ultrawide Monitor              6199\n",
       "11                Google Phone              5532\n",
       "12               Flatscreen TV              4819\n",
       "13          Macbook Pro Laptop              4728\n",
       "14             ThinkPad Laptop              4130\n",
       "15                20in Monitor              4129\n",
       "16             Vareebadd Phone              2068\n",
       "17          LG Washing Machine               666\n",
       "18                    LG Dryer               646"
      ]
     },
     "execution_count": 337,
     "metadata": {},
     "output_type": "execute_result"
    }
   ],
   "source": [
    "product_sales_data = data.groupby(\"product\")[\"quantity_ordered\"].sum().sort_values(ascending = False).reset_index()\n",
    "\n",
    "product_sales_data"
   ]
  },
  {
   "cell_type": "code",
   "execution_count": 338,
   "metadata": {},
   "outputs": [
    {
     "data": {
      "text/plain": [
       "[Text(0, 0, '31017'),\n",
       " Text(0, 0, '27635'),\n",
       " Text(0, 0, '23975'),\n",
       " Text(0, 0, '23217'),\n",
       " Text(0, 0, '20557'),\n",
       " Text(0, 0, '15661'),\n",
       " Text(0, 0, '13457'),\n",
       " Text(0, 0, '7550'),\n",
       " Text(0, 0, '6849'),\n",
       " Text(0, 0, '6244'),\n",
       " Text(0, 0, '6199'),\n",
       " Text(0, 0, '5532'),\n",
       " Text(0, 0, '4819'),\n",
       " Text(0, 0, '4728'),\n",
       " Text(0, 0, '4130'),\n",
       " Text(0, 0, '4129'),\n",
       " Text(0, 0, '2068'),\n",
       " Text(0, 0, '666'),\n",
       " Text(0, 0, '646')]"
      ]
     },
     "execution_count": 338,
     "metadata": {},
     "output_type": "execute_result"
    },
    {
     "data": {
      "image/png": "[encoded data removed]",
      "text/plain": [
       "<Figure size 900x600 with 1 Axes>"
      ]
     },
     "metadata": {},
     "output_type": "display_data"
    }
   ],
   "source": [
    "figure, axes = plt.subplots(figsize = (9, 6))\n",
    "\n",
    "plt.title(\"Sales per Product\")\n",
    "axis = sns.barplot(data = product_sales_data, x = \"quantity_ordered\", y = \"product\")\n",
    "axis.bar_label(axis.containers[0])"
   ]
  },
  {
   "cell_type": "markdown",
   "metadata": {},
   "source": [
    "##### Get best time to sale"
   ]
  },
  {
   "cell_type": "code",
   "execution_count": 339,
   "metadata": {},
   "outputs": [
    {
     "data": {
      "text/html": [
       "<div>\n",
       "<style scoped>\n",
       "    .dataframe tbody tr th:only-of-type {\n",
       "        vertical-align: middle;\n",
       "    }\n",
       "\n",
       "    .dataframe tbody tr th {\n",
       "        vertical-align: top;\n",
       "    }\n",
       "\n",
       "    .dataframe thead th {\n",
       "        text-align: right;\n",
       "    }\n",
       "</style>\n",
       "<table border=\"1\" class=\"dataframe\">\n",
       "  <thead>\n",
       "    <tr style=\"text-align: right;\">\n",
       "      <th></th>\n",
       "      <th>order_id</th>\n",
       "      <th>product</th>\n",
       "      <th>quantity_ordered</th>\n",
       "      <th>price_each</th>\n",
       "      <th>order_date</th>\n",
       "      <th>purchase_address</th>\n",
       "      <th>month</th>\n",
       "      <th>total</th>\n",
       "      <th>state</th>\n",
       "      <th>time</th>\n",
       "    </tr>\n",
       "  </thead>\n",
       "  <tbody>\n",
       "    <tr>\n",
       "      <th>110065</th>\n",
       "      <td>246298</td>\n",
       "      <td>iPhone</td>\n",
       "      <td>1</td>\n",
       "      <td>700.00</td>\n",
       "      <td>08/03/19 17:24</td>\n",
       "      <td>212 12th St, Boston, MA 02215</td>\n",
       "      <td>Aug</td>\n",
       "      <td>700.00</td>\n",
       "      <td>Boston</td>\n",
       "      <td>17:24</td>\n",
       "    </tr>\n",
       "    <tr>\n",
       "      <th>79812</th>\n",
       "      <td>217363</td>\n",
       "      <td>AAA Batteries (4-pack)</td>\n",
       "      <td>1</td>\n",
       "      <td>2.99</td>\n",
       "      <td>06/01/19 16:14</td>\n",
       "      <td>640 Sunset St, Portland, ME 04101</td>\n",
       "      <td>Jun</td>\n",
       "      <td>2.99</td>\n",
       "      <td>Portland</td>\n",
       "      <td>16:14</td>\n",
       "    </tr>\n",
       "    <tr>\n",
       "      <th>128916</th>\n",
       "      <td>264335</td>\n",
       "      <td>Apple Airpods Headphones</td>\n",
       "      <td>1</td>\n",
       "      <td>150.00</td>\n",
       "      <td>10/31/19 03:58</td>\n",
       "      <td>256 Willow St, Portland, OR 97035</td>\n",
       "      <td>Oct</td>\n",
       "      <td>150.00</td>\n",
       "      <td>Portland</td>\n",
       "      <td>03:58</td>\n",
       "    </tr>\n",
       "    <tr>\n",
       "      <th>134047</th>\n",
       "      <td>269245</td>\n",
       "      <td>Wired Headphones</td>\n",
       "      <td>1</td>\n",
       "      <td>11.99</td>\n",
       "      <td>10/18/19 07:50</td>\n",
       "      <td>952 14th St, San Francisco, CA 94016</td>\n",
       "      <td>Oct</td>\n",
       "      <td>11.99</td>\n",
       "      <td>San Francisco</td>\n",
       "      <td>07:50</td>\n",
       "    </tr>\n",
       "    <tr>\n",
       "      <th>120338</th>\n",
       "      <td>256141</td>\n",
       "      <td>AAA Batteries (4-pack)</td>\n",
       "      <td>2</td>\n",
       "      <td>2.99</td>\n",
       "      <td>09/11/19 09:43</td>\n",
       "      <td>946 Hickory St, Boston, MA 02215</td>\n",
       "      <td>Sep</td>\n",
       "      <td>5.98</td>\n",
       "      <td>Boston</td>\n",
       "      <td>09:43</td>\n",
       "    </tr>\n",
       "  </tbody>\n",
       "</table>\n",
       "</div>"
      ],
      "text/plain": [
       "       order_id                   product  quantity_ordered  price_each  \\\n",
       "110065   246298                    iPhone                 1      700.00   \n",
       "79812    217363    AAA Batteries (4-pack)                 1        2.99   \n",
       "128916   264335  Apple Airpods Headphones                 1      150.00   \n",
       "134047   269245          Wired Headphones                 1       11.99   \n",
       "120338   256141    AAA Batteries (4-pack)                 2        2.99   \n",
       "\n",
       "            order_date                      purchase_address month   total  \\\n",
       "110065  08/03/19 17:24         212 12th St, Boston, MA 02215   Aug  700.00   \n",
       "79812   06/01/19 16:14     640 Sunset St, Portland, ME 04101   Jun    2.99   \n",
       "128916  10/31/19 03:58     256 Willow St, Portland, OR 97035   Oct  150.00   \n",
       "134047  10/18/19 07:50  952 14th St, San Francisco, CA 94016   Oct   11.99   \n",
       "120338  09/11/19 09:43      946 Hickory St, Boston, MA 02215   Sep    5.98   \n",
       "\n",
       "                state   time  \n",
       "110065         Boston  17:24  \n",
       "79812        Portland  16:14  \n",
       "128916       Portland  03:58  \n",
       "134047  San Francisco  07:50  \n",
       "120338         Boston  09:43  "
      ]
     },
     "execution_count": 339,
     "metadata": {},
     "output_type": "execute_result"
    }
   ],
   "source": [
    "# add time column\n",
    "\n",
    "sale_times = []\n",
    "for sale in data[\"order_date\"]:\n",
    "  sale_times.append(sale.split(\" \")[1])\n",
    "\n",
    "data[\"time\"] = sale_times\n",
    "\n",
    "data.sample(5)"
   ]
  },
  {
   "cell_type": "code",
   "execution_count": 340,
   "metadata": {},
   "outputs": [
    {
     "data": {
      "text/html": [
       "<div>\n",
       "<style scoped>\n",
       "    .dataframe tbody tr th:only-of-type {\n",
       "        vertical-align: middle;\n",
       "    }\n",
       "\n",
       "    .dataframe tbody tr th {\n",
       "        vertical-align: top;\n",
       "    }\n",
       "\n",
       "    .dataframe thead th {\n",
       "        text-align: right;\n",
       "    }\n",
       "</style>\n",
       "<table border=\"1\" class=\"dataframe\">\n",
       "  <thead>\n",
       "    <tr style=\"text-align: right;\">\n",
       "      <th></th>\n",
       "      <th>time</th>\n",
       "      <th>quantity_ordered</th>\n",
       "      <th>total</th>\n",
       "    </tr>\n",
       "  </thead>\n",
       "  <tbody>\n",
       "    <tr>\n",
       "      <th>0</th>\n",
       "      <td>19:01</td>\n",
       "      <td>269</td>\n",
       "      <td>54503.14</td>\n",
       "    </tr>\n",
       "    <tr>\n",
       "      <th>1</th>\n",
       "      <td>12:21</td>\n",
       "      <td>270</td>\n",
       "      <td>54181.96</td>\n",
       "    </tr>\n",
       "    <tr>\n",
       "      <th>2</th>\n",
       "      <td>19:16</td>\n",
       "      <td>239</td>\n",
       "      <td>54156.39</td>\n",
       "    </tr>\n",
       "    <tr>\n",
       "      <th>3</th>\n",
       "      <td>20:13</td>\n",
       "      <td>269</td>\n",
       "      <td>53149.51</td>\n",
       "    </tr>\n",
       "    <tr>\n",
       "      <th>4</th>\n",
       "      <td>19:20</td>\n",
       "      <td>281</td>\n",
       "      <td>52903.41</td>\n",
       "    </tr>\n",
       "    <tr>\n",
       "      <th>...</th>\n",
       "      <td>...</td>\n",
       "      <td>...</td>\n",
       "      <td>...</td>\n",
       "    </tr>\n",
       "    <tr>\n",
       "      <th>1435</th>\n",
       "      <td>02:50</td>\n",
       "      <td>12</td>\n",
       "      <td>381.99</td>\n",
       "    </tr>\n",
       "    <tr>\n",
       "      <th>1436</th>\n",
       "      <td>03:57</td>\n",
       "      <td>11</td>\n",
       "      <td>317.63</td>\n",
       "    </tr>\n",
       "    <tr>\n",
       "      <th>1437</th>\n",
       "      <td>04:05</td>\n",
       "      <td>5</td>\n",
       "      <td>277.72</td>\n",
       "    </tr>\n",
       "    <tr>\n",
       "      <th>1438</th>\n",
       "      <td>03:59</td>\n",
       "      <td>10</td>\n",
       "      <td>177.29</td>\n",
       "    </tr>\n",
       "    <tr>\n",
       "      <th>1439</th>\n",
       "      <td>04:09</td>\n",
       "      <td>10</td>\n",
       "      <td>173.52</td>\n",
       "    </tr>\n",
       "  </tbody>\n",
       "</table>\n",
       "<p>1440 rows × 3 columns</p>\n",
       "</div>"
      ],
      "text/plain": [
       "       time  quantity_ordered     total\n",
       "0     19:01               269  54503.14\n",
       "1     12:21               270  54181.96\n",
       "2     19:16               239  54156.39\n",
       "3     20:13               269  53149.51\n",
       "4     19:20               281  52903.41\n",
       "...     ...               ...       ...\n",
       "1435  02:50                12    381.99\n",
       "1436  03:57                11    317.63\n",
       "1437  04:05                 5    277.72\n",
       "1438  03:59                10    177.29\n",
       "1439  04:09                10    173.52\n",
       "\n",
       "[1440 rows x 3 columns]"
      ]
     },
     "execution_count": 340,
     "metadata": {},
     "output_type": "execute_result"
    }
   ],
   "source": [
    "time_sales_data = data.groupby(\"time\")[[\"quantity_ordered\", \"total\"]].sum().sort_values(by = \"total\", ascending = False).reset_index()\n",
    "\n",
    "time_sales_data"
   ]
  },
  {
   "cell_type": "code",
   "execution_count": 341,
   "metadata": {},
   "outputs": [
    {
     "data": {
      "text/plain": [
       "[Text(0, 0, '269'),\n",
       " Text(0, 0, '270'),\n",
       " Text(0, 0, '239'),\n",
       " Text(0, 0, '269'),\n",
       " Text(0, 0, '281')]"
      ]
     },
     "execution_count": 341,
     "metadata": {},
     "output_type": "execute_result"
    },
    {
     "data": {
      "image/png": "[encoded data removed]",
      "text/plain": [
       "<Figure size 1500x500 with 2 Axes>"
      ]
     },
     "metadata": {},
     "output_type": "display_data"
    }
   ],
   "source": [
    "figure, axes = plt.subplots(1, 2, figsize = (15, 5))\n",
    "\n",
    "plt.title(\"Sales per Time\")\n",
    "ax1 = sns.barplot(data = time_sales_data.head(), x = \"total\", y = \"time\", ax = axes[0])\n",
    "ax1.bar_label(ax1.containers[0])\n",
    "\n",
    "ax2 = sns.barplot(data = time_sales_data.head(), x = \"quantity_ordered\", y = \"time\", ax = axes[1])\n",
    "ax2.bar_label(ax2.containers[0])"
   ]
  }
 ],
 "metadata": {
  "kernelspec": {
   "display_name": ".venv",
   "language": "python",
   "name": "python3"
  },
  "language_info": {
   "codemirror_mode": {
    "name": "ipython",
    "version": 3
   },
   "file_extension": ".py",
   "mimetype": "text/x-python",
   "name": "python",
   "nbconvert_exporter": "python",
   "pygments_lexer": "ipython3",
   "version": "3.10.11"
  }
 },
 "nbformat": 4,
 "nbformat_minor": 2
}
