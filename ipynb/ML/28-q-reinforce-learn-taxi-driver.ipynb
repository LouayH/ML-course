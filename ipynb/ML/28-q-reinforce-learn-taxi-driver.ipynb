{
 "cells": [
  {
   "cell_type": "markdown",
   "metadata": {},
   "source": [
    "#### Reinforced Learning with Q-Table"
   ]
  },
  {
   "cell_type": "markdown",
   "metadata": {},
   "source": [
    "* Create a table (2D array) that represents actions * states of the env\n",
    "* Set q-learn-score = 0 for each action in every state\n",
    "* Update the q-learn-score for the action in state after its done\n",
    "* New score = (1 - alpha) * current_state_q_learn_score + alpha * (reward + gamma * next_state_q_learn_score)\n",
    "* alpha is learning rate, gamma is a weight"
   ]
  },
  {
   "cell_type": "code",
   "execution_count": 4,
   "metadata": {},
   "outputs": [],
   "source": [
    "import gym"
   ]
  },
  {
   "cell_type": "code",
   "execution_count": 5,
   "metadata": {},
   "outputs": [],
   "source": [
    "env = gym.make(\"Taxi-v3\", render_mode = \"ansi\").env\n",
    "\n",
    "env.reset(seed = 0)\n",
    "\n",
    "env = env.unwrapped"
   ]
  },
  {
   "cell_type": "markdown",
   "metadata": {},
   "source": [
    "* R[0], G[1], B[2] & Y[3] are stops where Taxi can pick up and drop off riders\n",
    "* Blue stop is where to pick up the rider\n",
    "* Purple stop is where to drop off the rider\n",
    "\n",
    "`reset` method will ensure the stops' current places won't change on re-execute"
   ]
  },
  {
   "cell_type": "code",
   "execution_count": 6,
   "metadata": {},
   "outputs": [
    {
     "name": "stdout",
     "output_type": "stream",
     "text": [
      "+---------+\n",
      "|R: | : :G|\n",
      "| : | : : |\n",
      "| : : : : |\n",
      "|\u001b[43m \u001b[0m| : | : |\n",
      "|\u001b[35mY\u001b[0m| : |\u001b[34;1mB\u001b[0m: |\n",
      "+---------+\n",
      "\n",
      "\n"
     ]
    }
   ],
   "source": [
    "print(env.render())"
   ]
  },
  {
   "cell_type": "code",
   "execution_count": 7,
   "metadata": {},
   "outputs": [
    {
     "data": {
      "text/plain": [
       "array([[0., 0., 0., 0., 0., 0.],\n",
       "       [0., 0., 0., 0., 0., 0.],\n",
       "       [0., 0., 0., 0., 0., 0.],\n",
       "       ...,\n",
       "       [0., 0., 0., 0., 0., 0.],\n",
       "       [0., 0., 0., 0., 0., 0.],\n",
       "       [0., 0., 0., 0., 0., 0.]])"
      ]
     },
     "execution_count": 7,
     "metadata": {},
     "output_type": "execute_result"
    }
   ],
   "source": [
    "import numpy as np\n",
    "\n",
    "states = env.observation_space.n\n",
    "\n",
    "actions = env.action_space.n\n",
    "\n",
    "q_table = np.zeros([states, actions])\n",
    "\n",
    "q_table"
   ]
  },
  {
   "cell_type": "markdown",
   "metadata": {},
   "source": [
    "#### Train the driver"
   ]
  },
  {
   "cell_type": "code",
   "execution_count": 8,
   "metadata": {},
   "outputs": [],
   "source": [
    "alpha = 0.4\n",
    "gamma = 0.6\n",
    "\n",
    "def train():\n",
    "  state = env.reset()[0]\n",
    "\n",
    "  done = False\n",
    "\n",
    "  while not done:\n",
    "    # select the index of action with highest q-learn score in the current state\n",
    "    action = np.argmax(q_table[state])\n",
    "\n",
    "    current_state_q_learn_score = q_table[state, action]\n",
    "\n",
    "    next_state, reward, done, _, _ = env.step(action)\n",
    "\n",
    "    # return the action with highest q-learn-score in the next state\n",
    "    next_state_q_learn_score = np.max(q_table[next_state])\n",
    "\n",
    "    q_table[state, action] = (1 - alpha) * current_state_q_learn_score + alpha * (reward + gamma * next_state_q_learn_score)\n",
    "\n",
    "    state = next_state"
   ]
  },
  {
   "cell_type": "code",
   "execution_count": 9,
   "metadata": {},
   "outputs": [
    {
     "data": {
      "text/plain": [
       "'training finished'"
      ]
     },
     "execution_count": 9,
     "metadata": {},
     "output_type": "execute_result"
    }
   ],
   "source": [
    "episodes = 100000\n",
    "\n",
    "for i in range(episodes):\n",
    "  train()\n",
    "\n",
    "\"training finished\""
   ]
  },
  {
   "cell_type": "code",
   "execution_count": 10,
   "metadata": {},
   "outputs": [
    {
     "data": {
      "text/plain": [
       "array([[ 0.        ,  0.        ,  0.        ,  0.        ,  0.        ,\n",
       "         0.        ],\n",
       "       [-2.33785914, -2.34639386, -2.35004636, -2.34639386, -2.27325184,\n",
       "        -4.        ],\n",
       "       [-1.99901985, -1.97946063, -1.97912352, -1.97946063, -0.7504    ,\n",
       "        -4.        ],\n",
       "       ...,\n",
       "       [-1.45447014, -1.38927616, -1.45447014, -1.50226579, -4.        ,\n",
       "        -4.        ],\n",
       "       [-2.19147423, -2.19821217, -2.19147423, -2.17645319, -4.        ,\n",
       "        -4.        ],\n",
       "       [-0.736     , -0.736     , -0.736     ,  1.28      , -4.        ,\n",
       "        -4.        ]])"
      ]
     },
     "execution_count": 10,
     "metadata": {},
     "output_type": "execute_result"
    }
   ],
   "source": [
    "q_table"
   ]
  },
  {
   "cell_type": "markdown",
   "metadata": {},
   "source": [
    "#### Evaluate the driver after 100 rides"
   ]
  },
  {
   "cell_type": "code",
   "execution_count": 11,
   "metadata": {},
   "outputs": [],
   "source": [
    "def ride(record = False):\n",
    "  state = env.reset()[0]\n",
    "\n",
    "  done = False\n",
    "  epochs = 0\n",
    "  penalties = 0\n",
    "  frames = []\n",
    "\n",
    "  while not done:\n",
    "    # select the index of action with highest q-learn score in the current state\n",
    "    action = np.argmax(q_table[state])\n",
    "\n",
    "    state, reward, done, _, _ = env.step(action)\n",
    "\n",
    "    epochs +=1\n",
    "\n",
    "    if reward == -10:\n",
    "      penalties += 1\n",
    "\n",
    "    if record:\n",
    "      frames.append({\n",
    "        \"state\": state,\n",
    "        \"action\": action,\n",
    "        \"reward\": reward\n",
    "      })\n",
    "\n",
    "  return epochs, penalties, frames"
   ]
  },
  {
   "cell_type": "code",
   "execution_count": 12,
   "metadata": {},
   "outputs": [
    {
     "data": {
      "text/plain": [
       "('AVG time taken per episode:', 12.35, 'AVG penalties per episode:', 0.0)"
      ]
     },
     "execution_count": 12,
     "metadata": {},
     "output_type": "execute_result"
    }
   ],
   "source": [
    "episodes = 100\n",
    "total_epochs = 0\n",
    "total_penalties = 0\n",
    "\n",
    "for _ in range(episodes):\n",
    "  epochs, penalties, _ = ride()\n",
    "\n",
    "  total_epochs += epochs\n",
    "  total_penalties += penalties\n",
    "\n",
    "\"AVG time taken per episode:\", (total_epochs / episodes), \"AVG penalties per episode:\", (total_penalties / episodes)"
   ]
  },
  {
   "cell_type": "markdown",
   "metadata": {},
   "source": [
    "#### A ride with the driver"
   ]
  },
  {
   "cell_type": "code",
   "execution_count": 18,
   "metadata": {},
   "outputs": [
    {
     "data": {
      "text/plain": [
       "('time taken:', 9, 'penalties:', 0)"
      ]
     },
     "execution_count": 18,
     "metadata": {},
     "output_type": "execute_result"
    }
   ],
   "source": [
    "epochs, penalties, frames = ride(record = True)\n",
    "\n",
    "\"time taken:\", epochs, \"penalties:\", penalties"
   ]
  },
  {
   "cell_type": "code",
   "execution_count": 19,
   "metadata": {},
   "outputs": [
    {
     "name": "stdout",
     "output_type": "stream",
     "text": [
      "+---------+\n",
      "|R: | : :\u001b[35m\u001b[34;1m\u001b[43mG\u001b[0m\u001b[0m\u001b[0m|\n",
      "| : | : : |\n",
      "| : : : : |\n",
      "| | : | : |\n",
      "|Y| : |B: |\n",
      "+---------+\n",
      "  (Dropoff)\n",
      "\n",
      "time step: 9\n",
      "state: 85 action: DropOff reward: 20\n"
     ]
    }
   ],
   "source": [
    "from IPython.display import clear_output\n",
    "from time import sleep\n",
    "\n",
    "def print_frames(frames):\n",
    "  actions = [\"North\", \"South\", \"East\", \"West\", \"PickUp\", \"DropOff\"]\n",
    "\n",
    "  for i, frame in enumerate(frames):\n",
    "    clear_output(wait = True)\n",
    "    env.s = frame[\"state\"]\n",
    "    print (env.render())\n",
    "    print(\"time step:\", i + 1)\n",
    "    print(\"state:\", frame[\"state\"], \"action:\", actions[frame[\"action\"]], \"reward:\", frame[\"reward\"])\n",
    "    sleep(0.1)\n",
    "\n",
    "print_frames(frames)"
   ]
  }
 ],
 "metadata": {
  "kernelspec": {
   "display_name": ".venv",
   "language": "python",
   "name": "python3"
  },
  "language_info": {
   "codemirror_mode": {
    "name": "ipython",
    "version": 3
   },
   "file_extension": ".py",
   "mimetype": "text/x-python",
   "name": "python",
   "nbconvert_exporter": "python",
   "pygments_lexer": "ipython3",
   "version": "3.10.11"
  }
 },
 "nbformat": 4,
 "nbformat_minor": 2
}
