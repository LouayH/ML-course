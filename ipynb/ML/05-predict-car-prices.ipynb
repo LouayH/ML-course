{
 "cells": [
  {
   "cell_type": "code",
   "execution_count": 49,
   "metadata": {},
   "outputs": [
    {
     "data": {
      "text/html": [
       "<div>\n",
       "<style scoped>\n",
       "    .dataframe tbody tr th:only-of-type {\n",
       "        vertical-align: middle;\n",
       "    }\n",
       "\n",
       "    .dataframe tbody tr th {\n",
       "        vertical-align: top;\n",
       "    }\n",
       "\n",
       "    .dataframe thead th {\n",
       "        text-align: right;\n",
       "    }\n",
       "</style>\n",
       "<table border=\"1\" class=\"dataframe\">\n",
       "  <thead>\n",
       "    <tr style=\"text-align: right;\">\n",
       "      <th></th>\n",
       "      <th>Brand</th>\n",
       "      <th>Body</th>\n",
       "      <th>Mileage</th>\n",
       "      <th>EngineV</th>\n",
       "      <th>Engine Type</th>\n",
       "      <th>Registration</th>\n",
       "      <th>Year</th>\n",
       "      <th>Model</th>\n",
       "      <th>Price</th>\n",
       "    </tr>\n",
       "  </thead>\n",
       "  <tbody>\n",
       "    <tr>\n",
       "      <th>0</th>\n",
       "      <td>Mercedes-Benz</td>\n",
       "      <td>sedan</td>\n",
       "      <td>68</td>\n",
       "      <td>6.0</td>\n",
       "      <td>Petrol</td>\n",
       "      <td>yes</td>\n",
       "      <td>2011</td>\n",
       "      <td>S 600</td>\n",
       "      <td>300000.0</td>\n",
       "    </tr>\n",
       "    <tr>\n",
       "      <th>1</th>\n",
       "      <td>Mercedes-Benz</td>\n",
       "      <td>other</td>\n",
       "      <td>37</td>\n",
       "      <td>5.0</td>\n",
       "      <td>Petrol</td>\n",
       "      <td>yes</td>\n",
       "      <td>2012</td>\n",
       "      <td>G 500</td>\n",
       "      <td>300000.0</td>\n",
       "    </tr>\n",
       "    <tr>\n",
       "      <th>2</th>\n",
       "      <td>Mercedes-Benz</td>\n",
       "      <td>sedan</td>\n",
       "      <td>29</td>\n",
       "      <td>6.0</td>\n",
       "      <td>Petrol</td>\n",
       "      <td>yes</td>\n",
       "      <td>2011</td>\n",
       "      <td>S-Guard</td>\n",
       "      <td>295000.0</td>\n",
       "    </tr>\n",
       "    <tr>\n",
       "      <th>3</th>\n",
       "      <td>Mercedes-Benz</td>\n",
       "      <td>sedan</td>\n",
       "      <td>29</td>\n",
       "      <td>6.0</td>\n",
       "      <td>Petrol</td>\n",
       "      <td>yes</td>\n",
       "      <td>2011</td>\n",
       "      <td>S 600</td>\n",
       "      <td>295000.0</td>\n",
       "    </tr>\n",
       "    <tr>\n",
       "      <th>4</th>\n",
       "      <td>Mercedes-Benz</td>\n",
       "      <td>other</td>\n",
       "      <td>6</td>\n",
       "      <td>5.5</td>\n",
       "      <td>Petrol</td>\n",
       "      <td>yes</td>\n",
       "      <td>2016</td>\n",
       "      <td>S 63 AMG</td>\n",
       "      <td>250000.0</td>\n",
       "    </tr>\n",
       "  </tbody>\n",
       "</table>\n",
       "</div>"
      ],
      "text/plain": [
       "           Brand   Body  Mileage  EngineV Engine Type Registration  Year  \\\n",
       "0  Mercedes-Benz  sedan       68      6.0      Petrol          yes  2011   \n",
       "1  Mercedes-Benz  other       37      5.0      Petrol          yes  2012   \n",
       "2  Mercedes-Benz  sedan       29      6.0      Petrol          yes  2011   \n",
       "3  Mercedes-Benz  sedan       29      6.0      Petrol          yes  2011   \n",
       "4  Mercedes-Benz  other        6      5.5      Petrol          yes  2016   \n",
       "\n",
       "      Model     Price  \n",
       "0     S 600  300000.0  \n",
       "1     G 500  300000.0  \n",
       "2   S-Guard  295000.0  \n",
       "3     S 600  295000.0  \n",
       "4  S 63 AMG  250000.0  "
      ]
     },
     "execution_count": 49,
     "metadata": {},
     "output_type": "execute_result"
    }
   ],
   "source": [
    "import pandas as pd\n",
    "\n",
    "data = pd.read_csv(\"datasets/car-sales.csv\")\n",
    "\n",
    "data.head()"
   ]
  },
  {
   "cell_type": "markdown",
   "metadata": {},
   "source": [
    "#### Convert categorical features into numeric"
   ]
  },
  {
   "cell_type": "code",
   "execution_count": 50,
   "metadata": {},
   "outputs": [
    {
     "data": {
      "text/html": [
       "<div>\n",
       "<style scoped>\n",
       "    .dataframe tbody tr th:only-of-type {\n",
       "        vertical-align: middle;\n",
       "    }\n",
       "\n",
       "    .dataframe tbody tr th {\n",
       "        vertical-align: top;\n",
       "    }\n",
       "\n",
       "    .dataframe thead th {\n",
       "        text-align: right;\n",
       "    }\n",
       "</style>\n",
       "<table border=\"1\" class=\"dataframe\">\n",
       "  <thead>\n",
       "    <tr style=\"text-align: right;\">\n",
       "      <th></th>\n",
       "      <th>Brand</th>\n",
       "      <th>Body</th>\n",
       "      <th>Mileage</th>\n",
       "      <th>EngineV</th>\n",
       "      <th>Engine Type</th>\n",
       "      <th>Registration</th>\n",
       "      <th>Year</th>\n",
       "      <th>Model</th>\n",
       "      <th>Price</th>\n",
       "    </tr>\n",
       "  </thead>\n",
       "  <tbody>\n",
       "    <tr>\n",
       "      <th>2018</th>\n",
       "      <td>6</td>\n",
       "      <td>5</td>\n",
       "      <td>230</td>\n",
       "      <td>1.9</td>\n",
       "      <td>0</td>\n",
       "      <td>1</td>\n",
       "      <td>2009</td>\n",
       "      <td>279</td>\n",
       "      <td>11800.0</td>\n",
       "    </tr>\n",
       "    <tr>\n",
       "      <th>2283</th>\n",
       "      <td>6</td>\n",
       "      <td>2</td>\n",
       "      <td>1</td>\n",
       "      <td>1.4</td>\n",
       "      <td>3</td>\n",
       "      <td>1</td>\n",
       "      <td>2014</td>\n",
       "      <td>218</td>\n",
       "      <td>10493.0</td>\n",
       "    </tr>\n",
       "    <tr>\n",
       "      <th>2159</th>\n",
       "      <td>6</td>\n",
       "      <td>5</td>\n",
       "      <td>110</td>\n",
       "      <td>1.6</td>\n",
       "      <td>0</td>\n",
       "      <td>1</td>\n",
       "      <td>2012</td>\n",
       "      <td>104</td>\n",
       "      <td>10999.0</td>\n",
       "    </tr>\n",
       "    <tr>\n",
       "      <th>3167</th>\n",
       "      <td>6</td>\n",
       "      <td>4</td>\n",
       "      <td>160</td>\n",
       "      <td>2.8</td>\n",
       "      <td>3</td>\n",
       "      <td>1</td>\n",
       "      <td>2001</td>\n",
       "      <td>256</td>\n",
       "      <td>6800.0</td>\n",
       "    </tr>\n",
       "    <tr>\n",
       "      <th>1855</th>\n",
       "      <td>5</td>\n",
       "      <td>3</td>\n",
       "      <td>203</td>\n",
       "      <td>NaN</td>\n",
       "      <td>3</td>\n",
       "      <td>1</td>\n",
       "      <td>2005</td>\n",
       "      <td>105</td>\n",
       "      <td>12800.0</td>\n",
       "    </tr>\n",
       "  </tbody>\n",
       "</table>\n",
       "</div>"
      ],
      "text/plain": [
       "      Brand  Body  Mileage  EngineV  Engine Type  Registration  Year  Model  \\\n",
       "2018      6     5      230      1.9            0             1  2009    279   \n",
       "2283      6     2        1      1.4            3             1  2014    218   \n",
       "2159      6     5      110      1.6            0             1  2012    104   \n",
       "3167      6     4      160      2.8            3             1  2001    256   \n",
       "1855      5     3      203      NaN            3             1  2005    105   \n",
       "\n",
       "        Price  \n",
       "2018  11800.0  \n",
       "2283  10493.0  \n",
       "2159  10999.0  \n",
       "3167   6800.0  \n",
       "1855  12800.0  "
      ]
     },
     "execution_count": 50,
     "metadata": {},
     "output_type": "execute_result"
    }
   ],
   "source": [
    "from sklearn import preprocessing\n",
    "\n",
    "brandEncoder = preprocessing.LabelEncoder()\n",
    "brandEncoder.fit(data[\"Brand\"])\n",
    "data[\"Brand\"] = brandEncoder.transform(data[\"Brand\"])\n",
    "\n",
    "bodyEncoder = preprocessing.LabelEncoder()\n",
    "bodyEncoder.fit(data[\"Body\"])\n",
    "data[\"Body\"] = bodyEncoder.transform(data[\"Body\"])\n",
    "\n",
    "eTypeEncoder = preprocessing.LabelEncoder()\n",
    "eTypeEncoder.fit(data[\"Engine Type\"])\n",
    "data[\"Engine Type\"] = eTypeEncoder.transform(data[\"Engine Type\"])\n",
    "\n",
    "registrationEncoder = preprocessing.LabelEncoder()\n",
    "registrationEncoder.fit(data[\"Registration\"])\n",
    "data[\"Registration\"] = registrationEncoder.transform(data[\"Registration\"])\n",
    "\n",
    "modelEncoder = preprocessing.LabelEncoder()\n",
    "modelEncoder.fit(data[\"Model\"])\n",
    "data[\"Model\"] = modelEncoder.transform(data[\"Model\"])\n",
    "\n",
    "data.sample(5)\n",
    "\n"
   ]
  },
  {
   "cell_type": "code",
   "execution_count": 51,
   "metadata": {},
   "outputs": [
    {
     "name": "stdout",
     "output_type": "stream",
     "text": [
      "<class 'pandas.core.frame.DataFrame'>\n",
      "RangeIndex: 4173 entries, 0 to 4172\n",
      "Data columns (total 9 columns):\n",
      " #   Column        Non-Null Count  Dtype  \n",
      "---  ------        --------------  -----  \n",
      " 0   Brand         4173 non-null   int32  \n",
      " 1   Body          4173 non-null   int32  \n",
      " 2   Mileage       4173 non-null   int64  \n",
      " 3   EngineV       4025 non-null   float64\n",
      " 4   Engine Type   4173 non-null   int32  \n",
      " 5   Registration  4173 non-null   int32  \n",
      " 6   Year          4173 non-null   int64  \n",
      " 7   Model         4173 non-null   int32  \n",
      " 8   Price         4173 non-null   float64\n",
      "dtypes: float64(2), int32(5), int64(2)\n",
      "memory usage: 212.0 KB\n"
     ]
    }
   ],
   "source": [
    "data.info()"
   ]
  },
  {
   "cell_type": "code",
   "execution_count": 52,
   "metadata": {},
   "outputs": [],
   "source": [
    "data.fillna({ \"EngineV\": data[\"EngineV\"].mean() }, inplace = True)"
   ]
  },
  {
   "cell_type": "code",
   "execution_count": 53,
   "metadata": {},
   "outputs": [
    {
     "data": {
      "text/html": [
       "<div>\n",
       "<style scoped>\n",
       "    .dataframe tbody tr th:only-of-type {\n",
       "        vertical-align: middle;\n",
       "    }\n",
       "\n",
       "    .dataframe tbody tr th {\n",
       "        vertical-align: top;\n",
       "    }\n",
       "\n",
       "    .dataframe thead th {\n",
       "        text-align: right;\n",
       "    }\n",
       "</style>\n",
       "<table border=\"1\" class=\"dataframe\">\n",
       "  <thead>\n",
       "    <tr style=\"text-align: right;\">\n",
       "      <th></th>\n",
       "      <th>Brand</th>\n",
       "      <th>Body</th>\n",
       "      <th>Mileage</th>\n",
       "      <th>EngineV</th>\n",
       "      <th>Engine Type</th>\n",
       "      <th>Registration</th>\n",
       "      <th>Year</th>\n",
       "      <th>Model</th>\n",
       "      <th>Price</th>\n",
       "    </tr>\n",
       "  </thead>\n",
       "  <tbody>\n",
       "    <tr>\n",
       "      <th>count</th>\n",
       "      <td>4173.000000</td>\n",
       "      <td>4173.000000</td>\n",
       "      <td>4173.000000</td>\n",
       "      <td>4173.000000</td>\n",
       "      <td>4173.000000</td>\n",
       "      <td>4173.000000</td>\n",
       "      <td>4173.000000</td>\n",
       "      <td>4173.000000</td>\n",
       "      <td>4173.000000</td>\n",
       "    </tr>\n",
       "    <tr>\n",
       "      <th>mean</th>\n",
       "      <td>3.171340</td>\n",
       "      <td>2.562425</td>\n",
       "      <td>164.141625</td>\n",
       "      <td>2.762127</td>\n",
       "      <td>1.301941</td>\n",
       "      <td>0.905584</td>\n",
       "      <td>2006.365684</td>\n",
       "      <td>163.211598</td>\n",
       "      <td>19218.579430</td>\n",
       "    </tr>\n",
       "    <tr>\n",
       "      <th>std</th>\n",
       "      <td>2.084648</td>\n",
       "      <td>1.642627</td>\n",
       "      <td>104.763054</td>\n",
       "      <td>4.846869</td>\n",
       "      <td>1.359738</td>\n",
       "      <td>0.292442</td>\n",
       "      <td>6.685332</td>\n",
       "      <td>86.903844</td>\n",
       "      <td>24625.021129</td>\n",
       "    </tr>\n",
       "    <tr>\n",
       "      <th>min</th>\n",
       "      <td>0.000000</td>\n",
       "      <td>0.000000</td>\n",
       "      <td>0.000000</td>\n",
       "      <td>0.600000</td>\n",
       "      <td>0.000000</td>\n",
       "      <td>0.000000</td>\n",
       "      <td>1969.000000</td>\n",
       "      <td>0.000000</td>\n",
       "      <td>600.000000</td>\n",
       "    </tr>\n",
       "    <tr>\n",
       "      <th>25%</th>\n",
       "      <td>1.000000</td>\n",
       "      <td>1.000000</td>\n",
       "      <td>90.000000</td>\n",
       "      <td>1.900000</td>\n",
       "      <td>0.000000</td>\n",
       "      <td>1.000000</td>\n",
       "      <td>2003.000000</td>\n",
       "      <td>98.000000</td>\n",
       "      <td>6999.000000</td>\n",
       "    </tr>\n",
       "    <tr>\n",
       "      <th>50%</th>\n",
       "      <td>3.000000</td>\n",
       "      <td>3.000000</td>\n",
       "      <td>158.000000</td>\n",
       "      <td>2.200000</td>\n",
       "      <td>1.000000</td>\n",
       "      <td>1.000000</td>\n",
       "      <td>2007.000000</td>\n",
       "      <td>162.000000</td>\n",
       "      <td>11500.000000</td>\n",
       "    </tr>\n",
       "    <tr>\n",
       "      <th>75%</th>\n",
       "      <td>5.000000</td>\n",
       "      <td>3.000000</td>\n",
       "      <td>230.000000</td>\n",
       "      <td>3.000000</td>\n",
       "      <td>3.000000</td>\n",
       "      <td>1.000000</td>\n",
       "      <td>2012.000000</td>\n",
       "      <td>226.000000</td>\n",
       "      <td>21700.000000</td>\n",
       "    </tr>\n",
       "    <tr>\n",
       "      <th>max</th>\n",
       "      <td>6.000000</td>\n",
       "      <td>5.000000</td>\n",
       "      <td>980.000000</td>\n",
       "      <td>99.990000</td>\n",
       "      <td>3.000000</td>\n",
       "      <td>1.000000</td>\n",
       "      <td>2016.000000</td>\n",
       "      <td>305.000000</td>\n",
       "      <td>300000.000000</td>\n",
       "    </tr>\n",
       "  </tbody>\n",
       "</table>\n",
       "</div>"
      ],
      "text/plain": [
       "             Brand         Body      Mileage      EngineV  Engine Type  \\\n",
       "count  4173.000000  4173.000000  4173.000000  4173.000000  4173.000000   \n",
       "mean      3.171340     2.562425   164.141625     2.762127     1.301941   \n",
       "std       2.084648     1.642627   104.763054     4.846869     1.359738   \n",
       "min       0.000000     0.000000     0.000000     0.600000     0.000000   \n",
       "25%       1.000000     1.000000    90.000000     1.900000     0.000000   \n",
       "50%       3.000000     3.000000   158.000000     2.200000     1.000000   \n",
       "75%       5.000000     3.000000   230.000000     3.000000     3.000000   \n",
       "max       6.000000     5.000000   980.000000    99.990000     3.000000   \n",
       "\n",
       "       Registration         Year        Model          Price  \n",
       "count   4173.000000  4173.000000  4173.000000    4173.000000  \n",
       "mean       0.905584  2006.365684   163.211598   19218.579430  \n",
       "std        0.292442     6.685332    86.903844   24625.021129  \n",
       "min        0.000000  1969.000000     0.000000     600.000000  \n",
       "25%        1.000000  2003.000000    98.000000    6999.000000  \n",
       "50%        1.000000  2007.000000   162.000000   11500.000000  \n",
       "75%        1.000000  2012.000000   226.000000   21700.000000  \n",
       "max        1.000000  2016.000000   305.000000  300000.000000  "
      ]
     },
     "execution_count": 53,
     "metadata": {},
     "output_type": "execute_result"
    }
   ],
   "source": [
    "data.describe()"
   ]
  },
  {
   "cell_type": "code",
   "execution_count": 54,
   "metadata": {},
   "outputs": [
    {
     "data": {
      "text/plain": [
       "[Text(0, 0, 'Brand'),\n",
       " Text(0, 1, 'Body'),\n",
       " Text(0, 2, 'Mileage'),\n",
       " Text(0, 3, 'EngineV'),\n",
       " Text(0, 4, 'Engine Type'),\n",
       " Text(0, 5, 'Registration'),\n",
       " Text(0, 6, 'Year'),\n",
       " Text(0, 7, 'Model'),\n",
       " Text(0, 8, 'Price')]"
      ]
     },
     "execution_count": 54,
     "metadata": {},
     "output_type": "execute_result"
    },
    {
     "data": {
      "image/png": "[encoded data removed]",
      "text/plain": [
       "<Figure size 800x800 with 2 Axes>"
      ]
     },
     "metadata": {},
     "output_type": "display_data"
    }
   ],
   "source": [
    "import matplotlib.pyplot as plt\n",
    "\n",
    "correlations = data.corr()\n",
    "\n",
    "figure = plt.figure(figsize = (8, 8))\n",
    "\n",
    "axes = figure.add_subplot(1, 1, 1)\n",
    "\n",
    "corrAxis = axes.matshow(correlations, vmin = -1, vmax = 1)\n",
    "\n",
    "figure.colorbar(corrAxis)\n",
    "\n",
    "ticks = [0, 1, 2, 3, 4, 5, 6, 7, 8]\n",
    "\n",
    "axes.set_xticks(ticks)\n",
    "axes.set_yticks(ticks)\n",
    "\n",
    "axes.set_xticklabels(data.columns)\n",
    "axes.set_yticklabels(data.columns)"
   ]
  },
  {
   "cell_type": "code",
   "execution_count": 55,
   "metadata": {},
   "outputs": [],
   "source": [
    "x = data[[\"Brand\", \"Body\", \"Mileage\", \"Year\"]]\n",
    "y = data[\"Price\"]\n",
    "\n",
    "from sklearn.model_selection import train_test_split\n",
    "\n",
    "x_train, x_test, y_train, y_test = train_test_split(x.values, y.values)"
   ]
  },
  {
   "cell_type": "code",
   "execution_count": 56,
   "metadata": {},
   "outputs": [
    {
     "data": {
      "text/plain": [
       "('intercept',\n",
       " -2634462.6042495226,\n",
       " 'coefficient',\n",
       " array([-2363.56244181, -3022.4629282 ,   -47.47206109,  1334.17963962]))"
      ]
     },
     "execution_count": 56,
     "metadata": {},
     "output_type": "execute_result"
    }
   ],
   "source": [
    "from sklearn.linear_model import LinearRegression\n",
    "\n",
    "model = LinearRegression()\n",
    "\n",
    "model.fit(x_train, y_train)\n",
    "\n",
    "intercept = model.intercept_\n",
    "coefficient = model.coef_\n",
    "\n",
    "\"intercept\", intercept, \"coefficient\", coefficient"
   ]
  },
  {
   "cell_type": "code",
   "execution_count": 57,
   "metadata": {},
   "outputs": [],
   "source": [
    "y_predict = model.predict(x_test)"
   ]
  },
  {
   "cell_type": "code",
   "execution_count": 58,
   "metadata": {},
   "outputs": [
    {
     "data": {
      "text/plain": [
       "('mae:', 11102.09781106434, 'rmse', 21738.83232035922)"
      ]
     },
     "execution_count": 58,
     "metadata": {},
     "output_type": "execute_result"
    }
   ],
   "source": [
    "from sklearn import metrics\n",
    "from math import sqrt\n",
    "\n",
    "mae = metrics.mean_absolute_error(y_test, y_predict)\n",
    "mse = metrics.mean_squared_error(y_test, y_predict)\n",
    "rmse = sqrt(mse)\n",
    "\n",
    "\"mae:\", mae, \"rmse\", rmse"
   ]
  },
  {
   "cell_type": "code",
   "execution_count": 59,
   "metadata": {},
   "outputs": [
    {
     "data": {
      "text/plain": [
       "[[5, 3, 60, 2018]]"
      ]
     },
     "execution_count": 59,
     "metadata": {},
     "output_type": "execute_result"
    }
   ],
   "source": [
    "sample_data = [[\"Toyota\", \"sedan\", 60, 2018]]\n",
    "\n",
    "brand = sample_data[0][0]\n",
    "sample_data[0][0] = brandEncoder.transform([brand])[0]\n",
    "\n",
    "body = sample_data[0][1]\n",
    "sample_data[0][1] = bodyEncoder.transform([body])[0]\n",
    "\n",
    "sample_data\n"
   ]
  },
  {
   "cell_type": "code",
   "execution_count": 60,
   "metadata": {},
   "outputs": [
    {
     "data": {
      "text/plain": [
       "array([34178.38384572])"
      ]
     },
     "execution_count": 60,
     "metadata": {},
     "output_type": "execute_result"
    }
   ],
   "source": [
    "model.predict(sample_data)"
   ]
  },
  {
   "cell_type": "code",
   "execution_count": 68,
   "metadata": {},
   "outputs": [
    {
     "data": {
      "text/plain": [
       "34178.38384571625"
      ]
     },
     "execution_count": 68,
     "metadata": {},
     "output_type": "execute_result"
    }
   ],
   "source": [
    "sample_data = [5, 3, 60, 2018]\n",
    "\n",
    "intercept + coefficient[0] * sample_data[0] + coefficient[1] * sample_data[1] + coefficient[2] * sample_data[2] + coefficient[3] * sample_data[3]"
   ]
  }
 ],
 "metadata": {
  "kernelspec": {
   "display_name": ".venv",
   "language": "python",
   "name": "python3"
  },
  "language_info": {
   "codemirror_mode": {
    "name": "ipython",
    "version": 3
   },
   "file_extension": ".py",
   "mimetype": "text/x-python",
   "name": "python",
   "nbconvert_exporter": "python",
   "pygments_lexer": "ipython3",
   "version": "3.10.11"
  }
 },
 "nbformat": 4,
 "nbformat_minor": 2
}
