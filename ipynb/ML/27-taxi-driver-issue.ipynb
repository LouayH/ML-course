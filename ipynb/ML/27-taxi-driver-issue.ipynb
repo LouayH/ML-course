{
 "cells": [
  {
   "cell_type": "code",
   "execution_count": 3,
   "metadata": {},
   "outputs": [],
   "source": [
    "import gym"
   ]
  },
  {
   "cell_type": "code",
   "execution_count": 4,
   "metadata": {},
   "outputs": [],
   "source": [
    "env = gym.make(\"Taxi-v3\", render_mode = \"ansi\").env\n",
    "\n",
    "env.reset(seed = 0)\n",
    "\n",
    "env = env.unwrapped"
   ]
  },
  {
   "cell_type": "markdown",
   "metadata": {},
   "source": [
    "* R[0], G[1], B[2] & Y[3] are stops where Taxi can pick up and drop off riders\n",
    "* Blue stop is where to pick up the rider\n",
    "* Purple stop is where to drop off the rider\n",
    "\n",
    "`reset` method will ensure the stops' current places won't change on re-execute"
   ]
  },
  {
   "cell_type": "code",
   "execution_count": 5,
   "metadata": {},
   "outputs": [
    {
     "name": "stdout",
     "output_type": "stream",
     "text": [
      "+---------+\n",
      "|R: | : :G|\n",
      "| : | : : |\n",
      "| : : : : |\n",
      "|\u001b[43m \u001b[0m| : | : |\n",
      "|\u001b[35mY\u001b[0m| : |\u001b[34;1mB\u001b[0m: |\n",
      "+---------+\n",
      "\n",
      "\n"
     ]
    }
   ],
   "source": [
    "print(env.render())"
   ]
  },
  {
   "cell_type": "markdown",
   "metadata": {},
   "source": [
    "Possible actions: North[0], South[1], East[2], West[3], PickUp[4], DropOff[5]"
   ]
  },
  {
   "cell_type": "code",
   "execution_count": 6,
   "metadata": {},
   "outputs": [
    {
     "data": {
      "text/plain": [
       "('number of possbile actions:', Discrete(6))"
      ]
     },
     "execution_count": 6,
     "metadata": {},
     "output_type": "execute_result"
    }
   ],
   "source": [
    "\"number of possbile actions:\", env.action_space"
   ]
  },
  {
   "cell_type": "markdown",
   "metadata": {},
   "source": [
    "Possible states: number of locations (5*5) * 5 states of riders' location (at one of the 4 stops or in the taxi) * 4 possible destinations"
   ]
  },
  {
   "cell_type": "code",
   "execution_count": 7,
   "metadata": {},
   "outputs": [
    {
     "data": {
      "text/plain": [
       "('number of possible states', Discrete(500))"
      ]
     },
     "execution_count": 7,
     "metadata": {},
     "output_type": "execute_result"
    }
   ],
   "source": [
    "\"number of possible states\", env.observation_space"
   ]
  },
  {
   "cell_type": "markdown",
   "metadata": {},
   "source": [
    "`encode` returns status index for (location of the driver row index, column index, the stop to pick up the rider from, the stop to drop them off)"
   ]
  },
  {
   "cell_type": "code",
   "execution_count": 8,
   "metadata": {},
   "outputs": [
    {
     "data": {
      "text/plain": [
       "328"
      ]
     },
     "execution_count": 8,
     "metadata": {},
     "output_type": "execute_result"
    }
   ],
   "source": [
    "state = env.encode(3, 1, 2, 0)\n",
    "\n",
    "state"
   ]
  },
  {
   "cell_type": "code",
   "execution_count": 9,
   "metadata": {},
   "outputs": [
    {
     "name": "stdout",
     "output_type": "stream",
     "text": [
      "+---------+\n",
      "|\u001b[35mR\u001b[0m: | : :G|\n",
      "| : | : : |\n",
      "| : : : : |\n",
      "| |\u001b[43m \u001b[0m: | : |\n",
      "|\u001b[34;1mY\u001b[0m| : |B: |\n",
      "+---------+\n",
      "\n",
      "\n"
     ]
    }
   ],
   "source": [
    "env.s = state\n",
    "\n",
    "print (env.render())"
   ]
  },
  {
   "cell_type": "markdown",
   "metadata": {},
   "source": [
    "Get the reward for every possible action at the current state (probability, next_state, reward, is target)"
   ]
  },
  {
   "cell_type": "code",
   "execution_count": 10,
   "metadata": {},
   "outputs": [
    {
     "data": {
      "text/plain": [
       "{0: [(1.0, 428, -1, False)],\n",
       " 1: [(1.0, 228, -1, False)],\n",
       " 2: [(1.0, 348, -1, False)],\n",
       " 3: [(1.0, 328, -1, False)],\n",
       " 4: [(1.0, 328, -10, False)],\n",
       " 5: [(1.0, 328, -10, False)]}"
      ]
     },
     "execution_count": 10,
     "metadata": {},
     "output_type": "execute_result"
    }
   ],
   "source": [
    "env.P[env.s]"
   ]
  },
  {
   "cell_type": "markdown",
   "metadata": {},
   "source": [
    "#### A ride with the driver"
   ]
  },
  {
   "cell_type": "code",
   "execution_count": 18,
   "metadata": {},
   "outputs": [
    {
     "data": {
      "text/plain": [
       "('time taken:', 88, 'penalties:', 27)"
      ]
     },
     "execution_count": 18,
     "metadata": {},
     "output_type": "execute_result"
    }
   ],
   "source": [
    "done = False\n",
    "epochs = 0\n",
    "penalties = 0\n",
    "frames = []\n",
    "\n",
    "while not done:\n",
    "  # auto select action to perform\n",
    "  action = env.action_space.sample()\n",
    "\n",
    "  state, reward, done, _, _ = env.step(action)\n",
    "\n",
    "  epochs +=1\n",
    "\n",
    "  if reward == -10:\n",
    "    penalties += 1\n",
    "\n",
    "  frames.append({\n",
    "    \"state\": state,\n",
    "    \"action\": action,\n",
    "    \"reward\": reward\n",
    "  })\n",
    "\n",
    "\"time taken:\", epochs, \"penalties:\", penalties"
   ]
  },
  {
   "cell_type": "code",
   "execution_count": 19,
   "metadata": {},
   "outputs": [
    {
     "name": "stdout",
     "output_type": "stream",
     "text": [
      "+---------+\n",
      "|\u001b[35m\u001b[34;1m\u001b[43mR\u001b[0m\u001b[0m\u001b[0m: | : :G|\n",
      "| : | : : |\n",
      "| : : : : |\n",
      "| | : | : |\n",
      "|Y| : |B: |\n",
      "+---------+\n",
      "  (Dropoff)\n",
      "\n",
      "time step: 88\n",
      "state: 0 action: DropOff reward: 20\n"
     ]
    }
   ],
   "source": [
    "from IPython.display import clear_output\n",
    "from time import sleep\n",
    "\n",
    "def print_frames(frames):\n",
    "  actions = [\"North\", \"South\", \"East\", \"West\", \"PickUp\", \"DropOff\"]\n",
    "\n",
    "  for i, frame in enumerate(frames):\n",
    "    clear_output(wait = True)\n",
    "    env.s = frame[\"state\"]\n",
    "    print (env.render())\n",
    "    print(\"time step:\", i + 1)\n",
    "    print(\"state:\", frame[\"state\"], \"action:\", actions[frame[\"action\"]], \"reward:\", frame[\"reward\"])\n",
    "    sleep(0.1)\n",
    "\n",
    "print_frames(frames)\n"
   ]
  },
  {
   "cell_type": "markdown",
   "metadata": {},
   "source": [
    "#### Evaluate the driver after 100 rides"
   ]
  },
  {
   "cell_type": "code",
   "execution_count": 20,
   "metadata": {},
   "outputs": [],
   "source": [
    "def ride():\n",
    "  env.reset()\n",
    "\n",
    "  done = False\n",
    "  epochs = 0\n",
    "  penalties = 0\n",
    "\n",
    "  while not done:\n",
    "    # auto select action to perform\n",
    "    action = env.action_space.sample()\n",
    "\n",
    "    _, reward, done, _, _ = env.step(action)\n",
    "\n",
    "    epochs +=1\n",
    "\n",
    "    if reward == -10:\n",
    "      penalties += 1\n",
    "\n",
    "  return epochs, penalties"
   ]
  },
  {
   "cell_type": "code",
   "execution_count": 21,
   "metadata": {},
   "outputs": [
    {
     "data": {
      "text/plain": [
       "('AVG time taken per episode:', 2704.06, 'AVG penalties per episode:', 877.84)"
      ]
     },
     "execution_count": 21,
     "metadata": {},
     "output_type": "execute_result"
    }
   ],
   "source": [
    "episodes = 100\n",
    "total_epochs = 0\n",
    "total_penalties = 0\n",
    "\n",
    "for _ in range(episodes):\n",
    "  epochs, penalties = ride()\n",
    "\n",
    "  total_epochs += epochs\n",
    "  total_penalties += penalties\n",
    "\n",
    "\"AVG time taken per episode:\", (total_epochs / episodes), \"AVG penalties per episode:\", (total_penalties / episodes)\n"
   ]
  }
 ],
 "metadata": {
  "kernelspec": {
   "display_name": ".venv",
   "language": "python",
   "name": "python3"
  },
  "language_info": {
   "codemirror_mode": {
    "name": "ipython",
    "version": 3
   },
   "file_extension": ".py",
   "mimetype": "text/x-python",
   "name": "python",
   "nbconvert_exporter": "python",
   "pygments_lexer": "ipython3",
   "version": "3.10.11"
  }
 },
 "nbformat": 4,
 "nbformat_minor": 2
}
