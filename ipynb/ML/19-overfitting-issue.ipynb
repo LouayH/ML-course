{
 "cells": [
  {
   "cell_type": "code",
   "execution_count": 1,
   "metadata": {},
   "outputs": [],
   "source": [
    "from sklearn.datasets import make_classification\n",
    "\n",
    "x, y = make_classification(n_samples = 10000, n_features = 20, n_informative = 5, n_redundant = 15, random_state = 1)"
   ]
  },
  {
   "cell_type": "code",
   "execution_count": 2,
   "metadata": {},
   "outputs": [],
   "source": [
    "from sklearn.model_selection import train_test_split\n",
    "\n",
    "x_train, x_test, y_train, y_test = train_test_split(x, y, test_size = 0.3)"
   ]
  },
  {
   "cell_type": "code",
   "execution_count": 3,
   "metadata": {},
   "outputs": [
    {
     "name": "stdout",
     "output_type": "stream",
     "text": [
      "1, train: 0.767, test: 0.767\n",
      "2, train: 0.807, test: 0.805\n",
      "3, train: 0.877, test: 0.859\n",
      "4, train: 0.909, test: 0.887\n",
      "5, train: 0.916, test: 0.894\n",
      "6, train: 0.933, test: 0.906\n",
      "7, train: 0.943, test: 0.912\n",
      "8, train: 0.952, test: 0.913\n",
      "9, train: 0.958, test: 0.910\n",
      "10, train: 0.967, test: 0.917\n",
      "11, train: 0.976, test: 0.914\n",
      "12, train: 0.983, test: 0.912\n",
      "13, train: 0.986, test: 0.916\n",
      "14, train: 0.989, test: 0.916\n",
      "15, train: 0.992, test: 0.913\n",
      "16, train: 0.994, test: 0.906\n",
      "17, train: 0.997, test: 0.910\n",
      "18, train: 0.997, test: 0.909\n",
      "19, train: 0.998, test: 0.907\n",
      "20, train: 0.999, test: 0.909\n"
     ]
    }
   ],
   "source": [
    "from sklearn.tree import DecisionTreeClassifier\n",
    "from sklearn.metrics import accuracy_score\n",
    "\n",
    "for i in range(1, 21):\n",
    "  model = DecisionTreeClassifier(max_depth = i)\n",
    "  model.fit(x_train, y_train)\n",
    "\n",
    "  y_predict = model.predict(x_train)\n",
    "  train_accuracy = accuracy_score(y_train, y_predict)\n",
    "\n",
    "  y_predict = model.predict(x_test)\n",
    "  test_accuracy = accuracy_score(y_test, y_predict)\n",
    "\n",
    "  print(\"%d, train: %.3f, test: %.3f\" % (i, train_accuracy, test_accuracy))"
   ]
  },
  {
   "cell_type": "markdown",
   "metadata": {},
   "source": [
    "Train accuracy got increased each time, while test accuracy reached its peak (at 10 levels depth) then started to drop.\n",
    "\n",
    "Training should be stopped at 10 levels depth, otherwise overfitting will occur."
   ]
  }
 ],
 "metadata": {
  "kernelspec": {
   "display_name": ".venv",
   "language": "python",
   "name": "python3"
  },
  "language_info": {
   "codemirror_mode": {
    "name": "ipython",
    "version": 3
   },
   "file_extension": ".py",
   "mimetype": "text/x-python",
   "name": "python",
   "nbconvert_exporter": "python",
   "pygments_lexer": "ipython3",
   "version": "3.10.11"
  }
 },
 "nbformat": 4,
 "nbformat_minor": 2
}
